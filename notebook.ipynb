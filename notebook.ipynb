{
 "cells": [
  {
   "cell_type": "markdown",
   "id": "6688bbd8",
   "metadata": {},
   "source": [
    "## **Import Library**"
   ]
  },
  {
   "cell_type": "markdown",
   "id": "d73168ba",
   "metadata": {},
   "source": [
    "Mengimpor semua pustaka yang dibutuhkan untuk proyek sistem rekomendasi ini.\n",
    "\n",
    "Pustaka-pustaka ini dikelompokkan berdasarkan fungsinya:\n",
    "-   **Analisis Data:** `pandas` dan `numpy` untuk memuat dan memanipulasi data.\n",
    "-   **Visualisasi:** `matplotlib` dan `seaborn` untuk membuat plot dan memahami data secara visual.\n",
    "-   **Pemrosesan Teks (Content-Based):**\n",
    "    -   `TfidfVectorizer` dan `cosine_similarity` dari Scikit-learn untuk mengubah teks menjadi angka dan menghitung kemiripan antar item.\n",
    "    -   `Sastrawi` untuk melakukan *stopword removal* (membuang kata umum) dan *stemming* (mengubah kata ke bentuk dasarnya) pada teks Bahasa Indonesia.\n",
    "-   **Modeling (Collaborative Filtering):**\n",
    "    -   `tensorflow` dan `keras` untuk membangun dan melatih model *deep learning*.\n",
    "-   **Penyimpanan & Utilitas:** `os`, `pickle`, dan `joblib` untuk manajemen file dan penyimpanan model."
   ]
  },
  {
   "cell_type": "code",
   "execution_count": 1,
   "id": "1b53f754",
   "metadata": {},
   "outputs": [
    {
     "name": "stdout",
     "output_type": "stream",
     "text": [
      "Semua library yang dibutuhkan telah di-import.\n"
     ]
    }
   ],
   "source": [
    "# Library untuk analisis dan manipulasi data\n",
    "import pandas as pd\n",
    "import numpy as np\n",
    "\n",
    "# Library untuk visualisasi data\n",
    "import matplotlib.pyplot as plt\n",
    "import seaborn as sns\n",
    "import plotly.express as px\n",
    "\n",
    "# Library untuk pemrosesan teks (Content-Based Filtering)\n",
    "from sklearn.feature_extraction.text import TfidfVectorizer\n",
    "from sklearn.metrics.pairwise import cosine_similarity\n",
    "\n",
    "# Library Sastrawi untuk pemrosesan teks Bahasa Indonesia\n",
    "from Sastrawi.Stemmer.StemmerFactory import StemmerFactory\n",
    "from Sastrawi.StopWordRemover.StopWordRemoverFactory import StopWordRemoverFactory\n",
    "\n",
    "# Library untuk Collaborative Filtering dengan Deep Learning\n",
    "import tensorflow as tf\n",
    "from tensorflow import keras\n",
    "from tensorflow.keras import layers\n",
    "\n",
    "# Library untuk utilitas lain dan display tabel\n",
    "from IPython.display import display # Untuk menampilkan DataFrame dengan border\n",
    "import pickle # Untuk menyimpan model/objek Python\n",
    "import os # Untuk operasi sistem seperti membuat direktori\n",
    "import warnings\n",
    "warnings.filterwarnings('ignore') # Mengabaikan pesan warning untuk output lebih bersih\n",
    "print(\"Semua library yang dibutuhkan telah di-import.\")\n"
   ]
  },
  {
   "cell_type": "markdown",
   "id": "4ec241fc",
   "metadata": {},
   "source": [
    "**Hasil dan Insight:**\n",
    "\n",
    "Semua library yang dibutuhkan telah di-import."
   ]
  },
  {
   "cell_type": "markdown",
   "id": "fc4041e0",
   "metadata": {},
   "source": [
    "## **Definisi Fungsi dan Kelas**"
   ]
  },
  {
   "cell_type": "markdown",
   "id": "9fc34328",
   "metadata": {},
   "source": [
    "### Inisialisasi Variabel Global\n",
    "\n",
    "Pada tahap ini, kita menginisialisasi beberapa variabel \"global\" yang akan digunakan di seluruh notebook untuk menyimpan hasil dan melacak status proses. \n",
    "\n",
    "Variabel-variabel tersebut adalah:\n",
    "-   `results`: Sebuah *dictionary* kosong untuk menyimpan hasil evaluasi.\n",
    "-   `MODEL_CF_SUCCESS` & `MODEL_CBF_SUCCESS`: Dua buah *boolean flag* yang awalnya diatur ke `False`. Ini akan berubah menjadi `True` jika model terkait berhasil dilatih.\n",
    "-   `top_5_recs...`: Dua DataFrame kosong untuk menampung daftar rekomendasi yang akan dihasilkan nanti."
   ]
  },
  {
   "cell_type": "code",
   "execution_count": 2,
   "id": "7fb4cbc3",
   "metadata": {},
   "outputs": [
    {
     "name": "stdout",
     "output_type": "stream",
     "text": [
      "Variabel global telah diinisialisasi.\n"
     ]
    }
   ],
   "source": [
    "# Variabel untuk menyimpan hasil dan status model\n",
    "results = {}\n",
    "MODEL_CF_SUCCESS = False\n",
    "MODEL_CBF_SUCCESS = False\n",
    "\n",
    "# DataFrame untuk menyimpan hasil rekomendasi\n",
    "top_5_recs_cbf = pd.DataFrame()\n",
    "top_5_recs_cf_keras = pd.DataFrame()\n",
    "\n",
    "print(\"Variabel global telah diinisialisasi.\")"
   ]
  },
  {
   "cell_type": "markdown",
   "id": "a7ac0b43",
   "metadata": {},
   "source": [
    "**Hasil dan Insight:**\n",
    "-   Semua variabel yang didefinisikan sekarang ada di memori dan siap untuk diisi pada langkah-langkah berikutnya.\n",
    "-   Penggunaan *flag* seperti `MODEL_CF_SUCCESS` sangat berguna. Ini memungkinkan kita untuk menjalankan langkah-langkah selanjutnya secara kondisional. Contohnya, kita hanya akan menyimpan model jika *flag* ini bernilai `True`, yang menandakan proses pelatihan sebelumnya berhasil tanpa error."
   ]
  },
  {
   "cell_type": "markdown",
   "id": "aa91ccd7",
   "metadata": {},
   "source": [
    "### Fungsi untuk Preprocessing Teks (Sastrawi)\n",
    "\n",
    "Pada cell ini, kita mendefinisikan sebuah fungsi bernama `preprocess_text_sastrawi`. Fungsi ini dirancang khusus untuk membersihkan dan menstandarisasi teks dalam Bahasa Indonesia dengan melakukan tiga langkah utama:\n",
    "1.  **Lowercase:** Mengubah semua huruf dalam teks menjadi huruf kecil agar konsisten.\n",
    "2.  **Stemming:** Menggunakan *stemmer* dari pustaka `Sastrawi` untuk mengubah setiap kata ke bentuk dasarnya (misalnya, \"permandian\" menjadi \"mandi\").\n",
    "3.  **Stopword Removal:** Menggunakan *stopword remover* dari `Sastrawi` untuk menghapus kata-kata umum yang tidak memiliki makna signifikan (seperti \"dan\", \"yang\", \"di\", \"ke\", dll.)."
   ]
  },
  {
   "cell_type": "code",
   "execution_count": 3,
   "id": "7094d5ab",
   "metadata": {},
   "outputs": [
    {
     "name": "stdout",
     "output_type": "stream",
     "text": [
      "Fungsi untuk Pricessing telah berhasil didefinisikan\n"
     ]
    }
   ],
   "source": [
    "def preprocess_text_sastrawi(text, stemmer, stopword_remover):\n",
    "    if pd.isna(text) or text.strip() == '': return ''\n",
    "    text = text.lower()\n",
    "    text_stemmed = stemmer.stem(text)\n",
    "    text_cleaned = stopword_remover.remove(text_stemmed)\n",
    "    return text_cleaned\n",
    "\n",
    "print(\"Fungsi untuk Pricessing telah berhasil didefinisikan\")"
   ]
  },
  {
   "cell_type": "markdown",
   "id": "e576565a",
   "metadata": {},
   "source": [
    "**Hasil dan Insight:**\n",
    "-   Fungsi `preprocess_text_sastrawi` telah tersedia di memori dan siap digunakan untuk memproses seluruh data teks kita pada langkah berikutnya.\n",
    "-   Dengan melakukan stemming dan stopword removal, kita secara efektif mengurangi jumlah kata unik (kosakata) dan mengelompokkan kata-kata yang serupa. Ini akan membuat proses analisis kemiripan antar tempat di tahap selanjutnya menjadi jauh lebih akurat dan relevan secara makna."
   ]
  },
  {
   "cell_type": "markdown",
   "id": "e8b820f8",
   "metadata": {},
   "source": [
    "### Kelas Model Collaborative Filtering (RecommenderNet)\n",
    "\n",
    "Pada cell ini, kita mendefinisikan arsitektur lengkap dari model **Collaborative Filtering** berbasis *deep learning* menggunakan Keras. Model ini adalah implementasi dari **Matrix Factorization dengan Biases**. Komponen utamanya adalah:\n",
    "1.  **User & Place Embedding:** Layer yang mempelajari vektor fitur laten (selera pengguna dan karakteristik tempat).\n",
    "2.  **User & Place Bias:** Layer khusus yang mempelajari bias atau kecenderungan intrinsik dari setiap pengguna (misalnya, ada pengguna yang cenderung memberi rating tinggi) dan setiap tempat (misalnya, ada tempat yang cenderung populer).\n",
    "3.  **Metode `call`:** Mendefinisikan alur prediksi, yaitu: `Prediksi = (User Embedding · Place Embedding) + User Bias + Place Bias`."
   ]
  },
  {
   "cell_type": "code",
   "execution_count": 4,
   "id": "57455415",
   "metadata": {},
   "outputs": [
    {
     "name": "stdout",
     "output_type": "stream",
     "text": [
      "Kelas RecommenderNet telah berhasil didefinisikan\n"
     ]
    }
   ],
   "source": [
    "class RecommenderNet(tf.keras.Model):\n",
    "    def __init__(self, num_users, num_places, embedding_size=50, **kwargs):\n",
    "        super(RecommenderNet, self).__init__(**kwargs)\n",
    "        self.user_embedding = layers.Embedding(num_users, embedding_size, embeddings_initializer='he_normal', embeddings_regularizer=keras.regularizers.l2(1e-6))\n",
    "        self.user_bias = layers.Embedding(num_users, 1)\n",
    "        self.place_embedding = layers.Embedding(num_places, embedding_size, embeddings_initializer='he_normal', embeddings_regularizer=keras.regularizers.l2(1e-6))\n",
    "        self.place_bias = layers.Embedding(num_places, 1)\n",
    "    def call(self, inputs):\n",
    "        user_vector = self.user_embedding(inputs[:, 0])\n",
    "        user_bias_vec = self.user_bias(inputs[:, 0])\n",
    "        place_vector = self.place_embedding(inputs[:, 1])\n",
    "        place_bias_vec = self.place_bias(inputs[:, 1])\n",
    "        dot_user_place = tf.tensordot(user_vector, place_vector, 2)\n",
    "        x = dot_user_place + user_bias_vec + place_bias_vec\n",
    "        return tf.nn.sigmoid(x)\n",
    "\n",
    "print(\"Kelas RecommenderNet telah berhasil didefinisikan\")"
   ]
  },
  {
   "cell_type": "markdown",
   "id": "5540b689",
   "metadata": {},
   "source": [
    "**Hasil dan Insight:**\n",
    "-   Penggunaan *bias* adalah teknik canggih yang membuat model lebih kuat daripada sekadar *dot product* biasa.\n",
    "-   Output model menggunakan aktivasi **sigmoid**, yang berarti model ini dirancang untuk memprediksi rating yang telah dinormalisasi ke dalam rentang **0 hingga 1**."
   ]
  },
  {
   "cell_type": "markdown",
   "id": "14975788",
   "metadata": {},
   "source": [
    "### Fungsi untuk Mendapatkan Rekomendasi\n",
    "\n",
    "Pada cell ini mendefinisikan dua fungsi \"pembantu\" yang akan menjadi antarmuka akhir untuk mendapatkan hasil rekomendasi dari masing-masing model.\n",
    "1.  **`get_content_based_recommendations`:** Fungsi ini mengambil sebuah ID tempat, lalu menggunakan matriks *cosine similarity* yang sudah dihitung sebelumnya untuk menemukan dan mengembalikan N tempat lain yang paling mirip berdasarkan kontennya.\n",
    "2.  **`get_top_n_recommendations_keras_cf`:** Fungsi ini mengambil sebuah ID pengguna, kemudian:\n",
    "    -   Mengidentifikasi semua tempat yang **belum** pernah dikunjungi/dirating oleh pengguna tersebut.\n",
    "    -   Menggunakan model Keras (`RecommenderNet`) yang sudah dilatih untuk **memprediksi rating** pengguna untuk semua tempat tersebut.\n",
    "    -   Mengurutkan hasil prediksi dari yang tertinggi dan mengembalikan N tempat teratas."
   ]
  },
  {
   "cell_type": "code",
   "execution_count": 5,
   "id": "30ace9b3",
   "metadata": {},
   "outputs": [
    {
     "name": "stdout",
     "output_type": "stream",
     "text": [
      "Fungsi untuk Mendapatkan Rekomendasi telah berhasil didefinisikan.\n"
     ]
    }
   ],
   "source": [
    "def get_content_based_recommendations(place_id_ref, n=5, cosine_sim_matrix_param=None, tourism_df_param=None, id_to_idx_map_param=None):\n",
    "    if cosine_sim_matrix_param is None or tourism_df_param is None or id_to_idx_map_param is None:\n",
    "        return \"Model CBF belum siap.\"\n",
    "    if place_id_ref not in id_to_idx_map_param:\n",
    "        place_name_matches = tourism_df_param[tourism_df_param['Place_Name'] == place_id_ref]\n",
    "        if not place_name_matches.empty:\n",
    "            place_id_ref_from_name = place_name_matches['Place_Id'].iloc[0]\n",
    "            if place_id_ref_from_name in id_to_idx_map_param: idx = id_to_idx_map_param[place_id_ref_from_name]\n",
    "            else: return f\"ID Tempat (dari nama) '{place_id_ref_from_name}' tidak ditemukan di map.\"\n",
    "        else: return f\"ID Tempat atau Nama '{place_id_ref}' tidak ditemukan.\"\n",
    "    else: idx = id_to_idx_map_param[place_id_ref]    \n",
    "    sim_scores = list(enumerate(cosine_sim_matrix_param[idx]))\n",
    "    sim_scores = sorted(sim_scores, key=lambda x: x[1], reverse=True)[1:n+1]\n",
    "    place_indices = [i[0] for i in sim_scores]\n",
    "    recommendations_df = tourism_df_param.iloc[place_indices][['Place_Id', 'Place_Name', 'Category', 'Rating']].copy()\n",
    "    recommendations_df['similarity_score'] = [s[1] for s in sim_scores]\n",
    "    return recommendations_df\n",
    "\n",
    "def get_top_n_recommendations_keras_cf(user_real_id, n=5, model=None, tourism_df_all_yogya=None, rating_df_yogya_cf=None, mappings=None):\n",
    "    if model is None or mappings is None:\n",
    "        return \"Model CF belum siap.\"\n",
    "    user_to_user_encoded_cf = mappings['user_to_user_encoded']\n",
    "    place_to_place_encoded_cf = mappings['place_to_place_encoded']\n",
    "    place_encoded_to_place_cf = mappings['place_encoded_to_place']\n",
    "    \n",
    "    user_enc = user_to_user_encoded_cf.get(user_real_id)\n",
    "    if user_enc is None: return \"User ID tidak ditemukan dalam data training CF.\"\n",
    "    all_place_ids_yogya = tourism_df_all_yogya['Place_Id'].unique()\n",
    "    place_ids_in_cf_model_list = list(place_to_place_encoded_cf.keys())\n",
    "    rated_items_by_user = rating_df_yogya_cf[rating_df_yogya_cf['User_Id'] == user_real_id]['Place_Id'].unique()\n",
    "    candidate_items_for_prediction = [pid for pid in all_place_ids_yogya if pid in place_ids_in_cf_model_list and pid not in rated_items_by_user]\n",
    "    if not candidate_items_for_prediction: return pd.DataFrame(columns=['Place_Id', 'Place_Name', 'Category', 'Rating', 'Predicted_Normalized_Rating'])\n",
    "    place_encoded_candidates = [place_to_place_encoded_cf[pid] for pid in candidate_items_for_prediction]\n",
    "    user_place_array = np.array([[user_enc, place_enc] for place_enc in place_encoded_candidates])\n",
    "    predictions_normalized = model.predict(user_place_array, verbose=0).flatten()\n",
    "    top_indices = predictions_normalized.argsort()[-n:][::-1]\n",
    "    recommended_original_place_ids = [place_encoded_to_place_cf[place_encoded_candidates[i]] for i in top_indices]\n",
    "    recommendations_df = tourism_df_all_yogya[tourism_df_all_yogya['Place_Id'].isin(recommended_original_place_ids)][['Place_Id', 'Place_Name', 'Category', 'Rating']].copy()\n",
    "    pred_map = {place_encoded_to_place_cf[place_encoded_candidates[i]]: predictions_normalized[i] for i in top_indices}\n",
    "    recommendations_df['Predicted_Normalized_Rating'] = recommendations_df['Place_Id'].map(pred_map)\n",
    "    return recommendations_df.sort_values('Predicted_Normalized_Rating', ascending=False)\n",
    "\n",
    "print(\"Fungsi untuk Mendapatkan Rekomendasi telah berhasil didefinisikan.\")"
   ]
  },
  {
   "cell_type": "markdown",
   "id": "2594754f",
   "metadata": {},
   "source": [
    "**Hasil dan Insight:**\n",
    "- Kedua fungsi ini sekarang telah didefinisikan dan siap digunakan setelah model-model yang bersangkutan (matriks similarity untuk CBF dan model Keras untuk CF) selesai dibuat dan dilatih."
   ]
  },
  {
   "cell_type": "markdown",
   "id": "e5e58fcf",
   "metadata": {},
   "source": [
    "## **Data Understanding**"
   ]
  },
  {
   "cell_type": "markdown",
   "id": "3b557fea",
   "metadata": {},
   "source": [
    "### Memuat Dataset"
   ]
  },
  {
   "cell_type": "code",
   "execution_count": 6,
   "id": "4350966b",
   "metadata": {},
   "outputs": [
    {
     "name": "stdout",
     "output_type": "stream",
     "text": [
      "\n",
      "File CSV berhasil dimuat dari folder 'dataset/'.\n"
     ]
    }
   ],
   "source": [
    "# Memuat Dataset\n",
    "df_tourism_raw = pd.read_csv('dataset/tourism_with_id.csv')\n",
    "df_rating_raw = pd.read_csv('dataset/tourism_rating.csv')\n",
    "df_user_raw = pd.read_csv('dataset/user.csv')\n",
    "print(\"\\nFile CSV berhasil dimuat dari folder 'dataset/'.\")"
   ]
  },
  {
   "cell_type": "markdown",
   "id": "5c53e39d",
   "metadata": {},
   "source": [
    "### Membuat Salinan"
   ]
  },
  {
   "cell_type": "code",
   "execution_count": 7,
   "id": "ccd54da6",
   "metadata": {},
   "outputs": [
    {
     "name": "stdout",
     "output_type": "stream",
     "text": [
      "\n",
      "DataFrame berhasil dicopy untuk mengantisipasi data oroginal masih tersimpan rapi.\n"
     ]
    }
   ],
   "source": [
    "# Membuat salinan untuk diproses agar data mentah tetap ada jika diperlukan\n",
    "df_tourism = df_tourism_raw.copy()\n",
    "df_rating = df_rating_raw.copy()\n",
    "df_user = df_user_raw.copy()\n",
    "print(\"\\nDataFrame berhasil dicopy untuk mengantisipasi data oroginal masih tersimpan rapi.\")"
   ]
  },
  {
   "cell_type": "markdown",
   "id": "adb9aae7",
   "metadata": {},
   "source": [
    "### Informasi Umum dan Variabel Dataset"
   ]
  },
  {
   "cell_type": "markdown",
   "id": "4b0055f4",
   "metadata": {},
   "source": [
    "Pada tahap ini, kita melakukan analisis eksplorasi data (EDA) yang komprehensif pada dataset untuk memahami secara mendalam struktur, konten, dan kualitas data. Insight dari sini akan menjadi dasar untuk langkah pembersihan data dan rekayasa fitur selanjutnya. Kita menggunakan beberapa fungsi sekaligus untuk mendapatkan gambaran menyeluruh:\n",
    "-   `.info()` untuk ringkasan teknis.\n",
    "-   `.head()` dan `.tail()` untuk melihat sampel data secara kualitatif.\n",
    "-   `.describe()` untuk statistik pada kolom numerik penting.\n",
    "-   `.isnull().sum()` untuk menghitung nilai kosong secara presisi."
   ]
  },
  {
   "cell_type": "markdown",
   "id": "abbb1913",
   "metadata": {},
   "source": [
    "#### `df_tourism` (Tempat Wisata)"
   ]
  },
  {
   "cell_type": "code",
   "execution_count": 8,
   "id": "ff110d3f",
   "metadata": {},
   "outputs": [
    {
     "name": "stdout",
     "output_type": "stream",
     "text": [
      "Info Detail Variabel (df_tourism):\n",
      "<class 'pandas.core.frame.DataFrame'>\n",
      "RangeIndex: 437 entries, 0 to 436\n",
      "Data columns (total 13 columns):\n",
      " #   Column        Non-Null Count  Dtype  \n",
      "---  ------        --------------  -----  \n",
      " 0   Place_Id      437 non-null    int64  \n",
      " 1   Place_Name    437 non-null    object \n",
      " 2   Description   437 non-null    object \n",
      " 3   Category      437 non-null    object \n",
      " 4   City          437 non-null    object \n",
      " 5   Price         437 non-null    int64  \n",
      " 6   Rating        437 non-null    float64\n",
      " 7   Time_Minutes  205 non-null    float64\n",
      " 8   Coordinate    437 non-null    object \n",
      " 9   Lat           437 non-null    float64\n",
      " 10  Long          437 non-null    float64\n",
      " 11  Unnamed: 11   0 non-null      float64\n",
      " 12  Unnamed: 12   437 non-null    int64  \n",
      "dtypes: float64(5), int64(3), object(5)\n",
      "memory usage: 44.5+ KB\n",
      "\n",
      "Contoh Data Awal (df_tourism):\n"
     ]
    },
    {
     "data": {
      "text/html": [
       "<div>\n",
       "<style scoped>\n",
       "    .dataframe tbody tr th:only-of-type {\n",
       "        vertical-align: middle;\n",
       "    }\n",
       "\n",
       "    .dataframe tbody tr th {\n",
       "        vertical-align: top;\n",
       "    }\n",
       "\n",
       "    .dataframe thead th {\n",
       "        text-align: right;\n",
       "    }\n",
       "</style>\n",
       "<table border=\"1\" class=\"dataframe\">\n",
       "  <thead>\n",
       "    <tr style=\"text-align: right;\">\n",
       "      <th></th>\n",
       "      <th>Place_Id</th>\n",
       "      <th>Place_Name</th>\n",
       "      <th>Description</th>\n",
       "      <th>Category</th>\n",
       "      <th>City</th>\n",
       "      <th>Price</th>\n",
       "      <th>Rating</th>\n",
       "      <th>Time_Minutes</th>\n",
       "      <th>Coordinate</th>\n",
       "      <th>Lat</th>\n",
       "      <th>Long</th>\n",
       "      <th>Unnamed: 11</th>\n",
       "      <th>Unnamed: 12</th>\n",
       "    </tr>\n",
       "  </thead>\n",
       "  <tbody>\n",
       "    <tr>\n",
       "      <th>0</th>\n",
       "      <td>1</td>\n",
       "      <td>Monumen Nasional</td>\n",
       "      <td>Monumen Nasional atau yang populer disingkat d...</td>\n",
       "      <td>Budaya</td>\n",
       "      <td>Jakarta</td>\n",
       "      <td>20000</td>\n",
       "      <td>4.6</td>\n",
       "      <td>15.0</td>\n",
       "      <td>{'lat': -6.1753924, 'lng': 106.8271528}</td>\n",
       "      <td>-6.175392</td>\n",
       "      <td>106.827153</td>\n",
       "      <td>NaN</td>\n",
       "      <td>1</td>\n",
       "    </tr>\n",
       "    <tr>\n",
       "      <th>1</th>\n",
       "      <td>2</td>\n",
       "      <td>Kota Tua</td>\n",
       "      <td>Kota tua di Jakarta, yang juga bernama Kota Tu...</td>\n",
       "      <td>Budaya</td>\n",
       "      <td>Jakarta</td>\n",
       "      <td>0</td>\n",
       "      <td>4.6</td>\n",
       "      <td>90.0</td>\n",
       "      <td>{'lat': -6.137644799999999, 'lng': 106.8171245}</td>\n",
       "      <td>-6.137645</td>\n",
       "      <td>106.817125</td>\n",
       "      <td>NaN</td>\n",
       "      <td>2</td>\n",
       "    </tr>\n",
       "    <tr>\n",
       "      <th>2</th>\n",
       "      <td>3</td>\n",
       "      <td>Dunia Fantasi</td>\n",
       "      <td>Dunia Fantasi atau disebut juga Dufan adalah t...</td>\n",
       "      <td>Taman Hiburan</td>\n",
       "      <td>Jakarta</td>\n",
       "      <td>270000</td>\n",
       "      <td>4.6</td>\n",
       "      <td>360.0</td>\n",
       "      <td>{'lat': -6.125312399999999, 'lng': 106.8335377}</td>\n",
       "      <td>-6.125312</td>\n",
       "      <td>106.833538</td>\n",
       "      <td>NaN</td>\n",
       "      <td>3</td>\n",
       "    </tr>\n",
       "  </tbody>\n",
       "</table>\n",
       "</div>"
      ],
      "text/plain": [
       "   Place_Id        Place_Name  \\\n",
       "0         1  Monumen Nasional   \n",
       "1         2          Kota Tua   \n",
       "2         3     Dunia Fantasi   \n",
       "\n",
       "                                         Description       Category     City  \\\n",
       "0  Monumen Nasional atau yang populer disingkat d...         Budaya  Jakarta   \n",
       "1  Kota tua di Jakarta, yang juga bernama Kota Tu...         Budaya  Jakarta   \n",
       "2  Dunia Fantasi atau disebut juga Dufan adalah t...  Taman Hiburan  Jakarta   \n",
       "\n",
       "    Price  Rating  Time_Minutes  \\\n",
       "0   20000     4.6          15.0   \n",
       "1       0     4.6          90.0   \n",
       "2  270000     4.6         360.0   \n",
       "\n",
       "                                        Coordinate       Lat        Long  \\\n",
       "0          {'lat': -6.1753924, 'lng': 106.8271528} -6.175392  106.827153   \n",
       "1  {'lat': -6.137644799999999, 'lng': 106.8171245} -6.137645  106.817125   \n",
       "2  {'lat': -6.125312399999999, 'lng': 106.8335377} -6.125312  106.833538   \n",
       "\n",
       "   Unnamed: 11  Unnamed: 12  \n",
       "0          NaN            1  \n",
       "1          NaN            2  \n",
       "2          NaN            3  "
      ]
     },
     "metadata": {},
     "output_type": "display_data"
    },
    {
     "name": "stdout",
     "output_type": "stream",
     "text": [
      "Contoh Data Akhir (df_tourism):\n"
     ]
    },
    {
     "data": {
      "text/html": [
       "<div>\n",
       "<style scoped>\n",
       "    .dataframe tbody tr th:only-of-type {\n",
       "        vertical-align: middle;\n",
       "    }\n",
       "\n",
       "    .dataframe tbody tr th {\n",
       "        vertical-align: top;\n",
       "    }\n",
       "\n",
       "    .dataframe thead th {\n",
       "        text-align: right;\n",
       "    }\n",
       "</style>\n",
       "<table border=\"1\" class=\"dataframe\">\n",
       "  <thead>\n",
       "    <tr style=\"text-align: right;\">\n",
       "      <th></th>\n",
       "      <th>Place_Id</th>\n",
       "      <th>Place_Name</th>\n",
       "      <th>Description</th>\n",
       "      <th>Category</th>\n",
       "      <th>City</th>\n",
       "      <th>Price</th>\n",
       "      <th>Rating</th>\n",
       "      <th>Time_Minutes</th>\n",
       "      <th>Coordinate</th>\n",
       "      <th>Lat</th>\n",
       "      <th>Long</th>\n",
       "      <th>Unnamed: 11</th>\n",
       "      <th>Unnamed: 12</th>\n",
       "    </tr>\n",
       "  </thead>\n",
       "  <tbody>\n",
       "    <tr>\n",
       "      <th>434</th>\n",
       "      <td>435</td>\n",
       "      <td>Taman Air Mancur Menari Kenjeran</td>\n",
       "      <td>Air mancur menari atau dancing fountain juga a...</td>\n",
       "      <td>Taman Hiburan</td>\n",
       "      <td>Surabaya</td>\n",
       "      <td>0</td>\n",
       "      <td>4.4</td>\n",
       "      <td>45.0</td>\n",
       "      <td>{'lat': -7.2752955, 'lng': 112.7549381}</td>\n",
       "      <td>-7.275296</td>\n",
       "      <td>112.754938</td>\n",
       "      <td>NaN</td>\n",
       "      <td>435</td>\n",
       "    </tr>\n",
       "    <tr>\n",
       "      <th>435</th>\n",
       "      <td>436</td>\n",
       "      <td>Taman Flora Bratang Surabaya</td>\n",
       "      <td>Taman Flora adalah salah satu taman kota di Su...</td>\n",
       "      <td>Taman Hiburan</td>\n",
       "      <td>Surabaya</td>\n",
       "      <td>0</td>\n",
       "      <td>4.6</td>\n",
       "      <td>NaN</td>\n",
       "      <td>{'lat': -7.294330299999999, 'lng': 112.7617534}</td>\n",
       "      <td>-7.294330</td>\n",
       "      <td>112.761753</td>\n",
       "      <td>NaN</td>\n",
       "      <td>436</td>\n",
       "    </tr>\n",
       "    <tr>\n",
       "      <th>436</th>\n",
       "      <td>437</td>\n",
       "      <td>Gereja Perawan Maria Tak Berdosa Surabaya</td>\n",
       "      <td>Gereja Katolik Kelahiran Santa Perawan Maria m...</td>\n",
       "      <td>Tempat Ibadah</td>\n",
       "      <td>Surabaya</td>\n",
       "      <td>10000</td>\n",
       "      <td>4.8</td>\n",
       "      <td>NaN</td>\n",
       "      <td>{'lat': -7.2420758, 'lng': 112.7368158}</td>\n",
       "      <td>-7.242076</td>\n",
       "      <td>112.736816</td>\n",
       "      <td>NaN</td>\n",
       "      <td>437</td>\n",
       "    </tr>\n",
       "  </tbody>\n",
       "</table>\n",
       "</div>"
      ],
      "text/plain": [
       "     Place_Id                                 Place_Name  \\\n",
       "434       435           Taman Air Mancur Menari Kenjeran   \n",
       "435       436               Taman Flora Bratang Surabaya   \n",
       "436       437  Gereja Perawan Maria Tak Berdosa Surabaya   \n",
       "\n",
       "                                           Description       Category  \\\n",
       "434  Air mancur menari atau dancing fountain juga a...  Taman Hiburan   \n",
       "435  Taman Flora adalah salah satu taman kota di Su...  Taman Hiburan   \n",
       "436  Gereja Katolik Kelahiran Santa Perawan Maria m...  Tempat Ibadah   \n",
       "\n",
       "         City  Price  Rating  Time_Minutes  \\\n",
       "434  Surabaya      0     4.4          45.0   \n",
       "435  Surabaya      0     4.6           NaN   \n",
       "436  Surabaya  10000     4.8           NaN   \n",
       "\n",
       "                                          Coordinate       Lat        Long  \\\n",
       "434          {'lat': -7.2752955, 'lng': 112.7549381} -7.275296  112.754938   \n",
       "435  {'lat': -7.294330299999999, 'lng': 112.7617534} -7.294330  112.761753   \n",
       "436          {'lat': -7.2420758, 'lng': 112.7368158} -7.242076  112.736816   \n",
       "\n",
       "     Unnamed: 11  Unnamed: 12  \n",
       "434          NaN          435  \n",
       "435          NaN          436  \n",
       "436          NaN          437  "
      ]
     },
     "metadata": {},
     "output_type": "display_data"
    },
    {
     "name": "stdout",
     "output_type": "stream",
     "text": [
      "Statistik Deskriptif Harga (Price) dan Rating Publik (Rating) pada df_tourism:\n"
     ]
    },
    {
     "data": {
      "text/html": [
       "<div>\n",
       "<style scoped>\n",
       "    .dataframe tbody tr th:only-of-type {\n",
       "        vertical-align: middle;\n",
       "    }\n",
       "\n",
       "    .dataframe tbody tr th {\n",
       "        vertical-align: top;\n",
       "    }\n",
       "\n",
       "    .dataframe thead th {\n",
       "        text-align: right;\n",
       "    }\n",
       "</style>\n",
       "<table border=\"1\" class=\"dataframe\">\n",
       "  <thead>\n",
       "    <tr style=\"text-align: right;\">\n",
       "      <th></th>\n",
       "      <th>Price</th>\n",
       "      <th>Rating</th>\n",
       "    </tr>\n",
       "  </thead>\n",
       "  <tbody>\n",
       "    <tr>\n",
       "      <th>count</th>\n",
       "      <td>437.000000</td>\n",
       "      <td>437.000000</td>\n",
       "    </tr>\n",
       "    <tr>\n",
       "      <th>mean</th>\n",
       "      <td>24652.173913</td>\n",
       "      <td>4.442792</td>\n",
       "    </tr>\n",
       "    <tr>\n",
       "      <th>std</th>\n",
       "      <td>66446.374709</td>\n",
       "      <td>0.208587</td>\n",
       "    </tr>\n",
       "    <tr>\n",
       "      <th>min</th>\n",
       "      <td>0.000000</td>\n",
       "      <td>3.400000</td>\n",
       "    </tr>\n",
       "    <tr>\n",
       "      <th>25%</th>\n",
       "      <td>0.000000</td>\n",
       "      <td>4.300000</td>\n",
       "    </tr>\n",
       "    <tr>\n",
       "      <th>50%</th>\n",
       "      <td>5000.000000</td>\n",
       "      <td>4.500000</td>\n",
       "    </tr>\n",
       "    <tr>\n",
       "      <th>75%</th>\n",
       "      <td>20000.000000</td>\n",
       "      <td>4.600000</td>\n",
       "    </tr>\n",
       "    <tr>\n",
       "      <th>max</th>\n",
       "      <td>900000.000000</td>\n",
       "      <td>5.000000</td>\n",
       "    </tr>\n",
       "  </tbody>\n",
       "</table>\n",
       "</div>"
      ],
      "text/plain": [
       "               Price      Rating\n",
       "count     437.000000  437.000000\n",
       "mean    24652.173913    4.442792\n",
       "std     66446.374709    0.208587\n",
       "min         0.000000    3.400000\n",
       "25%         0.000000    4.300000\n",
       "50%      5000.000000    4.500000\n",
       "75%     20000.000000    4.600000\n",
       "max    900000.000000    5.000000"
      ]
     },
     "metadata": {},
     "output_type": "display_data"
    },
    {
     "name": "stdout",
     "output_type": "stream",
     "text": [
      "Cek nilai null di df_tourism:\n"
     ]
    },
    {
     "data": {
      "text/html": [
       "<div>\n",
       "<style scoped>\n",
       "    .dataframe tbody tr th:only-of-type {\n",
       "        vertical-align: middle;\n",
       "    }\n",
       "\n",
       "    .dataframe tbody tr th {\n",
       "        vertical-align: top;\n",
       "    }\n",
       "\n",
       "    .dataframe thead th {\n",
       "        text-align: right;\n",
       "    }\n",
       "</style>\n",
       "<table border=\"1\" class=\"dataframe\">\n",
       "  <thead>\n",
       "    <tr style=\"text-align: right;\">\n",
       "      <th></th>\n",
       "      <th>jumlah_null</th>\n",
       "    </tr>\n",
       "  </thead>\n",
       "  <tbody>\n",
       "    <tr>\n",
       "      <th>Place_Id</th>\n",
       "      <td>0</td>\n",
       "    </tr>\n",
       "    <tr>\n",
       "      <th>Place_Name</th>\n",
       "      <td>0</td>\n",
       "    </tr>\n",
       "    <tr>\n",
       "      <th>Description</th>\n",
       "      <td>0</td>\n",
       "    </tr>\n",
       "    <tr>\n",
       "      <th>Category</th>\n",
       "      <td>0</td>\n",
       "    </tr>\n",
       "    <tr>\n",
       "      <th>City</th>\n",
       "      <td>0</td>\n",
       "    </tr>\n",
       "    <tr>\n",
       "      <th>Price</th>\n",
       "      <td>0</td>\n",
       "    </tr>\n",
       "    <tr>\n",
       "      <th>Rating</th>\n",
       "      <td>0</td>\n",
       "    </tr>\n",
       "    <tr>\n",
       "      <th>Time_Minutes</th>\n",
       "      <td>232</td>\n",
       "    </tr>\n",
       "    <tr>\n",
       "      <th>Coordinate</th>\n",
       "      <td>0</td>\n",
       "    </tr>\n",
       "    <tr>\n",
       "      <th>Lat</th>\n",
       "      <td>0</td>\n",
       "    </tr>\n",
       "    <tr>\n",
       "      <th>Long</th>\n",
       "      <td>0</td>\n",
       "    </tr>\n",
       "    <tr>\n",
       "      <th>Unnamed: 11</th>\n",
       "      <td>437</td>\n",
       "    </tr>\n",
       "    <tr>\n",
       "      <th>Unnamed: 12</th>\n",
       "      <td>0</td>\n",
       "    </tr>\n",
       "  </tbody>\n",
       "</table>\n",
       "</div>"
      ],
      "text/plain": [
       "              jumlah_null\n",
       "Place_Id                0\n",
       "Place_Name              0\n",
       "Description             0\n",
       "Category                0\n",
       "City                    0\n",
       "Price                   0\n",
       "Rating                  0\n",
       "Time_Minutes          232\n",
       "Coordinate              0\n",
       "Lat                     0\n",
       "Long                    0\n",
       "Unnamed: 11           437\n",
       "Unnamed: 12             0"
      ]
     },
     "metadata": {},
     "output_type": "display_data"
    }
   ],
   "source": [
    "print(\"Info Detail Variabel (df_tourism):\")\n",
    "df_tourism.info()\n",
    "\n",
    "print(\"\\nContoh Data Awal (df_tourism):\")\n",
    "display(df_tourism.head(3))\n",
    "\n",
    "print(\"Contoh Data Akhir (df_tourism):\")\n",
    "display(df_tourism.tail(3))\n",
    "\n",
    "print(\"Statistik Deskriptif Harga (Price) dan Rating Publik (Rating) pada df_tourism:\")\n",
    "display(df_tourism[['Price', 'Rating']].describe())\n",
    "\n",
    "print(\"Cek nilai null di df_tourism:\")\n",
    "display(df_tourism.isnull().sum().to_frame(name='jumlah_null'))"
   ]
  },
  {
   "cell_type": "markdown",
   "id": "956045ba",
   "metadata": {},
   "source": [
    "**Hasil dan Insight:**\n",
    "\n",
    "-   **Struktur Data:**\n",
    "    -   Dataset ini berisi **437 tempat wisata** dengan **13 kolom fitur**.\n",
    "    -   Kolom-kolom utama seperti `Place_Name`, `Description`, dan `Category` tampaknya lengkap dan akan sangat berguna untuk model *Content-Based Filtering*.\n",
    "\n",
    "-   **Kualitas Data & Missing Values:**\n",
    "    -   **Kolom `Unnamed: 11` dan `Unnamed: 12`** terlihat seperti artefak atau sisa dari proses impor data. `Unnamed: 11` kosong sepenuhnya, sementara `Unnamed: 12` tampaknya duplikat dari `Place_Id`. Kedua kolom ini adalah kandidat kuat untuk **dihapus**.\n",
    "    -   Kolom **`Time_Minutes` memiliki 232 nilai kosong**, yang berarti lebih dari separuh data durasi kunjungan tidak tersedia. Jika fitur ini ingin digunakan, kita memerlukan strategi penanganan *missing value* yang jelas (misalnya, diisi dengan median atau dihapus).\n",
    "\n",
    "-   **Statistik & Distribusi:**\n",
    "    -   **Rating:** Rata-rata rating adalah **4.44**, yang sangat tinggi. Nilai minimumnya adalah **3.4**. Ini adalah insight yang sangat penting: dataset ini **tidak memiliki rating rendah** (1, 2, atau awal 3). Ini menandakan adanya *positive selection bias*, di mana data yang kita miliki cenderung berasal dari pengalaman yang positif.\n",
    "    -   **Price:** Terdapat rentang harga yang sangat lebar, dari **0 (gratis) hingga 900,000**. Standar deviasi yang sangat besar (66,446) dibandingkan dengan rata-ratanya (24,652) mengonfirmasi adanya beberapa tempat dengan harga tiket sangat mahal yang berperan sebagai *outlier*.\n",
    "\n",
    "- Data tempat wisata ini memiliki kualitas yang baik untuk fitur-fitur utamanya. Langkah selanjutnya yang perlu dilakukan adalah **pembersihan data**, yaitu membuang kolom-kolom yang tidak relevan (`Unnamed: 11`, `Unnamed: 12`) dan menentukan strategi untuk menangani nilai yang hilang pada kolom `Time_Minutes`."
   ]
  },
  {
   "cell_type": "markdown",
   "id": "4c8094b4",
   "metadata": {},
   "source": [
    "#### `df_rating` (Rating Pengguna)"
   ]
  },
  {
   "cell_type": "code",
   "execution_count": 9,
   "id": "fb6fa919",
   "metadata": {},
   "outputs": [
    {
     "name": "stdout",
     "output_type": "stream",
     "text": [
      "Info Detail Variabel (df_rating):\n",
      "<class 'pandas.core.frame.DataFrame'>\n",
      "RangeIndex: 10000 entries, 0 to 9999\n",
      "Data columns (total 3 columns):\n",
      " #   Column         Non-Null Count  Dtype\n",
      "---  ------         --------------  -----\n",
      " 0   User_Id        10000 non-null  int64\n",
      " 1   Place_Id       10000 non-null  int64\n",
      " 2   Place_Ratings  10000 non-null  int64\n",
      "dtypes: int64(3)\n",
      "memory usage: 234.5 KB\n",
      "\n",
      "Contoh Data Awal (df_rating):\n"
     ]
    },
    {
     "data": {
      "text/html": [
       "<div>\n",
       "<style scoped>\n",
       "    .dataframe tbody tr th:only-of-type {\n",
       "        vertical-align: middle;\n",
       "    }\n",
       "\n",
       "    .dataframe tbody tr th {\n",
       "        vertical-align: top;\n",
       "    }\n",
       "\n",
       "    .dataframe thead th {\n",
       "        text-align: right;\n",
       "    }\n",
       "</style>\n",
       "<table border=\"1\" class=\"dataframe\">\n",
       "  <thead>\n",
       "    <tr style=\"text-align: right;\">\n",
       "      <th></th>\n",
       "      <th>User_Id</th>\n",
       "      <th>Place_Id</th>\n",
       "      <th>Place_Ratings</th>\n",
       "    </tr>\n",
       "  </thead>\n",
       "  <tbody>\n",
       "    <tr>\n",
       "      <th>0</th>\n",
       "      <td>1</td>\n",
       "      <td>179</td>\n",
       "      <td>3</td>\n",
       "    </tr>\n",
       "    <tr>\n",
       "      <th>1</th>\n",
       "      <td>1</td>\n",
       "      <td>344</td>\n",
       "      <td>2</td>\n",
       "    </tr>\n",
       "    <tr>\n",
       "      <th>2</th>\n",
       "      <td>1</td>\n",
       "      <td>5</td>\n",
       "      <td>5</td>\n",
       "    </tr>\n",
       "  </tbody>\n",
       "</table>\n",
       "</div>"
      ],
      "text/plain": [
       "   User_Id  Place_Id  Place_Ratings\n",
       "0        1       179              3\n",
       "1        1       344              2\n",
       "2        1         5              5"
      ]
     },
     "metadata": {},
     "output_type": "display_data"
    },
    {
     "name": "stdout",
     "output_type": "stream",
     "text": [
      "Contoh Data Akhir (df_rating):\n"
     ]
    },
    {
     "data": {
      "text/html": [
       "<div>\n",
       "<style scoped>\n",
       "    .dataframe tbody tr th:only-of-type {\n",
       "        vertical-align: middle;\n",
       "    }\n",
       "\n",
       "    .dataframe tbody tr th {\n",
       "        vertical-align: top;\n",
       "    }\n",
       "\n",
       "    .dataframe thead th {\n",
       "        text-align: right;\n",
       "    }\n",
       "</style>\n",
       "<table border=\"1\" class=\"dataframe\">\n",
       "  <thead>\n",
       "    <tr style=\"text-align: right;\">\n",
       "      <th></th>\n",
       "      <th>User_Id</th>\n",
       "      <th>Place_Id</th>\n",
       "      <th>Place_Ratings</th>\n",
       "    </tr>\n",
       "  </thead>\n",
       "  <tbody>\n",
       "    <tr>\n",
       "      <th>9997</th>\n",
       "      <td>300</td>\n",
       "      <td>311</td>\n",
       "      <td>3</td>\n",
       "    </tr>\n",
       "    <tr>\n",
       "      <th>9998</th>\n",
       "      <td>300</td>\n",
       "      <td>279</td>\n",
       "      <td>4</td>\n",
       "    </tr>\n",
       "    <tr>\n",
       "      <th>9999</th>\n",
       "      <td>300</td>\n",
       "      <td>163</td>\n",
       "      <td>2</td>\n",
       "    </tr>\n",
       "  </tbody>\n",
       "</table>\n",
       "</div>"
      ],
      "text/plain": [
       "      User_Id  Place_Id  Place_Ratings\n",
       "9997      300       311              3\n",
       "9998      300       279              4\n",
       "9999      300       163              2"
      ]
     },
     "metadata": {},
     "output_type": "display_data"
    },
    {
     "name": "stdout",
     "output_type": "stream",
     "text": [
      "Statistik Deskriptif Rating Pengguna (Place_Ratings) pada df_rating:\n"
     ]
    },
    {
     "data": {
      "text/html": [
       "<div>\n",
       "<style scoped>\n",
       "    .dataframe tbody tr th:only-of-type {\n",
       "        vertical-align: middle;\n",
       "    }\n",
       "\n",
       "    .dataframe tbody tr th {\n",
       "        vertical-align: top;\n",
       "    }\n",
       "\n",
       "    .dataframe thead th {\n",
       "        text-align: right;\n",
       "    }\n",
       "</style>\n",
       "<table border=\"1\" class=\"dataframe\">\n",
       "  <thead>\n",
       "    <tr style=\"text-align: right;\">\n",
       "      <th></th>\n",
       "      <th>statistik_place_ratings</th>\n",
       "    </tr>\n",
       "  </thead>\n",
       "  <tbody>\n",
       "    <tr>\n",
       "      <th>count</th>\n",
       "      <td>10000.000000</td>\n",
       "    </tr>\n",
       "    <tr>\n",
       "      <th>mean</th>\n",
       "      <td>3.066500</td>\n",
       "    </tr>\n",
       "    <tr>\n",
       "      <th>std</th>\n",
       "      <td>1.379952</td>\n",
       "    </tr>\n",
       "    <tr>\n",
       "      <th>min</th>\n",
       "      <td>1.000000</td>\n",
       "    </tr>\n",
       "    <tr>\n",
       "      <th>25%</th>\n",
       "      <td>2.000000</td>\n",
       "    </tr>\n",
       "    <tr>\n",
       "      <th>50%</th>\n",
       "      <td>3.000000</td>\n",
       "    </tr>\n",
       "    <tr>\n",
       "      <th>75%</th>\n",
       "      <td>4.000000</td>\n",
       "    </tr>\n",
       "    <tr>\n",
       "      <th>max</th>\n",
       "      <td>5.000000</td>\n",
       "    </tr>\n",
       "  </tbody>\n",
       "</table>\n",
       "</div>"
      ],
      "text/plain": [
       "       statistik_place_ratings\n",
       "count             10000.000000\n",
       "mean                  3.066500\n",
       "std                   1.379952\n",
       "min                   1.000000\n",
       "25%                   2.000000\n",
       "50%                   3.000000\n",
       "75%                   4.000000\n",
       "max                   5.000000"
      ]
     },
     "metadata": {},
     "output_type": "display_data"
    },
    {
     "name": "stdout",
     "output_type": "stream",
     "text": [
      "Cek nilai null di df_rating:\n"
     ]
    },
    {
     "data": {
      "text/html": [
       "<div>\n",
       "<style scoped>\n",
       "    .dataframe tbody tr th:only-of-type {\n",
       "        vertical-align: middle;\n",
       "    }\n",
       "\n",
       "    .dataframe tbody tr th {\n",
       "        vertical-align: top;\n",
       "    }\n",
       "\n",
       "    .dataframe thead th {\n",
       "        text-align: right;\n",
       "    }\n",
       "</style>\n",
       "<table border=\"1\" class=\"dataframe\">\n",
       "  <thead>\n",
       "    <tr style=\"text-align: right;\">\n",
       "      <th></th>\n",
       "      <th>jumlah_null</th>\n",
       "    </tr>\n",
       "  </thead>\n",
       "  <tbody>\n",
       "    <tr>\n",
       "      <th>User_Id</th>\n",
       "      <td>0</td>\n",
       "    </tr>\n",
       "    <tr>\n",
       "      <th>Place_Id</th>\n",
       "      <td>0</td>\n",
       "    </tr>\n",
       "    <tr>\n",
       "      <th>Place_Ratings</th>\n",
       "      <td>0</td>\n",
       "    </tr>\n",
       "  </tbody>\n",
       "</table>\n",
       "</div>"
      ],
      "text/plain": [
       "               jumlah_null\n",
       "User_Id                  0\n",
       "Place_Id                 0\n",
       "Place_Ratings            0"
      ]
     },
     "metadata": {},
     "output_type": "display_data"
    }
   ],
   "source": [
    "print(\"Info Detail Variabel (df_rating):\")\n",
    "df_rating.info()\n",
    "\n",
    "print(\"\\nContoh Data Awal (df_rating):\")\n",
    "display(df_rating.head(3))\n",
    "\n",
    "print(\"Contoh Data Akhir (df_rating):\")\n",
    "display(df_rating.tail(3))\n",
    "\n",
    "print(\"Statistik Deskriptif Rating Pengguna (Place_Ratings) pada df_rating:\")\n",
    "display(df_rating['Place_Ratings'].describe().to_frame(name='statistik_place_ratings'))\n",
    "\n",
    "print(\"Cek nilai null di df_rating:\")\n",
    "display(df_rating.isnull().sum().to_frame(name='jumlah_null'))"
   ]
  },
  {
   "cell_type": "markdown",
   "id": "6cef188f",
   "metadata": {},
   "source": [
    "**Hasil dan Insight:**\n",
    "\n",
    "-   **Struktur dan Kualitas Data:**\n",
    "    -   Dataset ini berisi **10,000 baris data rating**, yang berarti ada 10,000 interaksi unik antara pengguna dan tempat.\n",
    "    -   Kualitas datanya sangat baik, **tidak ada satupun nilai yang hilang (zero missing values)** di semua kolom.\n",
    "\n",
    "-   **Statistik & Distribusi Rating Pengguna:**\n",
    "    -   Rating yang diberikan oleh pengguna mencakup **skala penuh dari 1 hingga 5**.\n",
    "    -   Rata-rata rating (`mean`) adalah **3.07** dengan median (`50%`) di angka **3**.\n",
    "    -   Data `Place_Ratings` dari pengguna ini terdistribusi lebih seimbang di sekitar nilai tengah."
   ]
  },
  {
   "cell_type": "markdown",
   "id": "2e4d9218",
   "metadata": {},
   "source": [
    "#### `df_user` (Pengguna)"
   ]
  },
  {
   "cell_type": "code",
   "execution_count": 10,
   "id": "06af3c9f",
   "metadata": {},
   "outputs": [
    {
     "name": "stdout",
     "output_type": "stream",
     "text": [
      "Info Detail Variabel (df_user):\n",
      "<class 'pandas.core.frame.DataFrame'>\n",
      "RangeIndex: 300 entries, 0 to 299\n",
      "Data columns (total 3 columns):\n",
      " #   Column    Non-Null Count  Dtype \n",
      "---  ------    --------------  ----- \n",
      " 0   User_Id   300 non-null    int64 \n",
      " 1   Location  300 non-null    object\n",
      " 2   Age       300 non-null    int64 \n",
      "dtypes: int64(2), object(1)\n",
      "memory usage: 7.2+ KB\n",
      "\n",
      "Contoh Data Awal (df_user):\n"
     ]
    },
    {
     "data": {
      "text/html": [
       "<div>\n",
       "<style scoped>\n",
       "    .dataframe tbody tr th:only-of-type {\n",
       "        vertical-align: middle;\n",
       "    }\n",
       "\n",
       "    .dataframe tbody tr th {\n",
       "        vertical-align: top;\n",
       "    }\n",
       "\n",
       "    .dataframe thead th {\n",
       "        text-align: right;\n",
       "    }\n",
       "</style>\n",
       "<table border=\"1\" class=\"dataframe\">\n",
       "  <thead>\n",
       "    <tr style=\"text-align: right;\">\n",
       "      <th></th>\n",
       "      <th>User_Id</th>\n",
       "      <th>Location</th>\n",
       "      <th>Age</th>\n",
       "    </tr>\n",
       "  </thead>\n",
       "  <tbody>\n",
       "    <tr>\n",
       "      <th>0</th>\n",
       "      <td>1</td>\n",
       "      <td>Semarang, Jawa Tengah</td>\n",
       "      <td>20</td>\n",
       "    </tr>\n",
       "    <tr>\n",
       "      <th>1</th>\n",
       "      <td>2</td>\n",
       "      <td>Bekasi, Jawa Barat</td>\n",
       "      <td>21</td>\n",
       "    </tr>\n",
       "    <tr>\n",
       "      <th>2</th>\n",
       "      <td>3</td>\n",
       "      <td>Cirebon, Jawa Barat</td>\n",
       "      <td>23</td>\n",
       "    </tr>\n",
       "  </tbody>\n",
       "</table>\n",
       "</div>"
      ],
      "text/plain": [
       "   User_Id               Location  Age\n",
       "0        1  Semarang, Jawa Tengah   20\n",
       "1        2     Bekasi, Jawa Barat   21\n",
       "2        3    Cirebon, Jawa Barat   23"
      ]
     },
     "metadata": {},
     "output_type": "display_data"
    },
    {
     "name": "stdout",
     "output_type": "stream",
     "text": [
      "Contoh Data Akhir (df_user):\n"
     ]
    },
    {
     "data": {
      "text/html": [
       "<div>\n",
       "<style scoped>\n",
       "    .dataframe tbody tr th:only-of-type {\n",
       "        vertical-align: middle;\n",
       "    }\n",
       "\n",
       "    .dataframe tbody tr th {\n",
       "        vertical-align: top;\n",
       "    }\n",
       "\n",
       "    .dataframe thead th {\n",
       "        text-align: right;\n",
       "    }\n",
       "</style>\n",
       "<table border=\"1\" class=\"dataframe\">\n",
       "  <thead>\n",
       "    <tr style=\"text-align: right;\">\n",
       "      <th></th>\n",
       "      <th>User_Id</th>\n",
       "      <th>Location</th>\n",
       "      <th>Age</th>\n",
       "    </tr>\n",
       "  </thead>\n",
       "  <tbody>\n",
       "    <tr>\n",
       "      <th>297</th>\n",
       "      <td>298</td>\n",
       "      <td>Bogor, Jawa Barat</td>\n",
       "      <td>38</td>\n",
       "    </tr>\n",
       "    <tr>\n",
       "      <th>298</th>\n",
       "      <td>299</td>\n",
       "      <td>Sragen, Jawa Tengah</td>\n",
       "      <td>27</td>\n",
       "    </tr>\n",
       "    <tr>\n",
       "      <th>299</th>\n",
       "      <td>300</td>\n",
       "      <td>Ponorogo, Jawa Timur</td>\n",
       "      <td>26</td>\n",
       "    </tr>\n",
       "  </tbody>\n",
       "</table>\n",
       "</div>"
      ],
      "text/plain": [
       "     User_Id              Location  Age\n",
       "297      298     Bogor, Jawa Barat   38\n",
       "298      299   Sragen, Jawa Tengah   27\n",
       "299      300  Ponorogo, Jawa Timur   26"
      ]
     },
     "metadata": {},
     "output_type": "display_data"
    },
    {
     "name": "stdout",
     "output_type": "stream",
     "text": [
      "Statistik Deskriptif Usia (Age) pada df_user:\n"
     ]
    },
    {
     "data": {
      "text/html": [
       "<div>\n",
       "<style scoped>\n",
       "    .dataframe tbody tr th:only-of-type {\n",
       "        vertical-align: middle;\n",
       "    }\n",
       "\n",
       "    .dataframe tbody tr th {\n",
       "        vertical-align: top;\n",
       "    }\n",
       "\n",
       "    .dataframe thead th {\n",
       "        text-align: right;\n",
       "    }\n",
       "</style>\n",
       "<table border=\"1\" class=\"dataframe\">\n",
       "  <thead>\n",
       "    <tr style=\"text-align: right;\">\n",
       "      <th></th>\n",
       "      <th>statistik_usia</th>\n",
       "    </tr>\n",
       "  </thead>\n",
       "  <tbody>\n",
       "    <tr>\n",
       "      <th>count</th>\n",
       "      <td>300.000000</td>\n",
       "    </tr>\n",
       "    <tr>\n",
       "      <th>mean</th>\n",
       "      <td>28.700000</td>\n",
       "    </tr>\n",
       "    <tr>\n",
       "      <th>std</th>\n",
       "      <td>6.393716</td>\n",
       "    </tr>\n",
       "    <tr>\n",
       "      <th>min</th>\n",
       "      <td>18.000000</td>\n",
       "    </tr>\n",
       "    <tr>\n",
       "      <th>25%</th>\n",
       "      <td>24.000000</td>\n",
       "    </tr>\n",
       "    <tr>\n",
       "      <th>50%</th>\n",
       "      <td>29.000000</td>\n",
       "    </tr>\n",
       "    <tr>\n",
       "      <th>75%</th>\n",
       "      <td>34.000000</td>\n",
       "    </tr>\n",
       "    <tr>\n",
       "      <th>max</th>\n",
       "      <td>40.000000</td>\n",
       "    </tr>\n",
       "  </tbody>\n",
       "</table>\n",
       "</div>"
      ],
      "text/plain": [
       "       statistik_usia\n",
       "count      300.000000\n",
       "mean        28.700000\n",
       "std          6.393716\n",
       "min         18.000000\n",
       "25%         24.000000\n",
       "50%         29.000000\n",
       "75%         34.000000\n",
       "max         40.000000"
      ]
     },
     "metadata": {},
     "output_type": "display_data"
    },
    {
     "name": "stdout",
     "output_type": "stream",
     "text": [
      "Cek nilai null di df_user:\n"
     ]
    },
    {
     "data": {
      "text/html": [
       "<div>\n",
       "<style scoped>\n",
       "    .dataframe tbody tr th:only-of-type {\n",
       "        vertical-align: middle;\n",
       "    }\n",
       "\n",
       "    .dataframe tbody tr th {\n",
       "        vertical-align: top;\n",
       "    }\n",
       "\n",
       "    .dataframe thead th {\n",
       "        text-align: right;\n",
       "    }\n",
       "</style>\n",
       "<table border=\"1\" class=\"dataframe\">\n",
       "  <thead>\n",
       "    <tr style=\"text-align: right;\">\n",
       "      <th></th>\n",
       "      <th>jumlah_null</th>\n",
       "    </tr>\n",
       "  </thead>\n",
       "  <tbody>\n",
       "    <tr>\n",
       "      <th>User_Id</th>\n",
       "      <td>0</td>\n",
       "    </tr>\n",
       "    <tr>\n",
       "      <th>Location</th>\n",
       "      <td>0</td>\n",
       "    </tr>\n",
       "    <tr>\n",
       "      <th>Age</th>\n",
       "      <td>0</td>\n",
       "    </tr>\n",
       "  </tbody>\n",
       "</table>\n",
       "</div>"
      ],
      "text/plain": [
       "          jumlah_null\n",
       "User_Id             0\n",
       "Location            0\n",
       "Age                 0"
      ]
     },
     "metadata": {},
     "output_type": "display_data"
    }
   ],
   "source": [
    "print(\"Info Detail Variabel (df_user):\")\n",
    "df_user.info()\n",
    "\n",
    "print(\"\\nContoh Data Awal (df_user):\")\n",
    "display(df_user.head(3))\n",
    "\n",
    "print(\"Contoh Data Akhir (df_user):\")\n",
    "display(df_user.tail(3))\n",
    "\n",
    "print(\"Statistik Deskriptif Usia (Age) pada df_user:\")\n",
    "display(df_user['Age'].describe().to_frame(name='statistik_usia'))\n",
    "\n",
    "print(\"Cek nilai null di df_user:\")\n",
    "display(df_user.isnull().sum().to_frame(name='jumlah_null'))"
   ]
  },
  {
   "cell_type": "markdown",
   "id": "0131d673",
   "metadata": {},
   "source": [
    "**Hasil dan Insight:** \n",
    "\n",
    "-   **Struktur dan Kualitas Data:**\n",
    "    -   Terdapat data untuk **300 pengguna unik** dalam sistem.\n",
    "    -   Kualitas data **sangat baik dan lengkap**, tanpa ada nilai yang hilang sama sekali.\n",
    "\n",
    "-   **Statistik & Demografi Pengguna:**\n",
    "    -   **Usia:** Rentang usia pengguna dalam dataset ini adalah dari **18 hingga 40 tahun**, dengan rata-rata usia sekitar **29 tahun**.\n",
    "    -   Menunjukkan bahwa target audiens dari sistem rekomendasi ini adalah kelompok **dewasa muda**. Sebagian besar pengguna (75%) berusia 34 tahun atau lebih muda. Pengetahuan ini bisa sangat berguna, misalnya, untuk menyimpulkan bahwa preferensi rating mungkin lebih condong ke tempat-tempat yang populer di kalangan usia tersebut."
   ]
  },
  {
   "cell_type": "markdown",
   "id": "d76f3a31",
   "metadata": {},
   "source": [
    "## **Univariate Exploratory Data Analysis (EDA)**"
   ]
  },
  {
   "cell_type": "markdown",
   "id": "c8b4ec89",
   "metadata": {},
   "source": [
    "### Distribusi Sebaran Rating Pengguna\n",
    "\n",
    "Pada tahap ini, kita melakukan analisis yang lebih mendalam pada kolom `Place_Ratings` dari dataset `df_rating`. Kita menghitung frekuensi kemunculan untuk setiap nilai rating (1, 2, 3, 4, 5) dan kemudian memvisualisasikannya menggunakan *bar chart* untuk melihat distribusinya secara jelas."
   ]
  },
  {
   "cell_type": "code",
   "execution_count": 11,
   "id": "f1d44276",
   "metadata": {},
   "outputs": [
    {
     "data": {
      "text/html": [
       "<style type=\"text/css\">\n",
       "</style>\n",
       "<table id=\"T_98803\">\n",
       "  <thead>\n",
       "    <tr>\n",
       "      <th id=\"T_98803_level0_col0\" class=\"col_heading level0 col0\" >Rating</th>\n",
       "      <th id=\"T_98803_level0_col1\" class=\"col_heading level0 col1\" >Jumlah</th>\n",
       "    </tr>\n",
       "  </thead>\n",
       "  <tbody>\n",
       "    <tr>\n",
       "      <td id=\"T_98803_row0_col0\" class=\"data row0 col0\" >1</td>\n",
       "      <td id=\"T_98803_row0_col1\" class=\"data row0 col1\" >1706</td>\n",
       "    </tr>\n",
       "    <tr>\n",
       "      <td id=\"T_98803_row1_col0\" class=\"data row1 col0\" >2</td>\n",
       "      <td id=\"T_98803_row1_col1\" class=\"data row1 col1\" >2071</td>\n",
       "    </tr>\n",
       "    <tr>\n",
       "      <td id=\"T_98803_row2_col0\" class=\"data row2 col0\" >3</td>\n",
       "      <td id=\"T_98803_row2_col1\" class=\"data row2 col1\" >2096</td>\n",
       "    </tr>\n",
       "    <tr>\n",
       "      <td id=\"T_98803_row3_col0\" class=\"data row3 col0\" >4</td>\n",
       "      <td id=\"T_98803_row3_col1\" class=\"data row3 col1\" >2106</td>\n",
       "    </tr>\n",
       "    <tr>\n",
       "      <td id=\"T_98803_row4_col0\" class=\"data row4 col0\" >5</td>\n",
       "      <td id=\"T_98803_row4_col1\" class=\"data row4 col1\" >2021</td>\n",
       "    </tr>\n",
       "  </tbody>\n",
       "</table>\n"
      ],
      "text/plain": [
       "<pandas.io.formats.style.Styler at 0x1e1155f6c80>"
      ]
     },
     "metadata": {},
     "output_type": "display_data"
    },
    {
     "data": {
      "image/png": "[encoded data removed]",
      "text/plain": [
       "<Figure size 800x500 with 1 Axes>"
      ]
     },
     "metadata": {},
     "output_type": "display_data"
    },
    {
     "name": "stdout",
     "output_type": "stream",
     "text": [
      "Insight: Visualisasi menunjukkan rating yang paling sering diberikan oleh pengguna adalah 4.\n"
     ]
    }
   ],
   "source": [
    "most_frequent_rating = df_rating['Place_Ratings'].mode()[0]\n",
    "rating_counts = df_rating['Place_Ratings'].value_counts().reset_index()\n",
    "rating_counts.columns = ['Rating', 'Jumlah']\n",
    "display(rating_counts.sort_values(by='Rating').style.hide(axis=\"index\"))\n",
    "plt.figure(figsize=(8, 5))\n",
    "sns.countplot(x='Place_Ratings', data=df_rating, palette='viridis', order=sorted(df_rating['Place_Ratings'].unique()))\n",
    "plt.title('Distribusi Rating Pengguna (Keseluruhan Dataset)')\n",
    "plt.show()\n",
    "print(f\"Insight: Visualisasi menunjukkan rating yang paling sering diberikan oleh pengguna adalah {most_frequent_rating}.\")"
   ]
  },
  {
   "cell_type": "markdown",
   "id": "9f133d6c",
   "metadata": {},
   "source": [
    "**Hasil dan Insight:** \n",
    "\n",
    "-   Dari tabel dan grafik, terlihat bahwa rating **4** adalah yang paling sering diberikan, namun jumlahnya tidak berbeda jauh dengan rating **2**, **3**, dan **5**. Rating **1** adalah yang paling jarang, namun jumlahnya tetap signifikan.\n",
    "-   Distribusi rating dalam dataset ini **relatif seimbang**. Tidak ada bias yang ekstrem terhadap rating tinggi maupun rendah. Ini adalah karakteristik dataset yang **sangat baik** untuk melatih sistem rekomendasi. Karena model mendapatkan sinyal yang beragam (suka, netral, tidak suka), ia dapat belajar untuk membedakan preferensi pengguna dengan lebih akurat, dibandingkan jika data hanya didominasi oleh rating tinggi saja."
   ]
  },
  {
   "cell_type": "markdown",
   "id": "266026e9",
   "metadata": {},
   "source": [
    "### Distribusi Sebaran Destinasi Berdasarkan Kota\n",
    "\n",
    "Pada langkah ini, kita menghitung jumlah tempat wisata yang ada untuk setiap kota dalam dataset `df_tourism`. Kemudian, kita mengambil 5 kota teratas dan memvisualisasikannya dalam bentuk tabel dan bar chart untuk perbandingan yang mudah."
   ]
  },
  {
   "cell_type": "code",
   "execution_count": 12,
   "id": "bd5bdad1",
   "metadata": {},
   "outputs": [
    {
     "data": {
      "text/html": [
       "<style type=\"text/css\">\n",
       "</style>\n",
       "<table id=\"T_f591e\">\n",
       "  <thead>\n",
       "    <tr>\n",
       "      <th id=\"T_f591e_level0_col0\" class=\"col_heading level0 col0\" >Kota</th>\n",
       "      <th id=\"T_f591e_level0_col1\" class=\"col_heading level0 col1\" >Jumlah Tempat Wisata</th>\n",
       "    </tr>\n",
       "  </thead>\n",
       "  <tbody>\n",
       "    <tr>\n",
       "      <td id=\"T_f591e_row0_col0\" class=\"data row0 col0\" >Yogyakarta</td>\n",
       "      <td id=\"T_f591e_row0_col1\" class=\"data row0 col1\" >126</td>\n",
       "    </tr>\n",
       "    <tr>\n",
       "      <td id=\"T_f591e_row1_col0\" class=\"data row1 col0\" >Bandung</td>\n",
       "      <td id=\"T_f591e_row1_col1\" class=\"data row1 col1\" >124</td>\n",
       "    </tr>\n",
       "    <tr>\n",
       "      <td id=\"T_f591e_row2_col0\" class=\"data row2 col0\" >Jakarta</td>\n",
       "      <td id=\"T_f591e_row2_col1\" class=\"data row2 col1\" >84</td>\n",
       "    </tr>\n",
       "    <tr>\n",
       "      <td id=\"T_f591e_row3_col0\" class=\"data row3 col0\" >Semarang</td>\n",
       "      <td id=\"T_f591e_row3_col1\" class=\"data row3 col1\" >57</td>\n",
       "    </tr>\n",
       "    <tr>\n",
       "      <td id=\"T_f591e_row4_col0\" class=\"data row4 col0\" >Surabaya</td>\n",
       "      <td id=\"T_f591e_row4_col1\" class=\"data row4 col1\" >46</td>\n",
       "    </tr>\n",
       "  </tbody>\n",
       "</table>\n"
      ],
      "text/plain": [
       "<pandas.io.formats.style.Styler at 0x1e141285d80>"
      ]
     },
     "metadata": {},
     "output_type": "display_data"
    },
    {
     "data": {
      "image/png": "[encoded data removed]",
      "text/plain": [
       "<Figure size 1000x500 with 1 Axes>"
      ]
     },
     "metadata": {},
     "output_type": "display_data"
    },
    {
     "name": "stdout",
     "output_type": "stream",
     "text": [
      "Insight: Berdasarkan data, 5 kota dengan destinasi wisata terbanyak adalah ['Yogyakarta', 'Bandung', 'Jakarta', 'Semarang', 'Surabaya']. Ini menegaskan bahwa fokus dataset adalah pada pusat-pusat pariwisata utama di Indonesia, dengan Yogyakarta memiliki jumlah terbanyak yaitu 126 destinasi.\n"
     ]
    }
   ],
   "source": [
    "top_cities = df_tourism['City'].value_counts().nlargest(5).reset_index()\n",
    "top_cities.columns = ['Kota', 'Jumlah Tempat Wisata']\n",
    "display(top_cities.style.hide(axis=\"index\"))\n",
    "plt.figure(figsize=(10, 5))\n",
    "sns.barplot(x='Kota', y='Jumlah Tempat Wisata', data=top_cities, palette='mako')\n",
    "plt.title('Top 5 Kota dengan Jumlah Tempat Wisata Terbanyak')\n",
    "plt.show()\n",
    "print(f\"Insight: Berdasarkan data, 5 kota dengan destinasi wisata terbanyak adalah {top_cities['Kota'].tolist()}. Ini menegaskan bahwa fokus dataset adalah pada pusat-pusat pariwisata utama di Indonesia, dengan {top_cities['Kota'].iloc[0]} memiliki jumlah terbanyak yaitu {top_cities['Jumlah Tempat Wisata'].iloc[0]} destinasi.\")"
   ]
  },
  {
   "cell_type": "markdown",
   "id": "58d14070",
   "metadata": {},
   "source": [
    "**Hasil dan Insight:**\n",
    "\n",
    "- Dari tabel dan grafik, terlihat jelas bahwa **Yogyakarta (126 tempat)** dan Bandung (124 tempat) adalah dua kota dengan jumlah destinasi wisata terbanyak dalam dataset ini, diikuti oleh Jakarta, Semarang, dan Surabaya.\n",
    "- Dataset ini memiliki bias geografis (geographical bias) yang kuat terhadap kota-kota besar di Pulau Jawa, khususnya Yogyakarta dan Bandung. Ini adalah hal penting karena berarti sistem rekomendasi yang akan kita bangun akan paling kaya dan bervariasi untuk pengguna yang mencari destinasi di kota-kota tersebut."
   ]
  },
  {
   "cell_type": "markdown",
   "id": "8ffc9378",
   "metadata": {},
   "source": [
    "### Distribusi Sebaran Destinasi Berdasarkan Kategori\n",
    "\n",
    "Langkah ini menghitung jumlah tempat wisata untuk setiap `Category` yang ada di dalam dataset. Lima kategori dengan jumlah tempat terbanyak kemudian ditampilkan dalam bentuk tabel dan divisualisasikan menggunakan *bar chart*."
   ]
  },
  {
   "cell_type": "code",
   "execution_count": 13,
   "id": "75446f68",
   "metadata": {},
   "outputs": [
    {
     "data": {
      "text/html": [
       "<style type=\"text/css\">\n",
       "</style>\n",
       "<table id=\"T_96679\">\n",
       "  <thead>\n",
       "    <tr>\n",
       "      <th id=\"T_96679_level0_col0\" class=\"col_heading level0 col0\" >Kategori</th>\n",
       "      <th id=\"T_96679_level0_col1\" class=\"col_heading level0 col1\" >Jumlah Tempat Wisata</th>\n",
       "    </tr>\n",
       "  </thead>\n",
       "  <tbody>\n",
       "    <tr>\n",
       "      <td id=\"T_96679_row0_col0\" class=\"data row0 col0\" >Taman Hiburan</td>\n",
       "      <td id=\"T_96679_row0_col1\" class=\"data row0 col1\" >135</td>\n",
       "    </tr>\n",
       "    <tr>\n",
       "      <td id=\"T_96679_row1_col0\" class=\"data row1 col0\" >Budaya</td>\n",
       "      <td id=\"T_96679_row1_col1\" class=\"data row1 col1\" >117</td>\n",
       "    </tr>\n",
       "    <tr>\n",
       "      <td id=\"T_96679_row2_col0\" class=\"data row2 col0\" >Cagar Alam</td>\n",
       "      <td id=\"T_96679_row2_col1\" class=\"data row2 col1\" >106</td>\n",
       "    </tr>\n",
       "    <tr>\n",
       "      <td id=\"T_96679_row3_col0\" class=\"data row3 col0\" >Bahari</td>\n",
       "      <td id=\"T_96679_row3_col1\" class=\"data row3 col1\" >47</td>\n",
       "    </tr>\n",
       "    <tr>\n",
       "      <td id=\"T_96679_row4_col0\" class=\"data row4 col0\" >Tempat Ibadah</td>\n",
       "      <td id=\"T_96679_row4_col1\" class=\"data row4 col1\" >17</td>\n",
       "    </tr>\n",
       "  </tbody>\n",
       "</table>\n"
      ],
      "text/plain": [
       "<pandas.io.formats.style.Styler at 0x1e1400e4610>"
      ]
     },
     "metadata": {},
     "output_type": "display_data"
    },
    {
     "data": {
      "image/png": "[encoded data removed]",
      "text/plain": [
       "<Figure size 1000x500 with 1 Axes>"
      ]
     },
     "metadata": {},
     "output_type": "display_data"
    },
    {
     "name": "stdout",
     "output_type": "stream",
     "text": [
      "Insight: Kategori wisata paling populer di seluruh dataset adalah 'Taman Hiburan' dengan jumlah 135 tempat.\n"
     ]
    }
   ],
   "source": [
    "top_categories_all = df_tourism['Category'].value_counts().nlargest(5).reset_index()\n",
    "top_categories_all.columns = ['Kategori', 'Jumlah Tempat Wisata']\n",
    "display(top_categories_all.style.hide(axis=\"index\"))\n",
    "plt.figure(figsize=(10, 5))\n",
    "sns.barplot(x='Kategori', y='Jumlah Tempat Wisata', data=top_categories_all, palette='crest')\n",
    "plt.title('Top 5 Kategori Tempat Wisata (Keseluruhan Dataset)')\n",
    "plt.show()\n",
    "print(f\"Insight: Kategori wisata paling populer di seluruh dataset adalah '{top_categories_all['Kategori'].iloc[0]}' dengan jumlah {top_categories_all['Jumlah Tempat Wisata'].iloc[0]} tempat.\")"
   ]
  },
  {
   "cell_type": "markdown",
   "id": "6d0d85e4",
   "metadata": {},
   "source": [
    "**Hasil dan Insight:**\n",
    "\n",
    "- Visualisasi menunjukkan bahwa **\"Taman Hiburan\"**, **\"Budaya\"**, dan **\"Cagar Alam\"** adalah tiga kategori paling dominan dalam dataset kita, dengan masing-masing memiliki lebih dari 100 destinasi. Terdapat penurunan jumlah yang signifikan pada kategori \"Bahari\" dan \"Tempat Ibadah\".\n",
    "- Dataset ini memiliki **katalog yang kaya** untuk tiga kategori teratas. Artinya, model *Content-Based Filtering* akan memiliki banyak pilihan untuk merekomendasikan tempat-tempat yang bervariasi namun tetap relevan bagi pengguna yang menyukai tema-tema tersebut.\n",
    "- Sebaliknya, untuk kategori yang kurang terwakili seperti \"Tempat Ibadah\", rekomendasi yang dihasilkan mungkin akan kurang beragam karena keterbatasan jumlah item serupa dalam data. Ini adalah batasan dari dataset yang perlu kita sadari."
   ]
  },
  {
   "cell_type": "markdown",
   "id": "3fee755c",
   "metadata": {},
   "source": [
    "### Distribusi Sebaran Usia Pengguna\n",
    "\n",
    "Langkah ini berfokus pada analisis kolom `Age` dari `df_user`. Kita menghitung jumlah pengguna untuk setiap usia, lalu memvisualisasikan distribusinya menggunakan histogram yang dilengkapi dengan kurva KDE (*Kernel Density Estimate*) untuk melihat bentuk sebarannya dengan lebih mulus."
   ]
  },
  {
   "cell_type": "code",
   "execution_count": 14,
   "id": "4c4d91a5",
   "metadata": {},
   "outputs": [
    {
     "data": {
      "text/html": [
       "<style type=\"text/css\">\n",
       "</style>\n",
       "<table id=\"T_8d83f\">\n",
       "  <thead>\n",
       "    <tr>\n",
       "      <th id=\"T_8d83f_level0_col0\" class=\"col_heading level0 col0\" >Usia</th>\n",
       "      <th id=\"T_8d83f_level0_col1\" class=\"col_heading level0 col1\" >Jumlah Pengguna</th>\n",
       "    </tr>\n",
       "  </thead>\n",
       "  <tbody>\n",
       "    <tr>\n",
       "      <td id=\"T_8d83f_row0_col0\" class=\"data row0 col0\" >18</td>\n",
       "      <td id=\"T_8d83f_row0_col1\" class=\"data row0 col1\" >15</td>\n",
       "    </tr>\n",
       "    <tr>\n",
       "      <td id=\"T_8d83f_row1_col0\" class=\"data row1 col0\" >19</td>\n",
       "      <td id=\"T_8d83f_row1_col1\" class=\"data row1 col1\" >12</td>\n",
       "    </tr>\n",
       "    <tr>\n",
       "      <td id=\"T_8d83f_row2_col0\" class=\"data row2 col0\" >20</td>\n",
       "      <td id=\"T_8d83f_row2_col1\" class=\"data row2 col1\" >16</td>\n",
       "    </tr>\n",
       "    <tr>\n",
       "      <td id=\"T_8d83f_row3_col0\" class=\"data row3 col0\" >21</td>\n",
       "      <td id=\"T_8d83f_row3_col1\" class=\"data row3 col1\" >13</td>\n",
       "    </tr>\n",
       "    <tr>\n",
       "      <td id=\"T_8d83f_row4_col0\" class=\"data row4 col0\" >22</td>\n",
       "      <td id=\"T_8d83f_row4_col1\" class=\"data row4 col1\" >7</td>\n",
       "    </tr>\n",
       "    <tr>\n",
       "      <td id=\"T_8d83f_row5_col0\" class=\"data row5 col0\" >23</td>\n",
       "      <td id=\"T_8d83f_row5_col1\" class=\"data row5 col1\" >11</td>\n",
       "    </tr>\n",
       "    <tr>\n",
       "      <td id=\"T_8d83f_row6_col0\" class=\"data row6 col0\" >24</td>\n",
       "      <td id=\"T_8d83f_row6_col1\" class=\"data row6 col1\" >13</td>\n",
       "    </tr>\n",
       "    <tr>\n",
       "      <td id=\"T_8d83f_row7_col0\" class=\"data row7 col0\" >25</td>\n",
       "      <td id=\"T_8d83f_row7_col1\" class=\"data row7 col1\" >15</td>\n",
       "    </tr>\n",
       "    <tr>\n",
       "      <td id=\"T_8d83f_row8_col0\" class=\"data row8 col0\" >26</td>\n",
       "      <td id=\"T_8d83f_row8_col1\" class=\"data row8 col1\" >9</td>\n",
       "    </tr>\n",
       "    <tr>\n",
       "      <td id=\"T_8d83f_row9_col0\" class=\"data row9 col0\" >27</td>\n",
       "      <td id=\"T_8d83f_row9_col1\" class=\"data row9 col1\" >17</td>\n",
       "    </tr>\n",
       "    <tr>\n",
       "      <td id=\"T_8d83f_row10_col0\" class=\"data row10 col0\" >28</td>\n",
       "      <td id=\"T_8d83f_row10_col1\" class=\"data row10 col1\" >16</td>\n",
       "    </tr>\n",
       "    <tr>\n",
       "      <td id=\"T_8d83f_row11_col0\" class=\"data row11 col0\" >29</td>\n",
       "      <td id=\"T_8d83f_row11_col1\" class=\"data row11 col1\" >17</td>\n",
       "    </tr>\n",
       "    <tr>\n",
       "      <td id=\"T_8d83f_row12_col0\" class=\"data row12 col0\" >30</td>\n",
       "      <td id=\"T_8d83f_row12_col1\" class=\"data row12 col1\" >21</td>\n",
       "    </tr>\n",
       "    <tr>\n",
       "      <td id=\"T_8d83f_row13_col0\" class=\"data row13 col0\" >31</td>\n",
       "      <td id=\"T_8d83f_row13_col1\" class=\"data row13 col1\" >14</td>\n",
       "    </tr>\n",
       "    <tr>\n",
       "      <td id=\"T_8d83f_row14_col0\" class=\"data row14 col0\" >32</td>\n",
       "      <td id=\"T_8d83f_row14_col1\" class=\"data row14 col1\" >14</td>\n",
       "    </tr>\n",
       "    <tr>\n",
       "      <td id=\"T_8d83f_row15_col0\" class=\"data row15 col0\" >33</td>\n",
       "      <td id=\"T_8d83f_row15_col1\" class=\"data row15 col1\" >12</td>\n",
       "    </tr>\n",
       "    <tr>\n",
       "      <td id=\"T_8d83f_row16_col0\" class=\"data row16 col0\" >34</td>\n",
       "      <td id=\"T_8d83f_row16_col1\" class=\"data row16 col1\" >14</td>\n",
       "    </tr>\n",
       "    <tr>\n",
       "      <td id=\"T_8d83f_row17_col0\" class=\"data row17 col0\" >35</td>\n",
       "      <td id=\"T_8d83f_row17_col1\" class=\"data row17 col1\" >9</td>\n",
       "    </tr>\n",
       "    <tr>\n",
       "      <td id=\"T_8d83f_row18_col0\" class=\"data row18 col0\" >36</td>\n",
       "      <td id=\"T_8d83f_row18_col1\" class=\"data row18 col1\" >6</td>\n",
       "    </tr>\n",
       "    <tr>\n",
       "      <td id=\"T_8d83f_row19_col0\" class=\"data row19 col0\" >37</td>\n",
       "      <td id=\"T_8d83f_row19_col1\" class=\"data row19 col1\" >13</td>\n",
       "    </tr>\n",
       "    <tr>\n",
       "      <td id=\"T_8d83f_row20_col0\" class=\"data row20 col0\" >38</td>\n",
       "      <td id=\"T_8d83f_row20_col1\" class=\"data row20 col1\" >16</td>\n",
       "    </tr>\n",
       "    <tr>\n",
       "      <td id=\"T_8d83f_row21_col0\" class=\"data row21 col0\" >39</td>\n",
       "      <td id=\"T_8d83f_row21_col1\" class=\"data row21 col1\" >13</td>\n",
       "    </tr>\n",
       "    <tr>\n",
       "      <td id=\"T_8d83f_row22_col0\" class=\"data row22 col0\" >40</td>\n",
       "      <td id=\"T_8d83f_row22_col1\" class=\"data row22 col1\" >7</td>\n",
       "    </tr>\n",
       "  </tbody>\n",
       "</table>\n"
      ],
      "text/plain": [
       "<pandas.io.formats.style.Styler at 0x1e141471150>"
      ]
     },
     "metadata": {},
     "output_type": "display_data"
    },
    {
     "data": {
      "image/png": "[encoded data removed]",
      "text/plain": [
       "<Figure size 1000x600 with 1 Axes>"
      ]
     },
     "metadata": {},
     "output_type": "display_data"
    },
    {
     "name": "stdout",
     "output_type": "stream",
     "text": [
      "Insight: Distribusi usia pengguna menunjukkan konsentrasi yang kuat antara usia 24 hingga 34 tahun, dengan median usia di sekitar 29 tahun.\n"
     ]
    }
   ],
   "source": [
    "age_counts = df_user['Age'].value_counts().reset_index()\n",
    "age_counts.columns = ['Usia', 'Jumlah Pengguna']\n",
    "display(age_counts.sort_values(by='Usia').style.hide(axis=\"index\"))\n",
    "age_stats = df_user['Age'].describe()\n",
    "age_median = int(age_stats['50%'])\n",
    "age_q1 = int(age_stats['25%'])\n",
    "age_q3 = int(age_stats['75%'])\n",
    "plt.figure(figsize=(10, 6))\n",
    "sns.histplot(data=df_user, x='Age', bins=20, kde=True, color='salmon')\n",
    "plt.title('Distribusi Usia Pengguna')\n",
    "plt.show()\n",
    "print(f\"Insight: Distribusi usia pengguna menunjukkan konsentrasi yang kuat antara usia {age_q1} hingga {age_q3} tahun, dengan median usia di sekitar {age_median} tahun.\")"
   ]
  },
  {
   "cell_type": "markdown",
   "id": "4eb0bdec",
   "metadata": {},
   "source": [
    "**Hasil dan Insight:**\n",
    "\n",
    "- Visualisasi dan data statistik menunjukkan bahwa usia pengguna berkisar antara 18 hingga 40 tahun. Median usia pengguna adalah 29 tahun.\n",
    "- Meskipun rentangnya cukup lebar, **inti dari pengguna kita (50% dari total pengguna) terkonsentrasi pada rentang usia 24 hingga 34 tahun**. Ini adalah demografi dewasa muda yang spesifik.\n",
    "- Distribusi usia tidak berbentuk lonceng sempurna, melainkan memiliki beberapa puncak kecil. Ini menunjukkan bahwa tidak ada satu \"umur tipikal\" saja, melainkan beberapa kelompok usia yang aktif dalam rentang tersebut."
   ]
  },
  {
   "cell_type": "markdown",
   "id": "311b549a",
   "metadata": {},
   "source": [
    "## **Data Preprocessing**"
   ]
  },
  {
   "cell_type": "markdown",
   "id": "1377248c",
   "metadata": {},
   "source": [
    "### Pegecekan dam Penanganan Nilai Duplikat\n",
    "\n",
    "Pada tahap ini, kita melakukan pemeriksaan dan pembersihan data duplikat pada ketiga DataFrame kita:\n",
    "1.  **`df_tourism`:** Memeriksa duplikasi berdasarkan keseluruhan baris.\n",
    "2.  **`df_rating`:** Memeriksa duplikasi berdasarkan keseluruhan baris (kombinasi `User_Id`, `Place_Id`, `Place_Ratings` yang sama persis).\n",
    "3.  **`df_user`:** Memeriksa duplikasi hanya berdasarkan `User_Id` untuk memastikan setiap pengguna unik."
   ]
  },
  {
   "cell_type": "code",
   "execution_count": 15,
   "id": "37547ef3",
   "metadata": {},
   "outputs": [
    {
     "name": "stdout",
     "output_type": "stream",
     "text": [
      "df_tourism - Jumlah data awal: 437\n",
      "df_tourism - Jumlah data duplikat ditemukan: 0\n",
      "df_tourism - Jumlah data setelah hapus duplikat: 437\n",
      "\n",
      "df_rating - Jumlah data awal: 10000\n",
      "df_rating - Jumlah data duplikat ditemukan: 79\n",
      "df_rating - Jumlah data setelah hapus duplikat: 9921\n",
      "\n",
      "df_user - Jumlah data awal: 300\n",
      "df_user - Jumlah data duplikat ditemukan: 0\n",
      "df_user - Jumlah data setelah hapus duplikat: 300\n",
      "\n",
      "============================\n",
      "Penanganan duplikat selesai.\n"
     ]
    }
   ],
   "source": [
    "# Penanganan duplikat untuk df_tourism\n",
    "jumlah_data_awal_tourism = len(df_tourism)\n",
    "jumlah_duplikat_tourism = df_tourism.duplicated().sum()\n",
    "print(f\"df_tourism - Jumlah data awal: {jumlah_data_awal_tourism}\")\n",
    "print(f\"df_tourism - Jumlah data duplikat ditemukan: {jumlah_duplikat_tourism}\")\n",
    "df_tourism.drop_duplicates(inplace=True)\n",
    "print(f\"df_tourism - Jumlah data setelah hapus duplikat: {len(df_tourism)}\")\n",
    "\n",
    "# Penanganan duplikat untuk df_rating\n",
    "jumlah_data_awal_rating = len(df_rating)\n",
    "jumlah_duplikat_rating = df_rating.duplicated().sum()\n",
    "print(f\"\\ndf_rating - Jumlah data awal: {jumlah_data_awal_rating}\")\n",
    "print(f\"df_rating - Jumlah data duplikat ditemukan: {jumlah_duplikat_rating}\")\n",
    "df_rating.drop_duplicates(inplace=True)\n",
    "print(f\"df_rating - Jumlah data setelah hapus duplikat: {len(df_rating)}\")\n",
    "\n",
    "# Penanganan duplikat untuk df_user berdasarkan User_Id\n",
    "jumlah_data_awal_user = len(df_user)\n",
    "jumlah_duplikat_user_id = df_user.duplicated(subset=['User_Id']).sum()\n",
    "print(f\"\\ndf_user - Jumlah data awal: {jumlah_data_awal_user}\")\n",
    "print(f\"df_user - Jumlah data duplikat ditemukan: {jumlah_duplikat_user_id}\")\n",
    "df_user.drop_duplicates(subset=['User_Id'], inplace=True, keep='first')\n",
    "print(f\"df_user - Jumlah data setelah hapus duplikat: {len(df_user)}\")\n",
    "print(\"\\n============================\")\n",
    "print(\"Penanganan duplikat selesai.\")"
   ]
  },
  {
   "cell_type": "markdown",
   "id": "c29acb76",
   "metadata": {},
   "source": [
    "**Hasil dan Insight:**\n",
    "\n",
    "- `df_tourism` dan `df_user` tidak memiliki data duplikat.\n",
    "- Ditemukan dan berhasil dihapus sebanyak **79 data duplikat** dari `df_rating`.\n",
    "- Dengan menghapus duplikat ini, kita memastikan bahwa model akan dilatih pada data di mana setiap interaksi unik hanya dihitung satu kali. Ini secara langsung **meningkatkan kualitas dan keandalan data latih**, yang akan menghasilkan model yang lebih akurat dan tidak bias."
   ]
  },
  {
   "cell_type": "markdown",
   "id": "2ed46c2d",
   "metadata": {},
   "source": [
    "## **Data Preparation**"
   ]
  },
  {
   "cell_type": "markdown",
   "id": "24c951bc",
   "metadata": {},
   "source": [
    "### Filtering Data untuk Yogyakarta\n",
    "\n",
    "Pada tahap ini, kita melakukan pemfilteran pada DataFrame `df_tourism` untuk membuat sebuah dataset baru (`df_tourism_yogya`) yang hanya berisi tempat-tempat wisata yang berada di **Yogyakarta**."
   ]
  },
  {
   "cell_type": "code",
   "execution_count": 16,
   "id": "3620abd3",
   "metadata": {},
   "outputs": [
    {
     "name": "stdout",
     "output_type": "stream",
     "text": [
      "Jumlah destinasi di area Yogyakarta: 126\n"
     ]
    }
   ],
   "source": [
    "target_keyword = 'yogyakarta'\n",
    "df_tourism_yogya = df_tourism[df_tourism['City'].str.contains(target_keyword, case=False, na=False)].copy()\n",
    "if df_tourism_yogya.empty:\n",
    "    print(\"Tidak ada destinasi Yogyakarta ditemukan. Program berhenti.\")\n",
    "    exit()\n",
    "print(f\"Jumlah destinasi di area Yogyakarta: {len(df_tourism_yogya)}\")"
   ]
  },
  {
   "cell_type": "markdown",
   "id": "424e43f9",
   "metadata": {},
   "source": [
    "**Hasil dan Insight:**\n",
    "- Berhasil dibuatnya DataFrame `df_tourism_yogya` yang berisi **126 destinasi** wisata, yang semuanya berlokasi di Yogyakarta.\n",
    "- Dengan memfokuskan dataset pada satu kota, kita secara efektif menyederhanakan masalah. Model *Content-Based* akan mencari kemiripan di antara tempat-tempat di Jogja, dan model *Collaborative Filtering* akan mempelajari preferensi pengguna terhadap destinasi di Jogja. Seluruh proses selanjutnya akan bekerja pada dataset yang lebih kecil namun lebih relevan secara kontekstual ini."
   ]
  },
  {
   "cell_type": "markdown",
   "id": "42b8ae82",
   "metadata": {},
   "source": [
    "### Membersihkan Data Rating Yogyakarta untuk Collaborative Filtering (CF)\n",
    "\n",
    "Setelah kita memiliki daftar tempat wisata yang spesifik untuk Yogyakarta (`df_tourism_yogya`), langkah selanjutnya adalah menyaring data rating. Kode ini mengambil semua ID tempat dari `df_tourism_yogya` dan menggunakannya untuk memfilter `df_rating` utama. Hasilnya adalah sebuah DataFrame baru (`df_rating_yogya_cf`) yang hanya berisi rating yang diberikan kepada tempat-tempat di Yogyakarta."
   ]
  },
  {
   "cell_type": "code",
   "execution_count": 17,
   "id": "0179fcc9",
   "metadata": {},
   "outputs": [
    {
     "name": "stdout",
     "output_type": "stream",
     "text": [
      "Jumlah rating Yogyakarta untuk CF setelah cleaning: 2848\n"
     ]
    }
   ],
   "source": [
    "place_ids_yogya = df_tourism_yogya['Place_Id'].unique()\n",
    "df_rating_yogya_cf = df_rating[df_rating['Place_Id'].isin(place_ids_yogya)].copy()\n",
    "df_rating_yogya_cf.dropna(subset=['Place_Ratings'], inplace=True)\n",
    "df_rating_yogya_cf['Place_Ratings'] = pd.to_numeric(df_rating_yogya_cf['Place_Ratings'], errors='coerce')\n",
    "df_rating_yogya_cf.dropna(subset=['Place_Ratings'], inplace=True)\n",
    "print(f\"Jumlah rating Yogyakarta untuk CF setelah cleaning: {len(df_rating_yogya_cf)}\")"
   ]
  },
  {
   "cell_type": "markdown",
   "id": "02a4ad13",
   "metadata": {},
   "source": [
    "**Hasil dan Insight:**\n",
    "\n",
    "- Terbentuknya DataFrame `df_rating_yogya_cf` yang berisi **2,848 rating**. Ini adalah semua interaksi pengguna yang tercatat untuk 126 tempat wisata di Yogyakarta.\n",
    "- Pada titik ini, proses *scoping* dan persiapan data dasar telah selesai. Kita sekarang memiliki **dataset yang mandiri dan konsisten** untuk Yogyakarta."
   ]
  },
  {
   "cell_type": "markdown",
   "id": "9eba6238",
   "metadata": {},
   "source": [
    "### Rekayasa Fitur untuk Content-Based Filtering (CBF)\n",
    "\n",
    "Pada tahap ini kita melakukan beberapa proses sebagai berikut:\n",
    "1. **Menginisialisasi Sastrawi:** Menyiapkan *stemmer* dan *stopword remover* dari pustaka Sastrawi.\n",
    "2. **Menggabungkan Teks:** Untuk setiap tempat wisata, kita membuat satu string teks gabungan yang komprehensif dengan menyatukan isi dari kolom `Place_Name`, `Category`, dan `Description`.\n",
    "3. **Pra-pemrosesan Teks:** Menerapkan fungsi `preprocess_text_sastrawi` yang telah kita definisikan sebelumnya pada string gabungan tersebut. Ini akan membersihkan teks dari *stopwords*, mengubahnya ke bentuk dasar (*stemming*), dan menjadikannya huruf kecil.\n",
    "4. **Membuat Kolom Baru:** Hasil teks yang sudah bersih disimpan dalam satu kolom baru bernama `content_features`.\n",
    "\n",
    "Untuk melakukan **rekayasa fitur (feature engineering)**. Tujuannya adalah menciptakan satu fitur tunggal (`content_features`) yang merangkum semua informasi tekstual penting tentang sebuah tempat wisata."
   ]
  },
  {
   "cell_type": "code",
   "execution_count": 18,
   "id": "46cdce55",
   "metadata": {},
   "outputs": [
    {
     "name": "stdout",
     "output_type": "stream",
     "text": [
      "Memproses teks menggunakan Sastrawi...\n",
      "Kolom 'content_features' untuk CBF telah dibuat.\n"
     ]
    },
    {
     "data": {
      "text/html": [
       "<div>\n",
       "<style scoped>\n",
       "    .dataframe tbody tr th:only-of-type {\n",
       "        vertical-align: middle;\n",
       "    }\n",
       "\n",
       "    .dataframe tbody tr th {\n",
       "        vertical-align: top;\n",
       "    }\n",
       "\n",
       "    .dataframe thead th {\n",
       "        text-align: right;\n",
       "    }\n",
       "</style>\n",
       "<table border=\"1\" class=\"dataframe\">\n",
       "  <thead>\n",
       "    <tr style=\"text-align: right;\">\n",
       "      <th></th>\n",
       "      <th>Place_Name</th>\n",
       "      <th>content_features</th>\n",
       "    </tr>\n",
       "  </thead>\n",
       "  <tbody>\n",
       "    <tr>\n",
       "      <th>84</th>\n",
       "      <td>Taman Pintar Yogyakarta</td>\n",
       "      <td>taman pintar yogyakarta taman hibur taman pint...</td>\n",
       "    </tr>\n",
       "    <tr>\n",
       "      <th>85</th>\n",
       "      <td>Keraton Yogyakarta</td>\n",
       "      <td>keraton yogyakarta budaya keraton ngayogyakart...</td>\n",
       "    </tr>\n",
       "  </tbody>\n",
       "</table>\n",
       "</div>"
      ],
      "text/plain": [
       "                 Place_Name                                   content_features\n",
       "84  Taman Pintar Yogyakarta  taman pintar yogyakarta taman hibur taman pint...\n",
       "85       Keraton Yogyakarta  keraton yogyakarta budaya keraton ngayogyakart..."
      ]
     },
     "metadata": {},
     "output_type": "display_data"
    }
   ],
   "source": [
    "df_tourism_yogya['Rating'] = pd.to_numeric(df_tourism_yogya['Rating'], errors='coerce').fillna(df_tourism_yogya['Rating'].median())\n",
    "print(\"Memproses teks menggunakan Sastrawi...\")\n",
    "stemmer = StemmerFactory().create_stemmer()\n",
    "stopword_remover = StopWordRemoverFactory().create_stop_word_remover()\n",
    "df_tourism_yogya['content_features'] = (df_tourism_yogya['Place_Name'].fillna('') + ' ' + \n",
    "                                        df_tourism_yogya['Category'].fillna('') + ' ' + \n",
    "                                        df_tourism_yogya['Description'].fillna('')).apply(lambda x: preprocess_text_sastrawi(x, stemmer, stopword_remover))\n",
    "print(\"Kolom 'content_features' untuk CBF telah dibuat.\")\n",
    "display(df_tourism_yogya[['Place_Name', 'content_features']].head(2))"
   ]
  },
  {
   "cell_type": "markdown",
   "id": "b50f0aa0",
   "metadata": {},
   "source": [
    "**Hasil dan Insight:**\n",
    "\n",
    "- Sebuah kolom baru, `content_features`, telah ditambahkan ke DataFrame `df_tourism_yogya`. Contoh output menunjukkan bagaimana teks asli seperti \"Keraton Yogyakarta\" dan deskripsinya diubah menjadi versi yang bersih dan sederhana: `\"keraton yogyakarta budaya keraton...\"`.\n",
    "- Kolom `content_features` ini adalah fondasi dari model kita. Dengan menyatukan nama, kategori, dan deskripsi, kita menciptakan representasi konten yang kaya. Proses pembersihan memastikan bahwa perbandingan di tahap selanjutnya akan didasarkan pada makna inti dari kata-kata, bukan pada variasi tata bahasa atau kata-kata umum yang tidak relevan."
   ]
  },
  {
   "cell_type": "markdown",
   "id": "ece73eae",
   "metadata": {},
   "source": [
    "### Vektorisasi Teks dengan TF-IDF**\n",
    "\n",
    "Pada tahap ini, kita menggunakan `TfidfVectorizer` dari Scikit-learn untuk mengubah kolom `content_features` yang berisi teks bersih menjadi sebuah matriks numerik untuk merepresentasikan setiap tempat wisata sebagai sebuah vektor angka. Model tidak bisa memahami teks, tetapi bisa memproses angka. Skor **TF-IDF (Term Frequency-Inverse Document Frequency)** yang dihasilkan untuk setiap kata merepresentasikan seberapa penting kata tersebut dalam mendeskripsikan sebuah tempat secara unik dibandingkan dengan semua tempat lainnya."
   ]
  },
  {
   "cell_type": "code",
   "execution_count": 21,
   "id": "f6699add",
   "metadata": {},
   "outputs": [
    {
     "name": "stdout",
     "output_type": "stream",
     "text": [
      "Matriks TF-IDF berhasil dibuat dengan dimensi (126, 2151)\n"
     ]
    }
   ],
   "source": [
    "# TF-IDF Vectorization\n",
    "tfidf_vectorizer = TfidfVectorizer(min_df=1)\n",
    "tfidf_matrix_cbf = tfidf_vectorizer.fit_transform(df_tourism_yogya['content_features'])\n",
    "print(f\"Matriks TF-IDF berhasil dibuat dengan dimensi {tfidf_matrix_cbf.shape}\")"
   ]
  },
  {
   "cell_type": "markdown",
   "id": "ab152d3f",
   "metadata": {},
   "source": [
    "**Hasil dan Insight:**\n",
    "- Terbentuknya `tfidf_matrix_cbf`, yaitu sebuah matriks TF-IDF dengan dimensi `(126, 2151)`\n",
    "- Angka **126** mengonfirmasi bahwa matriks ini mewakili **126 tempat wisata** di Yogyakarta.\n",
    "- Angka **2,151** menunjukkan bahwa model kita mengidentifikasi ada **2,151 kata kunci unik** yang dianggap penting untuk membedakan satu tempat dengan yang lain setelah melalui proses pembersihan."
   ]
  },
  {
   "cell_type": "markdown",
   "id": "b95b026e",
   "metadata": {},
   "source": [
    "## **Model Development Dengan Content Based Filtering (CBF)**"
   ]
  },
  {
   "cell_type": "markdown",
   "id": "b318de88",
   "metadata": {},
   "source": [
    "### Perhitungan Kemiripan Konten\n",
    "\n",
    "Setelah kita mengubah semua deskripsi tempat menjadi vektor numerik (matriks TF-IDF), langkah selanjutnya adalah menghitung kemiripan antar vektor tersebut. Kita menggunakan metrik **Cosine Similarity** untuk menghasilkan sebuah matriks `(N x N, di mana N adalah jumlah tempat)` yang berisi skor kemiripan antara setiap pasang tempat wisata. Skor ini berkisar dari 0 (sama sekali tidak mirip) hingga 1 (identik secara konten)."
   ]
  },
  {
   "cell_type": "code",
   "execution_count": 23,
   "id": "02b62ce8",
   "metadata": {},
   "outputs": [
    {
     "name": "stdout",
     "output_type": "stream",
     "text": [
      "[CBF] Matriks Cosine Similarity berhasil dibuat.\n"
     ]
    }
   ],
   "source": [
    "cosine_sim_cbf = cosine_similarity(tfidf_matrix_cbf)\n",
    "results['CBF_tfidf_matrix_shape'] = tfidf_matrix_cbf.shape\n",
    "print(f\"[CBF] Matriks Cosine Similarity berhasil dibuat.\")\n",
    "MODEL_CBF_SUCCESS = True"
   ]
  },
  {
   "cell_type": "markdown",
   "id": "dd64df10",
   "metadata": {},
   "source": [
    "**Hasil dan Insight:**\n",
    "- Terbentuknya matriks `cosine_sim_cbf` di dalam memori. *Flag* `MODEL_CBF_SUCCESS` juga diatur ke `True`, yang menandakan bahwa \"model\" Content-Based kita sekarang telah berhasil dibuat dan siap untuk digunakan.\n",
    "- Pada titik ini, kita telah berhasil mengubah masalah perbandingan teks yang kompleks menjadi masalah pencarian angka yang sederhana. Untuk menemukan tempat yang mirip dengan \"Tempat A\", kita sekarang hanya perlu mencari baris yang sesuai dengan \"Tempat A\" di dalam matriks `cosine_sim_cbf` dan mengambil kolom dengan skor tertinggi."
   ]
  },
  {
   "cell_type": "markdown",
   "id": "dc3dfc62",
   "metadata": {},
   "source": [
    "### Visualisasi Matriks Kesamaan (Cosine Similarity)\n",
    "\n",
    "Pada langkah ini, kita mengambil sampel kecil (20 tempat pertama) dari matriks *cosine similarity* yang telah kita buat. Sampel ini kemudian kita visualisasikan sebagai **heatmap** agar kita bisa mendapatkan pemahaman visual yang cepat tentang hubungan kemiripan antar tempat. Warna yang lebih terang menunjukkan skor kemiripan yang lebih tinggi."
   ]
  },
  {
   "cell_type": "code",
   "execution_count": 179,
   "id": "500b9d53",
   "metadata": {},
   "outputs": [
    {
     "data": {
      "image/png": "[encoded data removed]",
      "text/plain": [
       "<Figure size 1200x1000 with 2 Axes>"
      ]
     },
     "metadata": {},
     "output_type": "display_data"
    }
   ],
   "source": [
    "sample_size = 20\n",
    "df_tourism_yogya_cbf_display = df_tourism_yogya.reset_index(drop=True)\n",
    "sample_indices = df_tourism_yogya_cbf_display.head(sample_size).index\n",
    "sample_cosine_sim = cosine_sim_cbf[sample_indices, :][:, sample_indices]\n",
    "sample_place_names = df_tourism_yogya_cbf_display.head(sample_size)['Place_Name']\n",
    "plt.figure(figsize=(12, 10))\n",
    "sns.heatmap(sample_cosine_sim, annot=False, cmap='YlGnBu', xticklabels=sample_place_names, yticklabels=sample_place_names)\n",
    "plt.title('Heatmap Cosine Similarity (Sampel 20 Tempat Pertama)')\n",
    "plt.xticks(rotation=90, size=8); plt.yticks(size=8)\n",
    "plt.show()"
   ]
  },
  {
   "cell_type": "markdown",
   "id": "2dbc3063",
   "metadata": {},
   "source": [
    "**Hasil dan Insight:**\n",
    "- Sebuah heatmap yang menunjukkan skor kemiripan antara 20 tempat wisata pertama di Yogyakarta.\n",
    "- Garis diagonal dari kiri atas ke kanan bawah berwarna paling terang. Ini wajar, karena setiap tempat memiliki kemiripan sempurna (skor 1.0) dengan dirinya sendiri.\n",
    "- Kotak-kotak lain yang berwarna lebih terang menunjukkan pasangan tempat yang memiliki kemiripan konten yang tinggi.\n",
    "- Visualisasi ini berfungsi sebagai **pemeriksaan kewarasan (*sanity check*)** yang sangat baik. Kita bisa melihat ada kelompok-kelompok tempat yang saling mirip. Contohnya, **\"Keraton Yogyakarta\", \"Taman Sari\", dan \"Museum Sonobudoyo\"** kemungkinan akan membentuk sebuah \"blok\" berwarna terang, karena ketiganya adalah tempat wisata budaya/sejarah yang berdekatan. Ini membuktikan bahwa model kita berhasil menangkap hubungan yang logis dari data teks, sehingga kita bisa percaya pada rekomendasinya."
   ]
  },
  {
   "cell_type": "markdown",
   "id": "d78ff361",
   "metadata": {},
   "source": [
    "### Uji Coba Model CBF\n",
    "\n",
    "Pada langkah ini, kita menguji coba model *Content-Based Filtering* yang telah kita bangun. Untuk memberikan contoh nyata dan memvalidasi cara kerja model. Langkah ini mengubah matriks kemiripan yang abstrak menjadi sebuah daftar rekomendasi yang konkret dan dapat diinterpretasikan. Prosesnya adalah:\n",
    "1.  Memilih satu tempat wisata sebagai contoh (dalam kasus ini, tempat pertama yaitu **'Taman Pintar Yogyakarta'**).\n",
    "2.  Memanggil fungsi `get_content_based_recommendations` yang telah kita definisikan sebelumnya.\n",
    "3.  Fungsi ini akan menggunakan matriks *cosine similarity* untuk mencari 5 tempat lain yang paling mirip dengan 'Taman Pintar Yogyakarta' berdasarkan kontennya.\n",
    "4.  Hasilnya ditampilkan dalam bentuk tabel yang rapi."
   ]
  },
  {
   "cell_type": "code",
   "execution_count": 180,
   "id": "764ea1fe",
   "metadata": {},
   "outputs": [
    {
     "name": "stdout",
     "output_type": "stream",
     "text": [
      "[CBF] Contoh Top-5 Rekomendasi berdasarkan kemiripan dengan 'Taman Pintar Yogyakarta':\n"
     ]
    },
    {
     "data": {
      "text/html": [
       "<style type=\"text/css\">\n",
       "</style>\n",
       "<table id=\"T_9103f\">\n",
       "  <thead>\n",
       "    <tr>\n",
       "      <th id=\"T_9103f_level0_col0\" class=\"col_heading level0 col0\" >Place_Id</th>\n",
       "      <th id=\"T_9103f_level0_col1\" class=\"col_heading level0 col1\" >Place_Name</th>\n",
       "      <th id=\"T_9103f_level0_col2\" class=\"col_heading level0 col2\" >Category</th>\n",
       "      <th id=\"T_9103f_level0_col3\" class=\"col_heading level0 col3\" >Rating</th>\n",
       "      <th id=\"T_9103f_level0_col4\" class=\"col_heading level0 col4\" >similarity_score</th>\n",
       "    </tr>\n",
       "  </thead>\n",
       "  <tbody>\n",
       "    <tr>\n",
       "      <td id=\"T_9103f_row0_col0\" class=\"data row0 col0\" >206</td>\n",
       "      <td id=\"T_9103f_row0_col1\" class=\"data row0 col1\" >Wisata Kaliurang</td>\n",
       "      <td id=\"T_9103f_row0_col2\" class=\"data row0 col2\" >Cagar Alam</td>\n",
       "      <td id=\"T_9103f_row0_col3\" class=\"data row0 col3\" >4.400000</td>\n",
       "      <td id=\"T_9103f_row0_col4\" class=\"data row0 col4\" >0.192158</td>\n",
       "    </tr>\n",
       "    <tr>\n",
       "      <td id=\"T_9103f_row1_col0\" class=\"data row1 col0\" >98</td>\n",
       "      <td id=\"T_9103f_row1_col1\" class=\"data row1 col1\" >Taman Pelangi Yogyakarta</td>\n",
       "      <td id=\"T_9103f_row1_col2\" class=\"data row1 col2\" >Taman Hiburan</td>\n",
       "      <td id=\"T_9103f_row1_col3\" class=\"data row1 col3\" >4.300000</td>\n",
       "      <td id=\"T_9103f_row1_col4\" class=\"data row1 col4\" >0.148100</td>\n",
       "    </tr>\n",
       "    <tr>\n",
       "      <td id=\"T_9103f_row2_col0\" class=\"data row2 col0\" >90</td>\n",
       "      <td id=\"T_9103f_row2_col1\" class=\"data row2 col1\" >Kampung Wisata Taman Sari</td>\n",
       "      <td id=\"T_9103f_row2_col2\" class=\"data row2 col2\" >Taman Hiburan</td>\n",
       "      <td id=\"T_9103f_row2_col3\" class=\"data row2 col3\" >4.600000</td>\n",
       "      <td id=\"T_9103f_row2_col4\" class=\"data row2 col4\" >0.147447</td>\n",
       "    </tr>\n",
       "    <tr>\n",
       "      <td id=\"T_9103f_row3_col0\" class=\"data row3 col0\" >203</td>\n",
       "      <td id=\"T_9103f_row3_col1\" class=\"data row3 col1\" >Galaxy Waterpark Jogja</td>\n",
       "      <td id=\"T_9103f_row3_col2\" class=\"data row3 col2\" >Taman Hiburan</td>\n",
       "      <td id=\"T_9103f_row3_col3\" class=\"data row3 col3\" >4.300000</td>\n",
       "      <td id=\"T_9103f_row3_col4\" class=\"data row3 col4\" >0.147205</td>\n",
       "    </tr>\n",
       "    <tr>\n",
       "      <td id=\"T_9103f_row4_col0\" class=\"data row4 col0\" >100</td>\n",
       "      <td id=\"T_9103f_row4_col1\" class=\"data row4 col1\" >Taman Budaya Yogyakarta</td>\n",
       "      <td id=\"T_9103f_row4_col2\" class=\"data row4 col2\" >Budaya</td>\n",
       "      <td id=\"T_9103f_row4_col3\" class=\"data row4 col3\" >4.500000</td>\n",
       "      <td id=\"T_9103f_row4_col4\" class=\"data row4 col4\" >0.140009</td>\n",
       "    </tr>\n",
       "  </tbody>\n",
       "</table>\n"
      ],
      "text/plain": [
       "<pandas.io.formats.style.Styler at 0x134b2569ed0>"
      ]
     },
     "metadata": {},
     "output_type": "display_data"
    }
   ],
   "source": [
    "placeid_to_idx_map_cbf = pd.Series(df_tourism_yogya_cbf_display.index, index=df_tourism_yogya_cbf_display['Place_Id'])\n",
    "sample_place_id_cbf = df_tourism_yogya_cbf_display['Place_Id'].iloc[0]\n",
    "sample_place_name_cbf = df_tourism_yogya_cbf_display.loc[df_tourism_yogya_cbf_display['Place_Id'] == sample_place_id_cbf, 'Place_Name'].iloc[0]\n",
    "results['CBF_sample_place_name'] = sample_place_name_cbf\n",
    "print(f\"[CBF] Contoh Top-5 Rekomendasi berdasarkan kemiripan dengan '{sample_place_name_cbf}':\")\n",
    "top_5_recs_cbf = get_content_based_recommendations(sample_place_id_cbf, cosine_sim_matrix_param=cosine_sim_cbf, tourism_df_param=df_tourism_yogya_cbf_display, id_to_idx_map_param=placeid_to_idx_map_cbf)\n",
    "results['CBF_example_recommendations'] = top_5_recs_cbf\n",
    "display(top_5_recs_cbf.style.hide(axis=\"index\"))"
   ]
  },
  {
   "cell_type": "markdown",
   "id": "b52965ae",
   "metadata": {},
   "source": [
    "**Hasil dan Insight:**\n",
    "\n",
    "- Tabel output menampilkan 5 tempat teratas yang direkomendasikan untuk seseorang yang menyukai 'Taman Pintar Yogyakarta', lengkap dengan skor kemiripannya.\n",
    "- Rekomendasi yang diberikan cukup beragam, mencakup kategori seperti 'Cagar Alam', 'Taman Hiburan', dan 'Budaya'. Ini menunjukkan bahwa model kita **tidak hanya sekadar mencocokkan kategori yang sama persis**.\n",
    "- Model ini berhasil menemukan kemiripan yang lebih dalam, kemungkinan dari kata-kata kunci yang sama di dalam deskripsi tempat. Ini membuktikan bahwa pendekatan TF-IDF dan *cosine similarity* berhasil menangkap nuansa dari konten tekstual untuk memberikan rekomendasi yang relevan lintas kategori."
   ]
  },
  {
   "cell_type": "markdown",
   "id": "03d1e7a9",
   "metadata": {},
   "source": [
    "## **Model Development Dengan Collaborative Filtering (CF)**"
   ]
  },
  {
   "cell_type": "markdown",
   "id": "6bfe0fd1",
   "metadata": {},
   "source": [
    "### Persiapan Data untuk Model CF\n",
    "\n",
    "Pada tahap *data preparation* yang fundamental sebelum melatih model Keras kita. Kode ini melakukan beberapa transformasi data yang sangat penting:\n",
    "1. **Encoding ID:** `User_Id` dan `Place_Id` yang asli diubah menjadi *integer index* yang berurutan (misalnya, user 1 -> 0, user 5 -> 1, dst.). Model *deep learning* bekerja dengan *index* numerik ini untuk mencari *embedding*, bukan dengan ID asli.\n",
    "2. **Normalisasi Rating:** Nilai rating pengguna (yang berskala 1-5) dinormalisasi ke dalam rentang **0 hingga 1**. Ini adalah langkah krusial karena model Keras kita menggunakan fungsi aktivasi `sigmoid` di akhir, yang juga menghasilkan output antara 0 dan 1. Dengan menyamakan skalanya, kita memungkinkan fungsi *loss* (seperti *Mean Squared Error*) untuk bekerja dengan benar.\n",
    "3. **Pengacakan Data:** Data diacak secara random untuk memastikan tidak ada bias yang timbul dari urutan data asli.\n",
    "4. **Pembagian Data (Split):** Data yang sudah diproses kemudian dibagi menjadi dua set: **80% untuk data latih (training)** dan **20% untuk data validasi (validation)**.\n",
    "Untuk mengubah data interaksi mentah menjadi format yang bisa \"dimengerti\" dan diproses oleh model `RecommenderNet` kita. Model ini memerlukan input berupa `[user_index, place_index]` dan output berupa `rating_normalized`.."
   ]
  },
  {
   "cell_type": "code",
   "execution_count": 181,
   "id": "426c5555",
   "metadata": {},
   "outputs": [
    {
     "name": "stdout",
     "output_type": "stream",
     "text": [
      "Memulai persiapan data: Encoding User_Id dan Place_Id, normalisasi rating, dan split data...\n",
      "Persiapan Data CF Selesai.\n",
      "Pembagian Data\n",
      "Data Train   : 2278\n",
      "Data Validasi: 570\n"
     ]
    }
   ],
   "source": [
    "# Cek apakah data rating Yogyakarta ada untuk memulai\n",
    "if not df_rating_yogya_cf.empty and df_rating_yogya_cf['User_Id'].nunique() > 1 and df_rating_yogya_cf['Place_Id'].nunique() > 1:\n",
    "    print(\"Memulai persiapan data: Encoding User_Id dan Place_Id, normalisasi rating, dan split data...\")\n",
    "    \n",
    "    # Encoding User_Id dan Place_Id\n",
    "    user_ids_cf = df_rating_yogya_cf['User_Id'].unique().tolist()\n",
    "    user_to_user_encoded_cf = {x: i for i, x in enumerate(user_ids_cf)}\n",
    "    user_encoded_to_user_cf = {i: x for i, x in enumerate(user_ids_cf)}\n",
    "    df_rating_yogya_cf['user_encoded'] = df_rating_yogya_cf['User_Id'].map(user_to_user_encoded_cf)\n",
    "\n",
    "    place_ids_cf_model = df_rating_yogya_cf['Place_Id'].unique().tolist()\n",
    "    place_to_place_encoded_cf = {x: i for i, x in enumerate(place_ids_cf_model)}\n",
    "    place_encoded_to_place_cf = {i: x for i, x in enumerate(place_ids_cf_model)}\n",
    "    df_rating_yogya_cf['place_encoded'] = df_rating_yogya_cf['Place_Id'].map(place_to_place_encoded_cf)\n",
    "\n",
    "    num_users_cf = len(user_to_user_encoded_cf)\n",
    "    num_places_cf_model = len(place_to_place_encoded_cf)\n",
    "    \n",
    "    # Normalisasi rating\n",
    "    min_rating_cf = df_rating_yogya_cf['Place_Ratings'].min()\n",
    "    max_rating_cf = df_rating_yogya_cf['Place_Ratings'].max()\n",
    "    if max_rating_cf > min_rating_cf:\n",
    "        df_rating_yogya_cf['rating_normalized'] = df_rating_yogya_cf['Place_Ratings'].apply(lambda x: (x - min_rating_cf) / (max_rating_cf - min_rating_cf)).values\n",
    "    else:\n",
    "        df_rating_yogya_cf['rating_normalized'] = 0.5\n",
    "    \n",
    "    # Mengacak dan membagi data\n",
    "    df_cf_shuffled = df_rating_yogya_cf.sample(frac=1, random_state=42)\n",
    "    x_cf = df_cf_shuffled[['user_encoded', 'place_encoded']].values\n",
    "    y_cf = df_cf_shuffled['rating_normalized'].values\n",
    "    \n",
    "    train_indices_cf = int(0.8 * df_cf_shuffled.shape[0])\n",
    "    x_train_cf, x_val_cf, y_train_cf, y_val_cf = (\n",
    "        x_cf[:train_indices_cf],\n",
    "        x_cf[train_indices_cf:],\n",
    "        y_cf[:train_indices_cf],\n",
    "        y_cf[train_indices_cf:]\n",
    "    )\n",
    "    \n",
    "    validation_data_keras = (x_val_cf, y_val_cf)\n",
    "    print(\"Persiapan Data CF Selesai.\")\n",
    "    print(\"Pembagian Data\")\n",
    "    print(f\"Data Train   : {len(x_train_cf)}\")\n",
    "    print(f\"Data Validasi: {len(x_val_cf)}\")\n",
    "    MODEL_CF_PREPARED = True\n",
    "else:\n",
    "    print(\"Data rating Yogyakarta tidak cukup untuk memulai Collaborative Filtering.\")\n",
    "    MODEL_CF_PREPARED = False"
   ]
  },
  {
   "cell_type": "markdown",
   "id": "2eb28efc",
   "metadata": {},
   "source": [
    "**Hasil dan Insight:**\n",
    "- Terbentuknya set data latih (`x_train_cf`, `y_train_cf`) dan set data validasi (`x_val_cf`, `y_val_cf`) yang siap untuk dimasukkan ke dalam model Keras.\n",
    "- Langkah ini adalah perantara antara data mentah dan model *deep learning*. Setiap langkah (encoding, normalisasi, splitting) adalah prasyarat yang tidak bisa dilewati.\n",
    "- Dengan `MODEL_CF_PREPARED` diatur ke `True`, kita telah memberikan sinyal bahwa fondasi data untuk model *Collaboratif Filtering* telah berhasil dibangun, dan kita siap untuk memulai proses pelatihan"
   ]
  },
  {
   "cell_type": "markdown",
   "id": "29bfd1dd",
   "metadata": {},
   "source": [
    "### Training Model CF\n",
    "\n",
    "Pada tahap Ini adalah tahap dari pembangunan model *Collaborative Filtering* kita untuk \"mengajari\" *embedding layer* di dalam model. Selama pelatihan, model akan terus menyesuaikan nilai-nilai vektor *embedding* untuk setiap pengguna dan tempat agar prediksi ratingnya semakin mendekati rating yang sebenarnya. Prosesnya adalah sebagai berikut:\n",
    "1. **Inisialisasi & Kompilasi:** Kita membuat sebuah instance dari kelas `RecommenderNet` yang telah kita definisikan. Model ini kemudian di-*compile* dengan:\n",
    "    - **Loss Function `BinaryCrossentropy`**: Cocok digunakan karena output rating kita telah dinormalisasi antara 0 dan 1, sehingga bisa diinterpretasikan seperti probabilitas.\n",
    "    - **Optimizer `Adam`**: Sebuah algoritma optimasi yang efisien dan populer.\n",
    "    - **Metrik `RootMeanSquaredError`**: Untuk memonitor error prediksi selama pelatihan.\n",
    "2. **Pelatihan (Fitting):** Model dilatih menggunakan data latih (`x_train_cf`, `y_train_cf`) selama 100 *epoch*. Di setiap *epoch*, model juga dievaluasi pada data validasi (`validation_data`) untuk memantau performanya pada data yang belum pernah dilihat.\n",
    "3. **Penyimpanan Hasil:** *History* atau riwayat pelatihan (nilai *loss* dan metrik di setiap *epoch*) disimpan untuk analisis lebih lanjut. *Flag* `MODEL_CF_SUCCESS` diatur ke `True`."
   ]
  },
  {
   "cell_type": "code",
   "execution_count": 182,
   "id": "38947b5f",
   "metadata": {},
   "outputs": [
    {
     "name": "stdout",
     "output_type": "stream",
     "text": [
      "Melatih model Keras RecommenderNet...\n",
      "Epoch 1/100\n",
      "\u001b[1m36/36\u001b[0m \u001b[32m━━━━━━━━━━━━━━━━━━━━\u001b[0m\u001b[37m\u001b[0m \u001b[1m4s\u001b[0m 16ms/step - loss: 0.7351 - root_mean_squared_error: 0.3749 - val_loss: 0.7441 - val_root_mean_squared_error: 0.3773\n",
      "Epoch 2/100\n",
      "\u001b[1m36/36\u001b[0m \u001b[32m━━━━━━━━━━━━━━━━━━━━\u001b[0m\u001b[37m\u001b[0m \u001b[1m0s\u001b[0m 4ms/step - loss: 0.7508 - root_mean_squared_error: 0.3849 - val_loss: 0.7469 - val_root_mean_squared_error: 0.3791\n",
      "Epoch 3/100\n",
      "\u001b[1m36/36\u001b[0m \u001b[32m━━━━━━━━━━━━━━━━━━━━\u001b[0m\u001b[37m\u001b[0m \u001b[1m0s\u001b[0m 4ms/step - loss: 0.7241 - root_mean_squared_error: 0.3687 - val_loss: 0.7447 - val_root_mean_squared_error: 0.3781\n",
      "Epoch 4/100\n",
      "\u001b[1m36/36\u001b[0m \u001b[32m━━━━━━━━━━━━━━━━━━━━\u001b[0m\u001b[37m\u001b[0m \u001b[1m0s\u001b[0m 4ms/step - loss: 0.7144 - root_mean_squared_error: 0.3642 - val_loss: 0.7445 - val_root_mean_squared_error: 0.3778\n",
      "Epoch 5/100\n",
      "\u001b[1m36/36\u001b[0m \u001b[32m━━━━━━━━━━━━━━━━━━━━\u001b[0m\u001b[37m\u001b[0m \u001b[1m0s\u001b[0m 4ms/step - loss: 0.7181 - root_mean_squared_error: 0.3664 - val_loss: 0.7411 - val_root_mean_squared_error: 0.3761\n",
      "Epoch 6/100\n",
      "\u001b[1m36/36\u001b[0m \u001b[32m━━━━━━━━━━━━━━━━━━━━\u001b[0m\u001b[37m\u001b[0m \u001b[1m0s\u001b[0m 5ms/step - loss: 0.7290 - root_mean_squared_error: 0.3713 - val_loss: 0.7418 - val_root_mean_squared_error: 0.3765\n",
      "Epoch 7/100\n",
      "\u001b[1m36/36\u001b[0m \u001b[32m━━━━━━━━━━━━━━━━━━━━\u001b[0m\u001b[37m\u001b[0m \u001b[1m0s\u001b[0m 4ms/step - loss: 0.7305 - root_mean_squared_error: 0.3744 - val_loss: 0.7429 - val_root_mean_squared_error: 0.3772\n",
      "Epoch 8/100\n",
      "\u001b[1m36/36\u001b[0m \u001b[32m━━━━━━━━━━━━━━━━━━━━\u001b[0m\u001b[37m\u001b[0m \u001b[1m0s\u001b[0m 4ms/step - loss: 0.7176 - root_mean_squared_error: 0.3635 - val_loss: 0.7401 - val_root_mean_squared_error: 0.3756\n",
      "Epoch 9/100\n",
      "\u001b[1m36/36\u001b[0m \u001b[32m━━━━━━━━━━━━━━━━━━━━\u001b[0m\u001b[37m\u001b[0m \u001b[1m0s\u001b[0m 4ms/step - loss: 0.7150 - root_mean_squared_error: 0.3640 - val_loss: 0.7337 - val_root_mean_squared_error: 0.3722\n",
      "Epoch 10/100\n",
      "\u001b[1m36/36\u001b[0m \u001b[32m━━━━━━━━━━━━━━━━━━━━\u001b[0m\u001b[37m\u001b[0m \u001b[1m0s\u001b[0m 4ms/step - loss: 0.7159 - root_mean_squared_error: 0.3629 - val_loss: 0.7289 - val_root_mean_squared_error: 0.3695\n",
      "Epoch 11/100\n",
      "\u001b[1m36/36\u001b[0m \u001b[32m━━━━━━━━━━━━━━━━━━━━\u001b[0m\u001b[37m\u001b[0m \u001b[1m0s\u001b[0m 4ms/step - loss: 0.7140 - root_mean_squared_error: 0.3655 - val_loss: 0.7287 - val_root_mean_squared_error: 0.3694\n",
      "Epoch 12/100\n",
      "\u001b[1m36/36\u001b[0m \u001b[32m━━━━━━━━━━━━━━━━━━━━\u001b[0m\u001b[37m\u001b[0m \u001b[1m0s\u001b[0m 4ms/step - loss: 0.7471 - root_mean_squared_error: 0.3813 - val_loss: 0.7282 - val_root_mean_squared_error: 0.3691\n",
      "Epoch 13/100\n",
      "\u001b[1m36/36\u001b[0m \u001b[32m━━━━━━━━━━━━━━━━━━━━\u001b[0m\u001b[37m\u001b[0m \u001b[1m0s\u001b[0m 4ms/step - loss: 0.7358 - root_mean_squared_error: 0.3740 - val_loss: 0.7315 - val_root_mean_squared_error: 0.3711\n",
      "Epoch 14/100\n",
      "\u001b[1m36/36\u001b[0m \u001b[32m━━━━━━━━━━━━━━━━━━━━\u001b[0m\u001b[37m\u001b[0m \u001b[1m0s\u001b[0m 4ms/step - loss: 0.6967 - root_mean_squared_error: 0.3518 - val_loss: 0.7286 - val_root_mean_squared_error: 0.3692\n",
      "Epoch 15/100\n",
      "\u001b[1m36/36\u001b[0m \u001b[32m━━━━━━━━━━━━━━━━━━━━\u001b[0m\u001b[37m\u001b[0m \u001b[1m0s\u001b[0m 4ms/step - loss: 0.7123 - root_mean_squared_error: 0.3570 - val_loss: 0.7252 - val_root_mean_squared_error: 0.3673\n",
      "Epoch 16/100\n",
      "\u001b[1m36/36\u001b[0m \u001b[32m━━━━━━━━━━━━━━━━━━━━\u001b[0m\u001b[37m\u001b[0m \u001b[1m0s\u001b[0m 4ms/step - loss: 0.6976 - root_mean_squared_error: 0.3498 - val_loss: 0.7294 - val_root_mean_squared_error: 0.3697\n",
      "Epoch 17/100\n",
      "\u001b[1m36/36\u001b[0m \u001b[32m━━━━━━━━━━━━━━━━━━━━\u001b[0m\u001b[37m\u001b[0m \u001b[1m0s\u001b[0m 4ms/step - loss: 0.7245 - root_mean_squared_error: 0.3705 - val_loss: 0.7313 - val_root_mean_squared_error: 0.3709\n",
      "Epoch 18/100\n",
      "\u001b[1m36/36\u001b[0m \u001b[32m━━━━━━━━━━━━━━━━━━━━\u001b[0m\u001b[37m\u001b[0m \u001b[1m0s\u001b[0m 5ms/step - loss: 0.6980 - root_mean_squared_error: 0.3537 - val_loss: 0.7323 - val_root_mean_squared_error: 0.3715\n",
      "Epoch 19/100\n",
      "\u001b[1m36/36\u001b[0m \u001b[32m━━━━━━━━━━━━━━━━━━━━\u001b[0m\u001b[37m\u001b[0m \u001b[1m0s\u001b[0m 7ms/step - loss: 0.7044 - root_mean_squared_error: 0.3508 - val_loss: 0.7311 - val_root_mean_squared_error: 0.3709\n",
      "Epoch 20/100\n",
      "\u001b[1m36/36\u001b[0m \u001b[32m━━━━━━━━━━━━━━━━━━━━\u001b[0m\u001b[37m\u001b[0m \u001b[1m0s\u001b[0m 7ms/step - loss: 0.7168 - root_mean_squared_error: 0.3589 - val_loss: 0.7314 - val_root_mean_squared_error: 0.3709\n",
      "Epoch 21/100\n",
      "\u001b[1m36/36\u001b[0m \u001b[32m━━━━━━━━━━━━━━━━━━━━\u001b[0m\u001b[37m\u001b[0m \u001b[1m0s\u001b[0m 6ms/step - loss: 0.6938 - root_mean_squared_error: 0.3500 - val_loss: 0.7276 - val_root_mean_squared_error: 0.3686\n",
      "Epoch 22/100\n",
      "\u001b[1m36/36\u001b[0m \u001b[32m━━━━━━━━━━━━━━━━━━━━\u001b[0m\u001b[37m\u001b[0m \u001b[1m0s\u001b[0m 5ms/step - loss: 0.6972 - root_mean_squared_error: 0.3546 - val_loss: 0.7282 - val_root_mean_squared_error: 0.3689\n",
      "Epoch 23/100\n",
      "\u001b[1m36/36\u001b[0m \u001b[32m━━━━━━━━━━━━━━━━━━━━\u001b[0m\u001b[37m\u001b[0m \u001b[1m0s\u001b[0m 4ms/step - loss: 0.7314 - root_mean_squared_error: 0.3743 - val_loss: 0.7280 - val_root_mean_squared_error: 0.3686\n",
      "Epoch 24/100\n",
      "\u001b[1m36/36\u001b[0m \u001b[32m━━━━━━━━━━━━━━━━━━━━\u001b[0m\u001b[37m\u001b[0m \u001b[1m0s\u001b[0m 3ms/step - loss: 0.6989 - root_mean_squared_error: 0.3518 - val_loss: 0.7282 - val_root_mean_squared_error: 0.3688\n",
      "Epoch 25/100\n",
      "\u001b[1m36/36\u001b[0m \u001b[32m━━━━━━━━━━━━━━━━━━━━\u001b[0m\u001b[37m\u001b[0m \u001b[1m0s\u001b[0m 4ms/step - loss: 0.7008 - root_mean_squared_error: 0.3557 - val_loss: 0.7334 - val_root_mean_squared_error: 0.3719\n",
      "Epoch 26/100\n",
      "\u001b[1m36/36\u001b[0m \u001b[32m━━━━━━━━━━━━━━━━━━━━\u001b[0m\u001b[37m\u001b[0m \u001b[1m0s\u001b[0m 4ms/step - loss: 0.6951 - root_mean_squared_error: 0.3515 - val_loss: 0.7323 - val_root_mean_squared_error: 0.3713\n",
      "Epoch 27/100\n",
      "\u001b[1m36/36\u001b[0m \u001b[32m━━━━━━━━━━━━━━━━━━━━\u001b[0m\u001b[37m\u001b[0m \u001b[1m0s\u001b[0m 4ms/step - loss: 0.7208 - root_mean_squared_error: 0.3618 - val_loss: 0.7354 - val_root_mean_squared_error: 0.3729\n",
      "Epoch 28/100\n",
      "\u001b[1m36/36\u001b[0m \u001b[32m━━━━━━━━━━━━━━━━━━━━\u001b[0m\u001b[37m\u001b[0m \u001b[1m0s\u001b[0m 4ms/step - loss: 0.6969 - root_mean_squared_error: 0.3487 - val_loss: 0.7327 - val_root_mean_squared_error: 0.3715\n",
      "Epoch 29/100\n",
      "\u001b[1m36/36\u001b[0m \u001b[32m━━━━━━━━━━━━━━━━━━━━\u001b[0m\u001b[37m\u001b[0m \u001b[1m0s\u001b[0m 4ms/step - loss: 0.7098 - root_mean_squared_error: 0.3630 - val_loss: 0.7348 - val_root_mean_squared_error: 0.3728\n",
      "Epoch 30/100\n",
      "\u001b[1m36/36\u001b[0m \u001b[32m━━━━━━━━━━━━━━━━━━━━\u001b[0m\u001b[37m\u001b[0m \u001b[1m0s\u001b[0m 4ms/step - loss: 0.6933 - root_mean_squared_error: 0.3535 - val_loss: 0.7337 - val_root_mean_squared_error: 0.3723\n",
      "Epoch 31/100\n",
      "\u001b[1m36/36\u001b[0m \u001b[32m━━━━━━━━━━━━━━━━━━━━\u001b[0m\u001b[37m\u001b[0m \u001b[1m0s\u001b[0m 4ms/step - loss: 0.6933 - root_mean_squared_error: 0.3531 - val_loss: 0.7341 - val_root_mean_squared_error: 0.3723\n",
      "Epoch 32/100\n",
      "\u001b[1m36/36\u001b[0m \u001b[32m━━━━━━━━━━━━━━━━━━━━\u001b[0m\u001b[37m\u001b[0m \u001b[1m0s\u001b[0m 4ms/step - loss: 0.7066 - root_mean_squared_error: 0.3558 - val_loss: 0.7333 - val_root_mean_squared_error: 0.3720\n",
      "Epoch 33/100\n",
      "\u001b[1m36/36\u001b[0m \u001b[32m━━━━━━━━━━━━━━━━━━━━\u001b[0m\u001b[37m\u001b[0m \u001b[1m0s\u001b[0m 4ms/step - loss: 0.7054 - root_mean_squared_error: 0.3563 - val_loss: 0.7338 - val_root_mean_squared_error: 0.3720\n",
      "Epoch 34/100\n",
      "\u001b[1m36/36\u001b[0m \u001b[32m━━━━━━━━━━━━━━━━━━━━\u001b[0m\u001b[37m\u001b[0m \u001b[1m0s\u001b[0m 4ms/step - loss: 0.6935 - root_mean_squared_error: 0.3543 - val_loss: 0.7374 - val_root_mean_squared_error: 0.3740\n",
      "Epoch 35/100\n",
      "\u001b[1m36/36\u001b[0m \u001b[32m━━━━━━━━━━━━━━━━━━━━\u001b[0m\u001b[37m\u001b[0m \u001b[1m0s\u001b[0m 3ms/step - loss: 0.6860 - root_mean_squared_error: 0.3434 - val_loss: 0.7392 - val_root_mean_squared_error: 0.3750\n",
      "Epoch 36/100\n",
      "\u001b[1m36/36\u001b[0m \u001b[32m━━━━━━━━━━━━━━━━━━━━\u001b[0m\u001b[37m\u001b[0m \u001b[1m0s\u001b[0m 3ms/step - loss: 0.6862 - root_mean_squared_error: 0.3484 - val_loss: 0.7398 - val_root_mean_squared_error: 0.3753\n",
      "Epoch 37/100\n",
      "\u001b[1m36/36\u001b[0m \u001b[32m━━━━━━━━━━━━━━━━━━━━\u001b[0m\u001b[37m\u001b[0m \u001b[1m0s\u001b[0m 3ms/step - loss: 0.7106 - root_mean_squared_error: 0.3570 - val_loss: 0.7387 - val_root_mean_squared_error: 0.3746\n",
      "Epoch 38/100\n",
      "\u001b[1m36/36\u001b[0m \u001b[32m━━━━━━━━━━━━━━━━━━━━\u001b[0m\u001b[37m\u001b[0m \u001b[1m0s\u001b[0m 4ms/step - loss: 0.6862 - root_mean_squared_error: 0.3486 - val_loss: 0.7380 - val_root_mean_squared_error: 0.3743\n",
      "Epoch 39/100\n",
      "\u001b[1m36/36\u001b[0m \u001b[32m━━━━━━━━━━━━━━━━━━━━\u001b[0m\u001b[37m\u001b[0m \u001b[1m0s\u001b[0m 4ms/step - loss: 0.6864 - root_mean_squared_error: 0.3464 - val_loss: 0.7408 - val_root_mean_squared_error: 0.3756\n",
      "Epoch 40/100\n",
      "\u001b[1m36/36\u001b[0m \u001b[32m━━━━━━━━━━━━━━━━━━━━\u001b[0m\u001b[37m\u001b[0m \u001b[1m0s\u001b[0m 4ms/step - loss: 0.7000 - root_mean_squared_error: 0.3539 - val_loss: 0.7443 - val_root_mean_squared_error: 0.3777\n",
      "Epoch 41/100\n",
      "\u001b[1m36/36\u001b[0m \u001b[32m━━━━━━━━━━━━━━━━━━━━\u001b[0m\u001b[37m\u001b[0m \u001b[1m0s\u001b[0m 4ms/step - loss: 0.6894 - root_mean_squared_error: 0.3485 - val_loss: 0.7453 - val_root_mean_squared_error: 0.3782\n",
      "Epoch 42/100\n",
      "\u001b[1m36/36\u001b[0m \u001b[32m━━━━━━━━━━━━━━━━━━━━\u001b[0m\u001b[37m\u001b[0m \u001b[1m0s\u001b[0m 4ms/step - loss: 0.6869 - root_mean_squared_error: 0.3463 - val_loss: 0.7396 - val_root_mean_squared_error: 0.3752\n",
      "Epoch 43/100\n",
      "\u001b[1m36/36\u001b[0m \u001b[32m━━━━━━━━━━━━━━━━━━━━\u001b[0m\u001b[37m\u001b[0m \u001b[1m0s\u001b[0m 4ms/step - loss: 0.6917 - root_mean_squared_error: 0.3480 - val_loss: 0.7377 - val_root_mean_squared_error: 0.3741\n",
      "Epoch 44/100\n",
      "\u001b[1m36/36\u001b[0m \u001b[32m━━━━━━━━━━━━━━━━━━━━\u001b[0m\u001b[37m\u001b[0m \u001b[1m0s\u001b[0m 4ms/step - loss: 0.6688 - root_mean_squared_error: 0.3322 - val_loss: 0.7415 - val_root_mean_squared_error: 0.3764\n",
      "Epoch 45/100\n",
      "\u001b[1m36/36\u001b[0m \u001b[32m━━━━━━━━━━━━━━━━━━━━\u001b[0m\u001b[37m\u001b[0m \u001b[1m0s\u001b[0m 4ms/step - loss: 0.6833 - root_mean_squared_error: 0.3463 - val_loss: 0.7426 - val_root_mean_squared_error: 0.3771\n",
      "Epoch 46/100\n",
      "\u001b[1m36/36\u001b[0m \u001b[32m━━━━━━━━━━━━━━━━━━━━\u001b[0m\u001b[37m\u001b[0m \u001b[1m0s\u001b[0m 4ms/step - loss: 0.7049 - root_mean_squared_error: 0.3619 - val_loss: 0.7394 - val_root_mean_squared_error: 0.3752\n",
      "Epoch 47/100\n",
      "\u001b[1m36/36\u001b[0m \u001b[32m━━━━━━━━━━━━━━━━━━━━\u001b[0m\u001b[37m\u001b[0m \u001b[1m0s\u001b[0m 4ms/step - loss: 0.6816 - root_mean_squared_error: 0.3427 - val_loss: 0.7389 - val_root_mean_squared_error: 0.3750\n",
      "Epoch 48/100\n",
      "\u001b[1m36/36\u001b[0m \u001b[32m━━━━━━━━━━━━━━━━━━━━\u001b[0m\u001b[37m\u001b[0m \u001b[1m0s\u001b[0m 4ms/step - loss: 0.6799 - root_mean_squared_error: 0.3419 - val_loss: 0.7352 - val_root_mean_squared_error: 0.3728\n",
      "Epoch 49/100\n",
      "\u001b[1m36/36\u001b[0m \u001b[32m━━━━━━━━━━━━━━━━━━━━\u001b[0m\u001b[37m\u001b[0m \u001b[1m0s\u001b[0m 4ms/step - loss: 0.6925 - root_mean_squared_error: 0.3464 - val_loss: 0.7356 - val_root_mean_squared_error: 0.3731\n",
      "Epoch 50/100\n",
      "\u001b[1m36/36\u001b[0m \u001b[32m━━━━━━━━━━━━━━━━━━━━\u001b[0m\u001b[37m\u001b[0m \u001b[1m0s\u001b[0m 4ms/step - loss: 0.6791 - root_mean_squared_error: 0.3391 - val_loss: 0.7366 - val_root_mean_squared_error: 0.3736\n",
      "Epoch 51/100\n",
      "\u001b[1m36/36\u001b[0m \u001b[32m━━━━━━━━━━━━━━━━━━━━\u001b[0m\u001b[37m\u001b[0m \u001b[1m0s\u001b[0m 4ms/step - loss: 0.6829 - root_mean_squared_error: 0.3393 - val_loss: 0.7405 - val_root_mean_squared_error: 0.3760\n",
      "Epoch 52/100\n",
      "\u001b[1m36/36\u001b[0m \u001b[32m━━━━━━━━━━━━━━━━━━━━\u001b[0m\u001b[37m\u001b[0m \u001b[1m0s\u001b[0m 5ms/step - loss: 0.6756 - root_mean_squared_error: 0.3397 - val_loss: 0.7403 - val_root_mean_squared_error: 0.3757\n",
      "Epoch 53/100\n",
      "\u001b[1m36/36\u001b[0m \u001b[32m━━━━━━━━━━━━━━━━━━━━\u001b[0m\u001b[37m\u001b[0m \u001b[1m0s\u001b[0m 4ms/step - loss: 0.6922 - root_mean_squared_error: 0.3509 - val_loss: 0.7429 - val_root_mean_squared_error: 0.3772\n",
      "Epoch 54/100\n",
      "\u001b[1m36/36\u001b[0m \u001b[32m━━━━━━━━━━━━━━━━━━━━\u001b[0m\u001b[37m\u001b[0m \u001b[1m0s\u001b[0m 4ms/step - loss: 0.6993 - root_mean_squared_error: 0.3557 - val_loss: 0.7402 - val_root_mean_squared_error: 0.3757\n",
      "Epoch 55/100\n",
      "\u001b[1m36/36\u001b[0m \u001b[32m━━━━━━━━━━━━━━━━━━━━\u001b[0m\u001b[37m\u001b[0m \u001b[1m0s\u001b[0m 4ms/step - loss: 0.6688 - root_mean_squared_error: 0.3344 - val_loss: 0.7387 - val_root_mean_squared_error: 0.3747\n",
      "Epoch 56/100\n",
      "\u001b[1m36/36\u001b[0m \u001b[32m━━━━━━━━━━━━━━━━━━━━\u001b[0m\u001b[37m\u001b[0m \u001b[1m0s\u001b[0m 3ms/step - loss: 0.6696 - root_mean_squared_error: 0.3372 - val_loss: 0.7397 - val_root_mean_squared_error: 0.3753\n",
      "Epoch 57/100\n",
      "\u001b[1m36/36\u001b[0m \u001b[32m━━━━━━━━━━━━━━━━━━━━\u001b[0m\u001b[37m\u001b[0m \u001b[1m0s\u001b[0m 4ms/step - loss: 0.6741 - root_mean_squared_error: 0.3414 - val_loss: 0.7378 - val_root_mean_squared_error: 0.3743\n",
      "Epoch 58/100\n",
      "\u001b[1m36/36\u001b[0m \u001b[32m━━━━━━━━━━━━━━━━━━━━\u001b[0m\u001b[37m\u001b[0m \u001b[1m0s\u001b[0m 4ms/step - loss: 0.6647 - root_mean_squared_error: 0.3315 - val_loss: 0.7382 - val_root_mean_squared_error: 0.3745\n",
      "Epoch 59/100\n",
      "\u001b[1m36/36\u001b[0m \u001b[32m━━━━━━━━━━━━━━━━━━━━\u001b[0m\u001b[37m\u001b[0m \u001b[1m0s\u001b[0m 4ms/step - loss: 0.6892 - root_mean_squared_error: 0.3536 - val_loss: 0.7358 - val_root_mean_squared_error: 0.3730\n",
      "Epoch 60/100\n",
      "\u001b[1m36/36\u001b[0m \u001b[32m━━━━━━━━━━━━━━━━━━━━\u001b[0m\u001b[37m\u001b[0m \u001b[1m0s\u001b[0m 4ms/step - loss: 0.6826 - root_mean_squared_error: 0.3385 - val_loss: 0.7360 - val_root_mean_squared_error: 0.3730\n",
      "Epoch 61/100\n",
      "\u001b[1m36/36\u001b[0m \u001b[32m━━━━━━━━━━━━━━━━━━━━\u001b[0m\u001b[37m\u001b[0m \u001b[1m0s\u001b[0m 4ms/step - loss: 0.6706 - root_mean_squared_error: 0.3357 - val_loss: 0.7354 - val_root_mean_squared_error: 0.3726\n",
      "Epoch 62/100\n",
      "\u001b[1m36/36\u001b[0m \u001b[32m━━━━━━━━━━━━━━━━━━━━\u001b[0m\u001b[37m\u001b[0m \u001b[1m0s\u001b[0m 4ms/step - loss: 0.6770 - root_mean_squared_error: 0.3364 - val_loss: 0.7362 - val_root_mean_squared_error: 0.3731\n",
      "Epoch 63/100\n",
      "\u001b[1m36/36\u001b[0m \u001b[32m━━━━━━━━━━━━━━━━━━━━\u001b[0m\u001b[37m\u001b[0m \u001b[1m0s\u001b[0m 4ms/step - loss: 0.6710 - root_mean_squared_error: 0.3319 - val_loss: 0.7381 - val_root_mean_squared_error: 0.3742\n",
      "Epoch 64/100\n",
      "\u001b[1m36/36\u001b[0m \u001b[32m━━━━━━━━━━━━━━━━━━━━\u001b[0m\u001b[37m\u001b[0m \u001b[1m0s\u001b[0m 4ms/step - loss: 0.6714 - root_mean_squared_error: 0.3378 - val_loss: 0.7370 - val_root_mean_squared_error: 0.3736\n",
      "Epoch 65/100\n",
      "\u001b[1m36/36\u001b[0m \u001b[32m━━━━━━━━━━━━━━━━━━━━\u001b[0m\u001b[37m\u001b[0m \u001b[1m0s\u001b[0m 4ms/step - loss: 0.6764 - root_mean_squared_error: 0.3382 - val_loss: 0.7383 - val_root_mean_squared_error: 0.3743\n",
      "Epoch 66/100\n",
      "\u001b[1m36/36\u001b[0m \u001b[32m━━━━━━━━━━━━━━━━━━━━\u001b[0m\u001b[37m\u001b[0m \u001b[1m0s\u001b[0m 4ms/step - loss: 0.6831 - root_mean_squared_error: 0.3449 - val_loss: 0.7383 - val_root_mean_squared_error: 0.3743\n",
      "Epoch 67/100\n",
      "\u001b[1m36/36\u001b[0m \u001b[32m━━━━━━━━━━━━━━━━━━━━\u001b[0m\u001b[37m\u001b[0m \u001b[1m0s\u001b[0m 4ms/step - loss: 0.6627 - root_mean_squared_error: 0.3315 - val_loss: 0.7379 - val_root_mean_squared_error: 0.3742\n",
      "Epoch 68/100\n",
      "\u001b[1m36/36\u001b[0m \u001b[32m━━━━━━━━━━━━━━━━━━━━\u001b[0m\u001b[37m\u001b[0m \u001b[1m0s\u001b[0m 4ms/step - loss: 0.6829 - root_mean_squared_error: 0.3432 - val_loss: 0.7405 - val_root_mean_squared_error: 0.3755\n",
      "Epoch 69/100\n",
      "\u001b[1m36/36\u001b[0m \u001b[32m━━━━━━━━━━━━━━━━━━━━\u001b[0m\u001b[37m\u001b[0m \u001b[1m0s\u001b[0m 4ms/step - loss: 0.6795 - root_mean_squared_error: 0.3385 - val_loss: 0.7406 - val_root_mean_squared_error: 0.3754\n",
      "Epoch 70/100\n",
      "\u001b[1m36/36\u001b[0m \u001b[32m━━━━━━━━━━━━━━━━━━━━\u001b[0m\u001b[37m\u001b[0m \u001b[1m0s\u001b[0m 4ms/step - loss: 0.6788 - root_mean_squared_error: 0.3418 - val_loss: 0.7433 - val_root_mean_squared_error: 0.3769\n",
      "Epoch 71/100\n",
      "\u001b[1m36/36\u001b[0m \u001b[32m━━━━━━━━━━━━━━━━━━━━\u001b[0m\u001b[37m\u001b[0m \u001b[1m0s\u001b[0m 3ms/step - loss: 0.6873 - root_mean_squared_error: 0.3481 - val_loss: 0.7438 - val_root_mean_squared_error: 0.3772\n",
      "Epoch 72/100\n",
      "\u001b[1m36/36\u001b[0m \u001b[32m━━━━━━━━━━━━━━━━━━━━\u001b[0m\u001b[37m\u001b[0m \u001b[1m0s\u001b[0m 4ms/step - loss: 0.6706 - root_mean_squared_error: 0.3315 - val_loss: 0.7428 - val_root_mean_squared_error: 0.3765\n",
      "Epoch 73/100\n",
      "\u001b[1m36/36\u001b[0m \u001b[32m━━━━━━━━━━━━━━━━━━━━\u001b[0m\u001b[37m\u001b[0m \u001b[1m0s\u001b[0m 4ms/step - loss: 0.6871 - root_mean_squared_error: 0.3479 - val_loss: 0.7418 - val_root_mean_squared_error: 0.3760\n",
      "Epoch 74/100\n",
      "\u001b[1m36/36\u001b[0m \u001b[32m━━━━━━━━━━━━━━━━━━━━\u001b[0m\u001b[37m\u001b[0m \u001b[1m0s\u001b[0m 4ms/step - loss: 0.6670 - root_mean_squared_error: 0.3304 - val_loss: 0.7435 - val_root_mean_squared_error: 0.3770\n",
      "Epoch 75/100\n",
      "\u001b[1m36/36\u001b[0m \u001b[32m━━━━━━━━━━━━━━━━━━━━\u001b[0m\u001b[37m\u001b[0m \u001b[1m0s\u001b[0m 4ms/step - loss: 0.6726 - root_mean_squared_error: 0.3343 - val_loss: 0.7459 - val_root_mean_squared_error: 0.3783\n",
      "Epoch 76/100\n",
      "\u001b[1m36/36\u001b[0m \u001b[32m━━━━━━━━━━━━━━━━━━━━\u001b[0m\u001b[37m\u001b[0m \u001b[1m0s\u001b[0m 4ms/step - loss: 0.6688 - root_mean_squared_error: 0.3355 - val_loss: 0.7482 - val_root_mean_squared_error: 0.3794\n",
      "Epoch 77/100\n",
      "\u001b[1m36/36\u001b[0m \u001b[32m━━━━━━━━━━━━━━━━━━━━\u001b[0m\u001b[37m\u001b[0m \u001b[1m0s\u001b[0m 4ms/step - loss: 0.6772 - root_mean_squared_error: 0.3330 - val_loss: 0.7493 - val_root_mean_squared_error: 0.3799\n",
      "Epoch 78/100\n",
      "\u001b[1m36/36\u001b[0m \u001b[32m━━━━━━━━━━━━━━━━━━━━\u001b[0m\u001b[37m\u001b[0m \u001b[1m0s\u001b[0m 4ms/step - loss: 0.6736 - root_mean_squared_error: 0.3376 - val_loss: 0.7482 - val_root_mean_squared_error: 0.3792\n",
      "Epoch 79/100\n",
      "\u001b[1m36/36\u001b[0m \u001b[32m━━━━━━━━━━━━━━━━━━━━\u001b[0m\u001b[37m\u001b[0m \u001b[1m0s\u001b[0m 4ms/step - loss: 0.6680 - root_mean_squared_error: 0.3333 - val_loss: 0.7523 - val_root_mean_squared_error: 0.3813\n",
      "Epoch 80/100\n",
      "\u001b[1m36/36\u001b[0m \u001b[32m━━━━━━━━━━━━━━━━━━━━\u001b[0m\u001b[37m\u001b[0m \u001b[1m0s\u001b[0m 4ms/step - loss: 0.6783 - root_mean_squared_error: 0.3389 - val_loss: 0.7537 - val_root_mean_squared_error: 0.3823\n",
      "Epoch 81/100\n",
      "\u001b[1m36/36\u001b[0m \u001b[32m━━━━━━━━━━━━━━━━━━━━\u001b[0m\u001b[37m\u001b[0m \u001b[1m0s\u001b[0m 4ms/step - loss: 0.6641 - root_mean_squared_error: 0.3240 - val_loss: 0.7530 - val_root_mean_squared_error: 0.3820\n",
      "Epoch 82/100\n",
      "\u001b[1m36/36\u001b[0m \u001b[32m━━━━━━━━━━━━━━━━━━━━\u001b[0m\u001b[37m\u001b[0m \u001b[1m0s\u001b[0m 4ms/step - loss: 0.6663 - root_mean_squared_error: 0.3315 - val_loss: 0.7520 - val_root_mean_squared_error: 0.3817\n",
      "Epoch 83/100\n",
      "\u001b[1m36/36\u001b[0m \u001b[32m━━━━━━━━━━━━━━━━━━━━\u001b[0m\u001b[37m\u001b[0m \u001b[1m0s\u001b[0m 4ms/step - loss: 0.6793 - root_mean_squared_error: 0.3445 - val_loss: 0.7519 - val_root_mean_squared_error: 0.3814\n",
      "Epoch 84/100\n",
      "\u001b[1m36/36\u001b[0m \u001b[32m━━━━━━━━━━━━━━━━━━━━\u001b[0m\u001b[37m\u001b[0m \u001b[1m0s\u001b[0m 4ms/step - loss: 0.6768 - root_mean_squared_error: 0.3346 - val_loss: 0.7515 - val_root_mean_squared_error: 0.3811\n",
      "Epoch 85/100\n",
      "\u001b[1m36/36\u001b[0m \u001b[32m━━━━━━━━━━━━━━━━━━━━\u001b[0m\u001b[37m\u001b[0m \u001b[1m0s\u001b[0m 4ms/step - loss: 0.6569 - root_mean_squared_error: 0.3227 - val_loss: 0.7536 - val_root_mean_squared_error: 0.3822\n",
      "Epoch 86/100\n",
      "\u001b[1m36/36\u001b[0m \u001b[32m━━━━━━━━━━━━━━━━━━━━\u001b[0m\u001b[37m\u001b[0m \u001b[1m0s\u001b[0m 4ms/step - loss: 0.6699 - root_mean_squared_error: 0.3295 - val_loss: 0.7519 - val_root_mean_squared_error: 0.3813\n",
      "Epoch 87/100\n",
      "\u001b[1m36/36\u001b[0m \u001b[32m━━━━━━━━━━━━━━━━━━━━\u001b[0m\u001b[37m\u001b[0m \u001b[1m0s\u001b[0m 4ms/step - loss: 0.6637 - root_mean_squared_error: 0.3264 - val_loss: 0.7518 - val_root_mean_squared_error: 0.3812\n",
      "Epoch 88/100\n",
      "\u001b[1m36/36\u001b[0m \u001b[32m━━━━━━━━━━━━━━━━━━━━\u001b[0m\u001b[37m\u001b[0m \u001b[1m0s\u001b[0m 4ms/step - loss: 0.6712 - root_mean_squared_error: 0.3338 - val_loss: 0.7533 - val_root_mean_squared_error: 0.3821\n",
      "Epoch 89/100\n",
      "\u001b[1m36/36\u001b[0m \u001b[32m━━━━━━━━━━━━━━━━━━━━\u001b[0m\u001b[37m\u001b[0m \u001b[1m0s\u001b[0m 4ms/step - loss: 0.6681 - root_mean_squared_error: 0.3338 - val_loss: 0.7522 - val_root_mean_squared_error: 0.3815\n",
      "Epoch 90/100\n",
      "\u001b[1m36/36\u001b[0m \u001b[32m━━━━━━━━━━━━━━━━━━━━\u001b[0m\u001b[37m\u001b[0m \u001b[1m0s\u001b[0m 4ms/step - loss: 0.6726 - root_mean_squared_error: 0.3309 - val_loss: 0.7515 - val_root_mean_squared_error: 0.3810\n",
      "Epoch 91/100\n",
      "\u001b[1m36/36\u001b[0m \u001b[32m━━━━━━━━━━━━━━━━━━━━\u001b[0m\u001b[37m\u001b[0m \u001b[1m0s\u001b[0m 4ms/step - loss: 0.6735 - root_mean_squared_error: 0.3382 - val_loss: 0.7498 - val_root_mean_squared_error: 0.3803\n",
      "Epoch 92/100\n",
      "\u001b[1m36/36\u001b[0m \u001b[32m━━━━━━━━━━━━━━━━━━━━\u001b[0m\u001b[37m\u001b[0m \u001b[1m0s\u001b[0m 4ms/step - loss: 0.6697 - root_mean_squared_error: 0.3399 - val_loss: 0.7494 - val_root_mean_squared_error: 0.3801\n",
      "Epoch 93/100\n",
      "\u001b[1m36/36\u001b[0m \u001b[32m━━━━━━━━━━━━━━━━━━━━\u001b[0m\u001b[37m\u001b[0m \u001b[1m0s\u001b[0m 4ms/step - loss: 0.6664 - root_mean_squared_error: 0.3314 - val_loss: 0.7532 - val_root_mean_squared_error: 0.3820\n",
      "Epoch 94/100\n",
      "\u001b[1m36/36\u001b[0m \u001b[32m━━━━━━━━━━━━━━━━━━━━\u001b[0m\u001b[37m\u001b[0m \u001b[1m0s\u001b[0m 4ms/step - loss: 0.6634 - root_mean_squared_error: 0.3253 - val_loss: 0.7507 - val_root_mean_squared_error: 0.3807\n",
      "Epoch 95/100\n",
      "\u001b[1m36/36\u001b[0m \u001b[32m━━━━━━━━━━━━━━━━━━━━\u001b[0m\u001b[37m\u001b[0m \u001b[1m0s\u001b[0m 4ms/step - loss: 0.6689 - root_mean_squared_error: 0.3289 - val_loss: 0.7509 - val_root_mean_squared_error: 0.3806\n",
      "Epoch 96/100\n",
      "\u001b[1m36/36\u001b[0m \u001b[32m━━━━━━━━━━━━━━━━━━━━\u001b[0m\u001b[37m\u001b[0m \u001b[1m0s\u001b[0m 4ms/step - loss: 0.6619 - root_mean_squared_error: 0.3278 - val_loss: 0.7521 - val_root_mean_squared_error: 0.3813\n",
      "Epoch 97/100\n",
      "\u001b[1m36/36\u001b[0m \u001b[32m━━━━━━━━━━━━━━━━━━━━\u001b[0m\u001b[37m\u001b[0m \u001b[1m0s\u001b[0m 4ms/step - loss: 0.6609 - root_mean_squared_error: 0.3256 - val_loss: 0.7547 - val_root_mean_squared_error: 0.3828\n",
      "Epoch 98/100\n",
      "\u001b[1m36/36\u001b[0m \u001b[32m━━━━━━━━━━━━━━━━━━━━\u001b[0m\u001b[37m\u001b[0m \u001b[1m0s\u001b[0m 4ms/step - loss: 0.6602 - root_mean_squared_error: 0.3251 - val_loss: 0.7568 - val_root_mean_squared_error: 0.3840\n",
      "Epoch 99/100\n",
      "\u001b[1m36/36\u001b[0m \u001b[32m━━━━━━━━━━━━━━━━━━━━\u001b[0m\u001b[37m\u001b[0m \u001b[1m0s\u001b[0m 4ms/step - loss: 0.6672 - root_mean_squared_error: 0.3299 - val_loss: 0.7570 - val_root_mean_squared_error: 0.3842\n",
      "Epoch 100/100\n",
      "\u001b[1m36/36\u001b[0m \u001b[32m━━━━━━━━━━━━━━━━━━━━\u001b[0m\u001b[37m\u001b[0m \u001b[1m0s\u001b[0m 4ms/step - loss: 0.6604 - root_mean_squared_error: 0.3263 - val_loss: 0.7558 - val_root_mean_squared_error: 0.3836\n",
      "Training Model CF Selesai.\n"
     ]
    }
   ],
   "source": [
    "if MODEL_CF_PREPARED:\n",
    "    # Mendefinisikan arsitektur model (RecommenderNet)\n",
    "    # Fungsi dan kelas sudah didefinisikan di CELL 2\n",
    "    model_keras_cf = RecommenderNet(num_users_cf, num_places_cf_model, embedding_size=50)\n",
    "    \n",
    "    # Kompilasi model\n",
    "    model_keras_cf.compile(\n",
    "        loss=tf.keras.losses.BinaryCrossentropy(),\n",
    "        optimizer=keras.optimizers.Adam(learning_rate=0.001),\n",
    "        metrics=[tf.keras.metrics.RootMeanSquaredError()]\n",
    "    )\n",
    "    \n",
    "    # Melatih model\n",
    "    print(\"Melatih model Keras RecommenderNet...\")\n",
    "    history_cf = model_keras_cf.fit(\n",
    "        x=x_train_cf, \n",
    "        y=y_train_cf,\n",
    "        batch_size=64, \n",
    "        epochs=100,\n",
    "        validation_data=validation_data_keras,\n",
    "        verbose=1\n",
    "    )\n",
    "    \n",
    "    MODEL_CF_SUCCESS = True\n",
    "    results['CF_history'] = history_cf.history\n",
    "    print(\"Training Model CF Selesai.\")\n",
    "else:\n",
    "    print(\"Model CF tidak dilatih karena persiapan data gagal atau data tidak memadai.\")"
   ]
  },
  {
   "cell_type": "markdown",
   "id": "7f39673f",
   "metadata": {},
   "source": [
    "**Hasil dan Insight:**\n",
    "\n",
    "- Sebuah model `model_keras_cf` yang telah terlatih dan sebuah objek `history_cf` yang berisi catatan performa di setiap *epoch*.\n",
    "- Jika kita amati log pelatihan, nilai `loss` pada data latih cenderung terus menurun, yang menandakan model belajar.\n",
    "- Namun, yang lebih penting adalah `val_loss` (loss pada data validasi). Nilai `val_loss` dan `val_root_mean_squared_error` terlihat cepat menurun pada epoch-epoch awal, lalu **cenderung stabil atau mendatar (mencapai konvergensi)** setelah sekitar 10-20 epoch."
   ]
  },
  {
   "cell_type": "markdown",
   "id": "e7070266",
   "metadata": {},
   "source": [
    "### Uji Coba Model CF\n",
    "\n",
    "Pada tahap Ini adalah tahap uji coba untuk model *Collaborative Filtering* kita Untuk memberikan contoh nyata bagaimana model *Collaborative Filtering* menghasilkan rekomendasi yang **dipersonalisasi** untuk pengguna tertentu. Prosesnya adalah sebagai berikut:\n",
    "1.  Memilih satu pengguna sebagai sampel (dalam kasus ini, **User ID: 1**).\n",
    "2.  Memanggil fungsi `get_top_n_recommendations_keras_cf` dengan membawa semua komponen yang diperlukan: ID pengguna, model Keras yang sudah dilatih, serta data tempat dan rating.\n",
    "3.  Di dalam fungsi, model akan memprediksi rating pengguna sampel untuk semua tempat yang **belum pernah ia kunjungi**.\n",
    "4.  Lima tempat dengan prediksi rating tertinggi akan ditampilkan sebagai hasil rekomendasi."
   ]
  },
  {
   "cell_type": "code",
   "execution_count": 183,
   "id": "ac8006ce",
   "metadata": {},
   "outputs": [
    {
     "name": "stdout",
     "output_type": "stream",
     "text": [
      "[CF Keras] Contoh Top-5 Rekomendasi untuk User ID: 1\n"
     ]
    },
    {
     "data": {
      "text/html": [
       "<style type=\"text/css\">\n",
       "</style>\n",
       "<table id=\"T_786da\">\n",
       "  <thead>\n",
       "    <tr>\n",
       "      <th id=\"T_786da_level0_col0\" class=\"col_heading level0 col0\" >Place_Id</th>\n",
       "      <th id=\"T_786da_level0_col1\" class=\"col_heading level0 col1\" >Place_Name</th>\n",
       "      <th id=\"T_786da_level0_col2\" class=\"col_heading level0 col2\" >Category</th>\n",
       "      <th id=\"T_786da_level0_col3\" class=\"col_heading level0 col3\" >Rating</th>\n",
       "      <th id=\"T_786da_level0_col4\" class=\"col_heading level0 col4\" >Predicted_Normalized_Rating</th>\n",
       "    </tr>\n",
       "  </thead>\n",
       "  <tbody>\n",
       "    <tr>\n",
       "      <td id=\"T_786da_row0_col0\" class=\"data row0 col0\" >139</td>\n",
       "      <td id=\"T_786da_row0_col1\" class=\"data row0 col1\" >Puncak Gunung Api Purba - Nglanggeran</td>\n",
       "      <td id=\"T_786da_row0_col2\" class=\"data row0 col2\" >Cagar Alam</td>\n",
       "      <td id=\"T_786da_row0_col3\" class=\"data row0 col3\" >4.700000</td>\n",
       "      <td id=\"T_786da_row0_col4\" class=\"data row0 col4\" >0.702821</td>\n",
       "    </tr>\n",
       "    <tr>\n",
       "      <td id=\"T_786da_row1_col0\" class=\"data row1 col0\" >138</td>\n",
       "      <td id=\"T_786da_row1_col1\" class=\"data row1 col1\" >Jogja Exotarium</td>\n",
       "      <td id=\"T_786da_row1_col2\" class=\"data row1 col2\" >Taman Hiburan</td>\n",
       "      <td id=\"T_786da_row1_col3\" class=\"data row1 col3\" >4.400000</td>\n",
       "      <td id=\"T_786da_row1_col4\" class=\"data row1 col4\" >0.656940</td>\n",
       "    </tr>\n",
       "    <tr>\n",
       "      <td id=\"T_786da_row2_col0\" class=\"data row2 col0\" >132</td>\n",
       "      <td id=\"T_786da_row2_col1\" class=\"data row2 col1\" >Air Terjun Kedung Pedut</td>\n",
       "      <td id=\"T_786da_row2_col2\" class=\"data row2 col2\" >Cagar Alam</td>\n",
       "      <td id=\"T_786da_row2_col3\" class=\"data row2 col3\" >4.500000</td>\n",
       "      <td id=\"T_786da_row2_col4\" class=\"data row2 col4\" >0.648514</td>\n",
       "    </tr>\n",
       "    <tr>\n",
       "      <td id=\"T_786da_row3_col0\" class=\"data row3 col0\" >134</td>\n",
       "      <td id=\"T_786da_row3_col1\" class=\"data row3 col1\" >Desa Wisata Gamplong</td>\n",
       "      <td id=\"T_786da_row3_col2\" class=\"data row3 col2\" >Taman Hiburan</td>\n",
       "      <td id=\"T_786da_row3_col3\" class=\"data row3 col3\" >4.400000</td>\n",
       "      <td id=\"T_786da_row3_col4\" class=\"data row3 col4\" >0.639681</td>\n",
       "    </tr>\n",
       "    <tr>\n",
       "      <td id=\"T_786da_row4_col0\" class=\"data row4 col0\" >136</td>\n",
       "      <td id=\"T_786da_row4_col1\" class=\"data row4 col1\" >Grojogan Watu Purbo Bangunrejo</td>\n",
       "      <td id=\"T_786da_row4_col2\" class=\"data row4 col2\" >Taman Hiburan</td>\n",
       "      <td id=\"T_786da_row4_col3\" class=\"data row4 col3\" >4.500000</td>\n",
       "      <td id=\"T_786da_row4_col4\" class=\"data row4 col4\" >0.639587</td>\n",
       "    </tr>\n",
       "  </tbody>\n",
       "</table>\n"
      ],
      "text/plain": [
       "<pandas.io.formats.style.Styler at 0x134bb7d3f40>"
      ]
     },
     "metadata": {},
     "output_type": "display_data"
    }
   ],
   "source": [
    "if MODEL_CF_SUCCESS:\n",
    "    # Menggabungkan semua mapping yang dibutuhkan oleh fungsi rekomendasi\n",
    "    cf_mappings = {\n",
    "        'user_to_user_encoded': user_to_user_encoded_cf,\n",
    "        'place_to_place_encoded': place_to_place_encoded_cf,\n",
    "        'place_encoded_to_place': place_encoded_to_place_cf\n",
    "    }\n",
    "    \n",
    "    # Mengambil sampel user untuk pengujian\n",
    "    sample_user_id_cf_keras = df_rating_yogya_cf['User_Id'].unique()[0]\n",
    "    results['CF_Keras_sample_user_id'] = sample_user_id_cf_keras\n",
    "    print(f\"[CF Keras] Contoh Top-5 Rekomendasi untuk User ID: {sample_user_id_cf_keras}\")\n",
    "    \n",
    "    # Memanggil fungsi untuk mendapatkan rekomendasi\n",
    "    top_5_recs_cf_keras = get_top_n_recommendations_keras_cf(\n",
    "        user_real_id=sample_user_id_cf_keras, \n",
    "        model=model_keras_cf, \n",
    "        tourism_df_all_yogya=df_tourism_yogya, \n",
    "        rating_df_yogya_cf=df_rating_yogya_cf, \n",
    "        mappings=cf_mappings\n",
    "    )\n",
    "    results['CF_Keras_example_recommendations'] = top_5_recs_cf_keras\n",
    "    \n",
    "    # Menampilkan hasil\n",
    "    if isinstance(top_5_recs_cf_keras, pd.DataFrame) and not top_5_recs_cf_keras.empty:\n",
    "        display(top_5_recs_cf_keras.style.hide(axis=\"index\"))\n",
    "    else:\n",
    "        print(f\"Tidak ada rekomendasi baru untuk User ID {sample_user_id_cf_keras}.\")\n",
    "else:\n",
    "    print(\"Uji Coba Model CF tidak dapat dilakukan karena model tidak berhasil dilatih.\")"
   ]
  },
  {
   "cell_type": "markdown",
   "id": "c1d5ea93",
   "metadata": {},
   "source": [
    "**Hasil dan Insight:**\n",
    "- Tabel output menampilkan 5 tempat teratas yang paling mungkin disukai oleh User ID 1, berdasarkan pola ratingnya di masa lalu dan pola rating dari pengguna lain yang mirip.\n",
    "- Perhatikan kolom **`Predicted_Normalized_Rating`**. Ini adalah skor internal dari model (antara 0 dan 1) yang menunjukkan seberapa besar model \"yakin\" pengguna akan menyukai tempat tersebut. Daftar ini diurutkan berdasarkan skor ini.\n",
    "- Inilah kekuatan utama dari *Collaborative Filtering*: **personalisasi**. Rekomendasi ini tidak didasarkan pada kemiripan antar tempat (seperti pada *Content-Based*), melainkan pada **selera unik dari User ID 1** yang telah dipelajari oleh model melalui *user embedding*. Model ini merekomendasikan hal-hal yang \"mirip\" dengan apa yang disukai pengguna lain dengan selera serupa."
   ]
  },
  {
   "cell_type": "markdown",
   "id": "785d0c05",
   "metadata": {},
   "source": [
    "## **Evaluation**"
   ]
  },
  {
   "cell_type": "markdown",
   "id": "639aceb8",
   "metadata": {},
   "source": [
    "### Evaluasi Model Collaborative Filtering\n",
    "\n",
    "Pada tahap ini, kita mengambil data riwayat (`history`) yang disimpan selama proses pelatihan untuk mengevaluasi proses pelatihan model secara visual. Dengan melihat kurva ini, kita bisa mengidentifikasi apakah mengalami **Good Fit, Overfitting, atau Underfitting**, oleh karena itu kita membuat dua plot:\n",
    "1. **Kurva RMSE:** Membandingkan *Root Mean Squared Error* pada data latih vs. data validasi di setiap *epoch*.\n",
    "2. **Kurva Loss:** Membandingkan nilai *Loss* pada data latih vs. data validasi di setiap *epoch*."
   ]
  },
  {
   "cell_type": "code",
   "execution_count": 184,
   "id": "e8a3776c",
   "metadata": {},
   "outputs": [
    {
     "data": {
      "image/png": "[encoded data removed]",
      "text/plain": [
       "<Figure size 1200x500 with 2 Axes>"
      ]
     },
     "metadata": {},
     "output_type": "display_data"
    },
    {
     "name": "stdout",
     "output_type": "stream",
     "text": [
      "Metrik Evaluasi (Final Validation RMSE): 0.3836\n"
     ]
    }
   ],
   "source": [
    "if MODEL_CF_SUCCESS:\n",
    "    history_data = results.get('CF_history', {})\n",
    "    plt.figure(figsize=(12, 5))\n",
    "    plt.subplot(1, 2, 1)\n",
    "    plt.plot(history_data.get('root_mean_squared_error', []), label='Training RMSE')\n",
    "    plt.plot(history_data.get('val_root_mean_squared_error', []), label='Validation RMSE')\n",
    "    plt.title('Training and Validation RMSE'); plt.xlabel('Epoch'); plt.ylabel('RMSE'); plt.legend()\n",
    "    plt.subplot(1, 2, 2)\n",
    "    plt.plot(history_data.get('loss', []), label='Training Loss')\n",
    "    plt.plot(history_data.get('val_loss', []), label='Validation Loss')\n",
    "    plt.title('Training and Validation Loss'); plt.xlabel('Epoch'); plt.ylabel('Loss'); plt.legend()\n",
    "    plt.tight_layout()\n",
    "    plt.show()\n",
    "    final_val_rmse = history_data.get('val_root_mean_squared_error', [None])[-1]\n",
    "    results['CF_Keras_Val_RMSE'] = final_val_rmse\n",
    "    print(f\"Metrik Evaluasi (Final Validation RMSE): {final_val_rmse:.4f}\" if final_val_rmse else \"N/A\")\n",
    "else:\n",
    "    print(\"Model CF (Keras) tidak dievaluasi.\")"
   ]
  },
  {
   "cell_type": "markdown",
   "id": "42133069",
   "metadata": {},
   "source": [
    "**Hasil dan Insight:**\n",
    "- Dua buah grafik yang menampilkan kurva pembelajaran dan nilai dari `Final Validation RMSE`\n",
    "- Pada kedua grafik, kurva untuk data latih (biru) secara konsisten menurun, yang menunjukkan bahwa model berhasil belajar dari data yang diberikan."
   ]
  },
  {
   "cell_type": "markdown",
   "id": "b88b7d0f",
   "metadata": {},
   "source": [
    "### Evaluasi Model Content-Based Filtering"
   ]
  },
  {
   "cell_type": "markdown",
   "id": "b2411361",
   "metadata": {},
   "source": [
    "#### Evaluasi Kuantitatif (Performa)\n",
    "\n",
    "Pada tahap ini, kita mendefinisikan dan menjalankan sebuah alur evaluasi kustom untuk mengukur performa model *Content-Based* secara numerik. Untuk melampaui evaluasi kualitatif dan mendapatkan skor numerik yang objektif untuk performa model. Metrik ini mengukur kemampuan model untuk merekomendasikan item yang relevan berdasarkan histori pengguna.\n",
    "- **Precision:** Dari semua yang kita rekomendasikan, berapa persen yang benar-benar relevan?\n",
    "- **Recall:** Dari semua item yang relevan, berapa persen yang berhasil kita rekomendasikan?\n",
    "- **F1-Score:** Rata-rata harmonik dari Precision dan Recall."
   ]
  },
  {
   "cell_type": "code",
   "execution_count": 185,
   "id": "50edf1c4",
   "metadata": {},
   "outputs": [
    {
     "name": "stdout",
     "output_type": "stream",
     "text": [
      "Rata-rata Precision: 0.0354\n",
      "Rata-rata Recall: 0.0936\n",
      "F1-Score: 0.0514\n"
     ]
    }
   ],
   "source": [
    "if MODEL_CBF_SUCCESS:\n",
    "    # Fungsi untuk menghitung metrik performa untuk CBF\n",
    "    def calculate_cbf_metrics(df_rating_yogya, n_recommendations=10):\n",
    "        # Ambil user yang telah memberi rating minimal pada 2 tempat\n",
    "        user_counts = df_rating_yogya['User_Id'].value_counts()\n",
    "        test_users = user_counts[user_counts >= 2].index.tolist()\n",
    "        \n",
    "        # Ambil sampel user untuk efisiensi\n",
    "        if len(test_users) > 50:\n",
    "            test_users_sample = np.random.choice(test_users, 50, replace=False)\n",
    "        else:\n",
    "            test_users_sample = test_users\n",
    "            \n",
    "        if not np.any(test_users_sample): # Menggunakan np.any untuk mengecek array\n",
    "            print(\"Tidak cukup user dengan histori rating yang memadai untuk evaluasi.\")\n",
    "            return None, None, None\n",
    "\n",
    "        all_precisions = []\n",
    "        all_recalls = []\n",
    "\n",
    "        for user_id in test_users_sample:\n",
    "            # Ground Truth: Tempat yang disukai pengguna (rating >= 4)\n",
    "            liked_places = df_rating_yogya[\n",
    "                (df_rating_yogya['User_Id'] == user_id) & (df_rating_yogya['Place_Ratings'] >= 4)\n",
    "            ]\n",
    "            \n",
    "            if len(liked_places) < 2:\n",
    "                continue\n",
    "\n",
    "            # Seed: Ambil satu tempat yang disukai sebagai input rekomendasi\n",
    "            seed_place = liked_places.iloc[0]\n",
    "            seed_place_id = seed_place['Place_Id']\n",
    "            \n",
    "            # Relevant Items: Tempat lain yang juga disukai (ground truth)\n",
    "            relevant_items = set(liked_places['Place_Id']) - {seed_place_id}\n",
    "            \n",
    "            if not relevant_items:\n",
    "                continue\n",
    "\n",
    "            # Hasilkan rekomendasi\n",
    "            recommendations_df = get_content_based_recommendations(\n",
    "                place_id_ref=seed_place_id, \n",
    "                n=n_recommendations,\n",
    "                cosine_sim_matrix_param=cosine_sim_cbf,\n",
    "                tourism_df_param=df_tourism_yogya_cbf_display,\n",
    "                id_to_idx_map_param=placeid_to_idx_map_cbf\n",
    "            )\n",
    "            \n",
    "            if isinstance(recommendations_df, pd.DataFrame):\n",
    "                recommended_items = set(recommendations_df['Place_Id'])\n",
    "                \n",
    "                # Hitung True Positives\n",
    "                true_positives = len(recommended_items.intersection(relevant_items))\n",
    "                \n",
    "                # Hitung Precision dan Recall\n",
    "                precision = true_positives / n_recommendations\n",
    "                recall = true_positives / len(relevant_items)\n",
    "                \n",
    "                all_precisions.append(precision)\n",
    "                all_recalls.append(recall)\n",
    "\n",
    "        if not all_precisions or not all_recalls:\n",
    "            return 0, 0, 0\n",
    "\n",
    "        # Rata-rata Precision dan Recall\n",
    "        avg_precision = np.mean(all_precisions)\n",
    "        avg_recall = np.mean(all_recalls)\n",
    "        \n",
    "        # F1 Score\n",
    "        f1_score = 0\n",
    "        if (avg_precision + avg_recall) > 0:\n",
    "            f1_score = 2 * (avg_precision * avg_recall) / (avg_precision + avg_recall)\n",
    "            \n",
    "        return avg_precision, avg_recall, f1_score\n",
    "\n",
    "    # Menjalankan evaluasi\n",
    "    avg_precision_cbf, avg_recall_cbf, f1_score_cbf = calculate_cbf_metrics(df_rating_yogya_cf)\n",
    "\n",
    "    if avg_precision_cbf is not None:\n",
    "        results['CBF_Precision'] = avg_precision_cbf\n",
    "        results['CBF_Recall'] = avg_recall_cbf\n",
    "        results['CBF_F1_Score'] = f1_score_cbf\n",
    "        \n",
    "        print(f\"Rata-rata Precision: {avg_precision_cbf:.4f}\")\n",
    "        print(f\"Rata-rata Recall: {avg_recall_cbf:.4f}\")\n",
    "        print(f\"F1-Score: {f1_score_cbf:.4f}\")\n",
    "    else:\n",
    "        print(\"Perhitungan metrik performa CBF tidak dapat dilakukan.\")\n",
    "else:\n",
    "    print(\"Model CBF tidak berhasil dilatih atau dievaluasi.\")"
   ]
  },
  {
   "cell_type": "markdown",
   "id": "39c839a0",
   "metadata": {},
   "source": [
    "**Hasil dan Insight:** \n",
    "- Model ini mendapatkan skor **Precision**, **Recall**, dan **F1-Score**.\n",
    "- Sekilas, skor ini mungkin terlihat sangat rendah. Namun, ini adalah hal yang **wajar dan umum terjadi** pada evaluasi sistem rekomendasi, terutama *Content-Based*."
   ]
  },
  {
   "cell_type": "markdown",
   "id": "5691eb3a",
   "metadata": {},
   "source": [
    "#### Evaluasi Kualitatif\n",
    "\n",
    "Pada tahap ini, kita mengambil daftar 5 rekomendasi teratas yang telah dihasilkan untuk 'Taman Pintar Yogyakarta'. Kemudian, kita membuat sebuah *bar chart* untuk memvisualisasikan secara spesifik kolom `similarity_score` dari setiap tempat yang direkomendasikan yang memungkinkan kita untuk dengan cepat membandingkan \"kekuatan\" atau \"tingkat kepercayaan\" dari setiap rekomendasi."
   ]
  },
  {
   "cell_type": "code",
   "execution_count": 186,
   "id": "8ca1e462",
   "metadata": {},
   "outputs": [
    {
     "name": "stdout",
     "output_type": "stream",
     "text": [
      "  Dimensi Matriks TF-IDF: (126, 2151)\n",
      "\n",
      "  Contoh Rekomendasi untuk 'Taman Pintar Yogyakarta':\n"
     ]
    },
    {
     "data": {
      "text/html": [
       "<style type=\"text/css\">\n",
       "</style>\n",
       "<table id=\"T_6031c\">\n",
       "  <thead>\n",
       "    <tr>\n",
       "      <th id=\"T_6031c_level0_col0\" class=\"col_heading level0 col0\" >Place_Name</th>\n",
       "      <th id=\"T_6031c_level0_col1\" class=\"col_heading level0 col1\" >similarity_score</th>\n",
       "    </tr>\n",
       "  </thead>\n",
       "  <tbody>\n",
       "    <tr>\n",
       "      <td id=\"T_6031c_row0_col0\" class=\"data row0 col0\" >Wisata Kaliurang</td>\n",
       "      <td id=\"T_6031c_row0_col1\" class=\"data row0 col1\" >0.192158</td>\n",
       "    </tr>\n",
       "    <tr>\n",
       "      <td id=\"T_6031c_row1_col0\" class=\"data row1 col0\" >Taman Pelangi Yogyakarta</td>\n",
       "      <td id=\"T_6031c_row1_col1\" class=\"data row1 col1\" >0.148100</td>\n",
       "    </tr>\n",
       "    <tr>\n",
       "      <td id=\"T_6031c_row2_col0\" class=\"data row2 col0\" >Kampung Wisata Taman Sari</td>\n",
       "      <td id=\"T_6031c_row2_col1\" class=\"data row2 col1\" >0.147447</td>\n",
       "    </tr>\n",
       "  </tbody>\n",
       "</table>\n"
      ],
      "text/plain": [
       "<pandas.io.formats.style.Styler at 0x134be60cf40>"
      ]
     },
     "metadata": {},
     "output_type": "display_data"
    },
    {
     "name": "stdout",
     "output_type": "stream",
     "text": [
      "\n",
      "  Visualisasi Similarity Score untuk rekomendasi 'Taman Pintar Yogyakarta':\n"
     ]
    },
    {
     "data": {
      "image/png": "[encoded data removed]",
      "text/plain": [
       "<Figure size 1000x500 with 1 Axes>"
      ]
     },
     "metadata": {},
     "output_type": "display_data"
    }
   ],
   "source": [
    "if MODEL_CBF_SUCCESS:\n",
    "    print(f\"  Dimensi Matriks TF-IDF: {results.get('CBF_tfidf_matrix_shape', 'N/A')}\")\n",
    "    recs_cbf_df = results.get('CBF_example_recommendations', pd.DataFrame())\n",
    "    \n",
    "    if isinstance(recs_cbf_df, pd.DataFrame) and not recs_cbf_df.empty:\n",
    "        print(f\"\\n  Contoh Rekomendasi untuk '{results.get('CBF_sample_place_name', 'N/A')}':\")\n",
    "        display(recs_cbf_df[['Place_Name', 'similarity_score']].head(3).style.hide(axis=\"index\"))\n",
    "        \n",
    "        # Visualisasi similarity score untuk hasil rekomendasi CBF\n",
    "        print(f\"\\n  Visualisasi Similarity Score untuk rekomendasi '{results.get('CBF_sample_place_name', 'N/A')}':\")\n",
    "        plt.figure(figsize=(10, 5))\n",
    "        sns.barplot(x='similarity_score', y='Place_Name', data=recs_cbf_df.sort_values('similarity_score', ascending=False), palette='magma')\n",
    "        plt.title(f\"Visualisasi Similarity Score\")\n",
    "        plt.xlabel('Similarity Score')\n",
    "        plt.ylabel('Nama Tempat Wisata')\n",
    "        plt.xlim(0, 1) # Skor similaritas antara 0 dan 1\n",
    "        plt.tight_layout()\n",
    "        plt.show()\n",
    "    else: \n",
    "        print(f\"Contoh Rekomendasi CBF: Tidak ada atau gagal.\")\n",
    "else:\n",
    "    print(\"Model CBF tidak berhasil dilatih atau dievaluasi.\")"
   ]
  },
  {
   "cell_type": "markdown",
   "id": "34210a34",
   "metadata": {},
   "source": [
    "**Hasil dan Insight:**\n",
    "- Sebuah *bar chart* yang mengurutkan 5 tempat yang direkomendasikan berdasarkan skor kemiripan kontennya dengan 'Taman Pintar Yogyakarta'.\n",
    "- Visualisasi ini memberikan pemahaman yang lebih bernuansa. Kita bisa lihat bahwa 'Wisata Kaliurang' memiliki skor kemiripan yang paling tinggi secara signifikan. Sementara itu, tiga rekomendasi di bawahnya memiliki skor yang relatif berdekatan."
   ]
  },
  {
   "cell_type": "markdown",
   "id": "910c3f4f",
   "metadata": {},
   "source": [
    "## **Penyimpanan Model**"
   ]
  },
  {
   "cell_type": "markdown",
   "id": "47e89097",
   "metadata": {},
   "source": [
    "### Membuat folder `saved_model`"
   ]
  },
  {
   "cell_type": "code",
   "execution_count": 187,
   "id": "aa3124b7",
   "metadata": {},
   "outputs": [],
   "source": [
    "save_dir = 'saved_model'\n",
    "if not os.path.exists(save_dir):\n",
    "    os.makedirs(save_dir)\n",
    "    print(f\"Folder '{save_dir}' berhasil dibuat.\")"
   ]
  },
  {
   "cell_type": "markdown",
   "id": "6f3d8c25",
   "metadata": {},
   "source": [
    "### Menyimpan Model Content-Based Filtering"
   ]
  },
  {
   "cell_type": "code",
   "execution_count": 188,
   "id": "115e5d7f",
   "metadata": {},
   "outputs": [
    {
     "name": "stdout",
     "output_type": "stream",
     "text": [
      "Menyimpan Model Content-Based Filtering ---\n",
      "Artefak CBF berhasil disimpan di folder 'saved_model'.\n"
     ]
    }
   ],
   "source": [
    "if MODEL_CBF_SUCCESS:\n",
    "    print(\"Menyimpan Model Content-Based Filtering ---\")\n",
    "    pickle.dump(tfidf_vectorizer, open(os.path.join(save_dir, 'cbf_tfidf_vectorizer.pkl'), 'wb'))\n",
    "    np.save(os.path.join(save_dir, 'cbf_cosine_similarity_matrix.npy'), cosine_sim_cbf)\n",
    "    df_tourism_yogya_cbf_display.to_csv(os.path.join(save_dir, 'cbf_tourism_data.csv'), index=False)\n",
    "    print(f\"Artefak CBF berhasil disimpan di folder '{save_dir}'.\")\n",
    "else:\n",
    "    print(\"Model CBF tidak berhasil, tidak ada yang disimpan.\")"
   ]
  },
  {
   "cell_type": "markdown",
   "id": "ea38ae08",
   "metadata": {},
   "source": [
    "**Hasil dan Insight:**\n",
    "- Tiga file yang merepresentasikan model *Content-Based Filtering* kita secara lengkap telah berhasil disimpan di folder `saved_model`\n",
    "- Untuk model *Content-Based* semacam ini, \"model\" bukanlah satu file tunggal, melainkan sebuah **kumpulan artefak** yang saling bergantung."
   ]
  },
  {
   "cell_type": "markdown",
   "id": "e11395d3",
   "metadata": {},
   "source": [
    "### Menyimpan Model Collaborative Filtering"
   ]
  },
  {
   "cell_type": "code",
   "execution_count": 189,
   "id": "8fe58cda",
   "metadata": {},
   "outputs": [
    {
     "name": "stdout",
     "output_type": "stream",
     "text": [
      "Menyimpan Model Collaborative Filtering ---\n",
      "Model CF (Keras) dan data mapping berhasil disimpan di folder 'saved_model'.\n"
     ]
    }
   ],
   "source": [
    "if MODEL_CF_SUCCESS:\n",
    "    print(\"Menyimpan Model Collaborative Filtering ---\")\n",
    "    # Menambahkan ekstensi .keras pada nama file sesuai rekomendasi TensorFlow\n",
    "    model_keras_cf.save(os.path.join(save_dir, 'cf_recommender_keras_model.keras'))\n",
    "    cf_mappings = {'user_to_user_encoded': user_to_user_encoded_cf, 'place_to_place_encoded': place_to_place_encoded_cf, 'place_encoded_to_place': place_encoded_to_place_cf}\n",
    "    with open(os.path.join(save_dir, 'cf_mappings.pkl'), 'wb') as f:\n",
    "        pickle.dump(cf_mappings, f)\n",
    "    print(f\"Model CF (Keras) dan data mapping berhasil disimpan di folder '{save_dir}'.\")\n",
    "else:\n",
    "    print(\"Model CF tidak berhasil, tidak ada yang disimpan.\")"
   ]
  },
  {
   "cell_type": "markdown",
   "id": "9c6f5e3c",
   "metadata": {},
   "source": [
    "**Hasil dan Insight:**\n",
    "- Dua file, `cf_recommender_keras_model.keras` dan `cf_mappings.pkl`, berhasil dibuat dan disimpan.\n",
    "- Untuk model *Collaborative Filtering* ini, kedua file tersebut adalah satu kesatuan yang tidak terpisahkan."
   ]
  }
 ],
 "metadata": {
  "kernelspec": {
   "display_name": "Python 3",
   "language": "python",
   "name": "python3"
  },
  "language_info": {
   "codemirror_mode": {
    "name": "ipython",
    "version": 3
   },
   "file_extension": ".py",
   "mimetype": "text/x-python",
   "name": "python",
   "nbconvert_exporter": "python",
   "pygments_lexer": "ipython3",
   "version": "3.10.9"
  }
 },
 "nbformat": 4,
 "nbformat_minor": 5
}
