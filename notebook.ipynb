{
 "cells": [
  {
   "cell_type": "markdown",
   "id": "6688bbd8",
   "metadata": {},
   "source": [
    "## **Import Library**"
   ]
  },
  {
   "cell_type": "code",
   "execution_count": 2,
   "id": "1b53f754",
   "metadata": {},
   "outputs": [
    {
     "name": "stdout",
     "output_type": "stream",
     "text": [
      "Semua library yang dibutuhkan telah di-import.\n"
     ]
    }
   ],
   "source": [
    "# Library untuk analisis dan manipulasi data\n",
    "import pandas as pd\n",
    "import numpy as np\n",
    "\n",
    "# Library untuk visualisasi data\n",
    "import matplotlib.pyplot as plt\n",
    "import seaborn as sns\n",
    "import plotly.express as px\n",
    "\n",
    "# Library untuk pemrosesan teks (Content-Based Filtering)\n",
    "from sklearn.feature_extraction.text import TfidfVectorizer\n",
    "from sklearn.metrics.pairwise import cosine_similarity\n",
    "\n",
    "# Library Sastrawi untuk pemrosesan teks Bahasa Indonesia\n",
    "from Sastrawi.Stemmer.StemmerFactory import StemmerFactory\n",
    "from Sastrawi.StopWordRemover.StopWordRemoverFactory import StopWordRemoverFactory\n",
    "\n",
    "# Library untuk Collaborative Filtering dengan Deep Learning\n",
    "import tensorflow as tf\n",
    "from tensorflow import keras\n",
    "from tensorflow.keras import layers\n",
    "\n",
    "# Library untuk utilitas lain dan display tabel\n",
    "from IPython.display import display # Untuk menampilkan DataFrame dengan border\n",
    "import pickle # Untuk menyimpan model/objek Python\n",
    "import os # Untuk operasi sistem seperti membuat direktori\n",
    "import warnings\n",
    "warnings.filterwarnings('ignore') # Mengabaikan pesan warning untuk output lebih bersih\n",
    "print(\"Semua library yang dibutuhkan telah di-import.\")\n"
   ]
  },
  {
   "cell_type": "markdown",
   "id": "fc4041e0",
   "metadata": {},
   "source": [
    "## **Definisi Fungsi dan Kelas**"
   ]
  },
  {
   "cell_type": "markdown",
   "id": "9fc34328",
   "metadata": {},
   "source": [
    "### Inisialisasi Variabel Global"
   ]
  },
  {
   "cell_type": "code",
   "execution_count": 3,
   "id": "7fb4cbc3",
   "metadata": {},
   "outputs": [
    {
     "name": "stdout",
     "output_type": "stream",
     "text": [
      "Variabel global telah diinisialisasi.\n"
     ]
    }
   ],
   "source": [
    "# Variabel untuk menyimpan hasil dan status model\n",
    "results = {}\n",
    "MODEL_CF_SUCCESS = False\n",
    "MODEL_CBF_SUCCESS = False\n",
    "\n",
    "# DataFrame untuk menyimpan hasil rekomendasi\n",
    "top_5_recs_cbf = pd.DataFrame()\n",
    "top_5_recs_cf_keras = pd.DataFrame()\n",
    "\n",
    "print(\"Variabel global telah diinisialisasi.\")"
   ]
  },
  {
   "cell_type": "markdown",
   "id": "aa91ccd7",
   "metadata": {},
   "source": [
    "### Fungsi untuk Preprocessing Teks (Sastrawi)"
   ]
  },
  {
   "cell_type": "code",
   "execution_count": 4,
   "id": "7094d5ab",
   "metadata": {},
   "outputs": [
    {
     "name": "stdout",
     "output_type": "stream",
     "text": [
      "Fungsi untuk Pricessing telah berhasil didefinisikan\n"
     ]
    }
   ],
   "source": [
    "def preprocess_text_sastrawi(text, stemmer, stopword_remover):\n",
    "    if pd.isna(text) or text.strip() == '': return ''\n",
    "    text = text.lower()\n",
    "    text_stemmed = stemmer.stem(text)\n",
    "    text_cleaned = stopword_remover.remove(text_stemmed)\n",
    "    return text_cleaned\n",
    "\n",
    "print(\"Fungsi untuk Pricessing telah berhasil didefinisikan\")"
   ]
  },
  {
   "cell_type": "markdown",
   "id": "e8b820f8",
   "metadata": {},
   "source": [
    "### Kelas Model Collaborative Filtering (RecommenderNet)"
   ]
  },
  {
   "cell_type": "code",
   "execution_count": 5,
   "id": "57455415",
   "metadata": {},
   "outputs": [
    {
     "name": "stdout",
     "output_type": "stream",
     "text": [
      "Kelas RecommenderNet telah berhasil didefinisikan\n"
     ]
    }
   ],
   "source": [
    "class RecommenderNet(tf.keras.Model):\n",
    "    def __init__(self, num_users, num_places, embedding_size=50, **kwargs):\n",
    "        super(RecommenderNet, self).__init__(**kwargs)\n",
    "        self.user_embedding = layers.Embedding(num_users, embedding_size, embeddings_initializer='he_normal', embeddings_regularizer=keras.regularizers.l2(1e-6))\n",
    "        self.user_bias = layers.Embedding(num_users, 1)\n",
    "        self.place_embedding = layers.Embedding(num_places, embedding_size, embeddings_initializer='he_normal', embeddings_regularizer=keras.regularizers.l2(1e-6))\n",
    "        self.place_bias = layers.Embedding(num_places, 1)\n",
    "    def call(self, inputs):\n",
    "        user_vector = self.user_embedding(inputs[:, 0])\n",
    "        user_bias_vec = self.user_bias(inputs[:, 0])\n",
    "        place_vector = self.place_embedding(inputs[:, 1])\n",
    "        place_bias_vec = self.place_bias(inputs[:, 1])\n",
    "        dot_user_place = tf.tensordot(user_vector, place_vector, 2)\n",
    "        x = dot_user_place + user_bias_vec + place_bias_vec\n",
    "        return tf.nn.sigmoid(x)\n",
    "\n",
    "print(\"Kelas RecommenderNet telah berhasil didefinisikan\")"
   ]
  },
  {
   "cell_type": "markdown",
   "id": "14975788",
   "metadata": {},
   "source": [
    "### Fungsi untuk Mendapatkan Rekomendasi"
   ]
  },
  {
   "cell_type": "code",
   "execution_count": 6,
   "id": "30ace9b3",
   "metadata": {},
   "outputs": [
    {
     "name": "stdout",
     "output_type": "stream",
     "text": [
      "Fungsi untuk Mendapatkan Rekomendasi telah berhasil didefinisikan.\n"
     ]
    }
   ],
   "source": [
    "def get_content_based_recommendations(place_id_ref, n=5, cosine_sim_matrix_param=None, tourism_df_param=None, id_to_idx_map_param=None):\n",
    "    if cosine_sim_matrix_param is None or tourism_df_param is None or id_to_idx_map_param is None:\n",
    "        return \"Model CBF belum siap.\"\n",
    "    if place_id_ref not in id_to_idx_map_param:\n",
    "        place_name_matches = tourism_df_param[tourism_df_param['Place_Name'] == place_id_ref]\n",
    "        if not place_name_matches.empty:\n",
    "            place_id_ref_from_name = place_name_matches['Place_Id'].iloc[0]\n",
    "            if place_id_ref_from_name in id_to_idx_map_param: idx = id_to_idx_map_param[place_id_ref_from_name]\n",
    "            else: return f\"ID Tempat (dari nama) '{place_id_ref_from_name}' tidak ditemukan di map.\"\n",
    "        else: return f\"ID Tempat atau Nama '{place_id_ref}' tidak ditemukan.\"\n",
    "    else: idx = id_to_idx_map_param[place_id_ref]    \n",
    "    sim_scores = list(enumerate(cosine_sim_matrix_param[idx]))\n",
    "    sim_scores = sorted(sim_scores, key=lambda x: x[1], reverse=True)[1:n+1]\n",
    "    place_indices = [i[0] for i in sim_scores]\n",
    "    recommendations_df = tourism_df_param.iloc[place_indices][['Place_Id', 'Place_Name', 'Category', 'Rating']].copy()\n",
    "    recommendations_df['similarity_score'] = [s[1] for s in sim_scores]\n",
    "    return recommendations_df\n",
    "\n",
    "def get_top_n_recommendations_keras_cf(user_real_id, n=5, model=None, tourism_df_all_yogya=None, rating_df_yogya_cf=None, mappings=None):\n",
    "    if model is None or mappings is None:\n",
    "        return \"Model CF belum siap.\"\n",
    "    user_to_user_encoded_cf = mappings['user_to_user_encoded']\n",
    "    place_to_place_encoded_cf = mappings['place_to_place_encoded']\n",
    "    place_encoded_to_place_cf = mappings['place_encoded_to_place']\n",
    "    \n",
    "    user_enc = user_to_user_encoded_cf.get(user_real_id)\n",
    "    if user_enc is None: return \"User ID tidak ditemukan dalam data training CF.\"\n",
    "    all_place_ids_yogya = tourism_df_all_yogya['Place_Id'].unique()\n",
    "    place_ids_in_cf_model_list = list(place_to_place_encoded_cf.keys())\n",
    "    rated_items_by_user = rating_df_yogya_cf[rating_df_yogya_cf['User_Id'] == user_real_id]['Place_Id'].unique()\n",
    "    candidate_items_for_prediction = [pid for pid in all_place_ids_yogya if pid in place_ids_in_cf_model_list and pid not in rated_items_by_user]\n",
    "    if not candidate_items_for_prediction: return pd.DataFrame(columns=['Place_Id', 'Place_Name', 'Category', 'Rating', 'Predicted_Normalized_Rating'])\n",
    "    place_encoded_candidates = [place_to_place_encoded_cf[pid] for pid in candidate_items_for_prediction]\n",
    "    user_place_array = np.array([[user_enc, place_enc] for place_enc in place_encoded_candidates])\n",
    "    predictions_normalized = model.predict(user_place_array, verbose=0).flatten()\n",
    "    top_indices = predictions_normalized.argsort()[-n:][::-1]\n",
    "    recommended_original_place_ids = [place_encoded_to_place_cf[place_encoded_candidates[i]] for i in top_indices]\n",
    "    recommendations_df = tourism_df_all_yogya[tourism_df_all_yogya['Place_Id'].isin(recommended_original_place_ids)][['Place_Id', 'Place_Name', 'Category', 'Rating']].copy()\n",
    "    pred_map = {place_encoded_to_place_cf[place_encoded_candidates[i]]: predictions_normalized[i] for i in top_indices}\n",
    "    recommendations_df['Predicted_Normalized_Rating'] = recommendations_df['Place_Id'].map(pred_map)\n",
    "    return recommendations_df.sort_values('Predicted_Normalized_Rating', ascending=False)\n",
    "\n",
    "print(\"Fungsi untuk Mendapatkan Rekomendasi telah berhasil didefinisikan.\")\n"
   ]
  },
  {
   "cell_type": "markdown",
   "id": "e5e58fcf",
   "metadata": {},
   "source": [
    "## **Data Understanding**"
   ]
  },
  {
   "cell_type": "markdown",
   "id": "3b557fea",
   "metadata": {},
   "source": [
    "### Memuat Dataset"
   ]
  },
  {
   "cell_type": "code",
   "execution_count": 7,
   "id": "4350966b",
   "metadata": {},
   "outputs": [
    {
     "name": "stdout",
     "output_type": "stream",
     "text": [
      "\n",
      "File CSV berhasil dimuat dari folder 'dataset/'.\n"
     ]
    }
   ],
   "source": [
    "# Memuat Dataset\n",
    "df_tourism_raw = pd.read_csv('dataset/tourism_with_id.csv')\n",
    "df_rating_raw = pd.read_csv('dataset/tourism_rating.csv')\n",
    "df_user_raw = pd.read_csv('dataset/user.csv')\n",
    "print(\"\\nFile CSV berhasil dimuat dari folder 'dataset/'.\")"
   ]
  },
  {
   "cell_type": "markdown",
   "id": "5c53e39d",
   "metadata": {},
   "source": [
    "### Membuat Salinan"
   ]
  },
  {
   "cell_type": "code",
   "execution_count": 8,
   "id": "ccd54da6",
   "metadata": {},
   "outputs": [
    {
     "name": "stdout",
     "output_type": "stream",
     "text": [
      "\n",
      "DataFrame berhasil dicopy untuk mengantisipasi data oroginal masih tersimpan rapi.\n"
     ]
    }
   ],
   "source": [
    "# Membuat salinan untuk diproses agar data mentah tetap ada jika diperlukan\n",
    "df_tourism = df_tourism_raw.copy()\n",
    "df_rating = df_rating_raw.copy()\n",
    "df_user = df_user_raw.copy()\n",
    "print(\"\\nDataFrame berhasil dicopy untuk mengantisipasi data oroginal masih tersimpan rapi.\")"
   ]
  },
  {
   "cell_type": "markdown",
   "id": "adb9aae7",
   "metadata": {},
   "source": [
    "### Informasi Umum dan Variabel Dataset"
   ]
  },
  {
   "cell_type": "markdown",
   "id": "abbb1913",
   "metadata": {},
   "source": [
    "#### `df_tourism` (Tempat Wisata)"
   ]
  },
  {
   "cell_type": "code",
   "execution_count": 9,
   "id": "ff110d3f",
   "metadata": {},
   "outputs": [
    {
     "name": "stdout",
     "output_type": "stream",
     "text": [
      "Info Detail Variabel (df_tourism):\n",
      "<class 'pandas.core.frame.DataFrame'>\n",
      "RangeIndex: 437 entries, 0 to 436\n",
      "Data columns (total 13 columns):\n",
      " #   Column        Non-Null Count  Dtype  \n",
      "---  ------        --------------  -----  \n",
      " 0   Place_Id      437 non-null    int64  \n",
      " 1   Place_Name    437 non-null    object \n",
      " 2   Description   437 non-null    object \n",
      " 3   Category      437 non-null    object \n",
      " 4   City          437 non-null    object \n",
      " 5   Price         437 non-null    int64  \n",
      " 6   Rating        437 non-null    float64\n",
      " 7   Time_Minutes  205 non-null    float64\n",
      " 8   Coordinate    437 non-null    object \n",
      " 9   Lat           437 non-null    float64\n",
      " 10  Long          437 non-null    float64\n",
      " 11  Unnamed: 11   0 non-null      float64\n",
      " 12  Unnamed: 12   437 non-null    int64  \n",
      "dtypes: float64(5), int64(3), object(5)\n",
      "memory usage: 44.5+ KB\n",
      "Contoh Data Awal (df_tourism):\n"
     ]
    },
    {
     "data": {
      "text/html": [
       "<div>\n",
       "<style scoped>\n",
       "    .dataframe tbody tr th:only-of-type {\n",
       "        vertical-align: middle;\n",
       "    }\n",
       "\n",
       "    .dataframe tbody tr th {\n",
       "        vertical-align: top;\n",
       "    }\n",
       "\n",
       "    .dataframe thead th {\n",
       "        text-align: right;\n",
       "    }\n",
       "</style>\n",
       "<table border=\"1\" class=\"dataframe\">\n",
       "  <thead>\n",
       "    <tr style=\"text-align: right;\">\n",
       "      <th></th>\n",
       "      <th>Place_Id</th>\n",
       "      <th>Place_Name</th>\n",
       "      <th>Description</th>\n",
       "      <th>Category</th>\n",
       "      <th>City</th>\n",
       "      <th>Price</th>\n",
       "      <th>Rating</th>\n",
       "      <th>Time_Minutes</th>\n",
       "      <th>Coordinate</th>\n",
       "      <th>Lat</th>\n",
       "      <th>Long</th>\n",
       "      <th>Unnamed: 11</th>\n",
       "      <th>Unnamed: 12</th>\n",
       "    </tr>\n",
       "  </thead>\n",
       "  <tbody>\n",
       "    <tr>\n",
       "      <th>0</th>\n",
       "      <td>1</td>\n",
       "      <td>Monumen Nasional</td>\n",
       "      <td>Monumen Nasional atau yang populer disingkat d...</td>\n",
       "      <td>Budaya</td>\n",
       "      <td>Jakarta</td>\n",
       "      <td>20000</td>\n",
       "      <td>4.6</td>\n",
       "      <td>15.0</td>\n",
       "      <td>{'lat': -6.1753924, 'lng': 106.8271528}</td>\n",
       "      <td>-6.175392</td>\n",
       "      <td>106.827153</td>\n",
       "      <td>NaN</td>\n",
       "      <td>1</td>\n",
       "    </tr>\n",
       "    <tr>\n",
       "      <th>1</th>\n",
       "      <td>2</td>\n",
       "      <td>Kota Tua</td>\n",
       "      <td>Kota tua di Jakarta, yang juga bernama Kota Tu...</td>\n",
       "      <td>Budaya</td>\n",
       "      <td>Jakarta</td>\n",
       "      <td>0</td>\n",
       "      <td>4.6</td>\n",
       "      <td>90.0</td>\n",
       "      <td>{'lat': -6.137644799999999, 'lng': 106.8171245}</td>\n",
       "      <td>-6.137645</td>\n",
       "      <td>106.817125</td>\n",
       "      <td>NaN</td>\n",
       "      <td>2</td>\n",
       "    </tr>\n",
       "    <tr>\n",
       "      <th>2</th>\n",
       "      <td>3</td>\n",
       "      <td>Dunia Fantasi</td>\n",
       "      <td>Dunia Fantasi atau disebut juga Dufan adalah t...</td>\n",
       "      <td>Taman Hiburan</td>\n",
       "      <td>Jakarta</td>\n",
       "      <td>270000</td>\n",
       "      <td>4.6</td>\n",
       "      <td>360.0</td>\n",
       "      <td>{'lat': -6.125312399999999, 'lng': 106.8335377}</td>\n",
       "      <td>-6.125312</td>\n",
       "      <td>106.833538</td>\n",
       "      <td>NaN</td>\n",
       "      <td>3</td>\n",
       "    </tr>\n",
       "  </tbody>\n",
       "</table>\n",
       "</div>"
      ],
      "text/plain": [
       "   Place_Id        Place_Name  \\\n",
       "0         1  Monumen Nasional   \n",
       "1         2          Kota Tua   \n",
       "2         3     Dunia Fantasi   \n",
       "\n",
       "                                         Description       Category     City  \\\n",
       "0  Monumen Nasional atau yang populer disingkat d...         Budaya  Jakarta   \n",
       "1  Kota tua di Jakarta, yang juga bernama Kota Tu...         Budaya  Jakarta   \n",
       "2  Dunia Fantasi atau disebut juga Dufan adalah t...  Taman Hiburan  Jakarta   \n",
       "\n",
       "    Price  Rating  Time_Minutes  \\\n",
       "0   20000     4.6          15.0   \n",
       "1       0     4.6          90.0   \n",
       "2  270000     4.6         360.0   \n",
       "\n",
       "                                        Coordinate       Lat        Long  \\\n",
       "0          {'lat': -6.1753924, 'lng': 106.8271528} -6.175392  106.827153   \n",
       "1  {'lat': -6.137644799999999, 'lng': 106.8171245} -6.137645  106.817125   \n",
       "2  {'lat': -6.125312399999999, 'lng': 106.8335377} -6.125312  106.833538   \n",
       "\n",
       "   Unnamed: 11  Unnamed: 12  \n",
       "0          NaN            1  \n",
       "1          NaN            2  \n",
       "2          NaN            3  "
      ]
     },
     "metadata": {},
     "output_type": "display_data"
    },
    {
     "name": "stdout",
     "output_type": "stream",
     "text": [
      "Contoh Data Akhir (df_tourism):\n"
     ]
    },
    {
     "data": {
      "text/html": [
       "<div>\n",
       "<style scoped>\n",
       "    .dataframe tbody tr th:only-of-type {\n",
       "        vertical-align: middle;\n",
       "    }\n",
       "\n",
       "    .dataframe tbody tr th {\n",
       "        vertical-align: top;\n",
       "    }\n",
       "\n",
       "    .dataframe thead th {\n",
       "        text-align: right;\n",
       "    }\n",
       "</style>\n",
       "<table border=\"1\" class=\"dataframe\">\n",
       "  <thead>\n",
       "    <tr style=\"text-align: right;\">\n",
       "      <th></th>\n",
       "      <th>Place_Id</th>\n",
       "      <th>Place_Name</th>\n",
       "      <th>Description</th>\n",
       "      <th>Category</th>\n",
       "      <th>City</th>\n",
       "      <th>Price</th>\n",
       "      <th>Rating</th>\n",
       "      <th>Time_Minutes</th>\n",
       "      <th>Coordinate</th>\n",
       "      <th>Lat</th>\n",
       "      <th>Long</th>\n",
       "      <th>Unnamed: 11</th>\n",
       "      <th>Unnamed: 12</th>\n",
       "    </tr>\n",
       "  </thead>\n",
       "  <tbody>\n",
       "    <tr>\n",
       "      <th>434</th>\n",
       "      <td>435</td>\n",
       "      <td>Taman Air Mancur Menari Kenjeran</td>\n",
       "      <td>Air mancur menari atau dancing fountain juga a...</td>\n",
       "      <td>Taman Hiburan</td>\n",
       "      <td>Surabaya</td>\n",
       "      <td>0</td>\n",
       "      <td>4.4</td>\n",
       "      <td>45.0</td>\n",
       "      <td>{'lat': -7.2752955, 'lng': 112.7549381}</td>\n",
       "      <td>-7.275296</td>\n",
       "      <td>112.754938</td>\n",
       "      <td>NaN</td>\n",
       "      <td>435</td>\n",
       "    </tr>\n",
       "    <tr>\n",
       "      <th>435</th>\n",
       "      <td>436</td>\n",
       "      <td>Taman Flora Bratang Surabaya</td>\n",
       "      <td>Taman Flora adalah salah satu taman kota di Su...</td>\n",
       "      <td>Taman Hiburan</td>\n",
       "      <td>Surabaya</td>\n",
       "      <td>0</td>\n",
       "      <td>4.6</td>\n",
       "      <td>NaN</td>\n",
       "      <td>{'lat': -7.294330299999999, 'lng': 112.7617534}</td>\n",
       "      <td>-7.294330</td>\n",
       "      <td>112.761753</td>\n",
       "      <td>NaN</td>\n",
       "      <td>436</td>\n",
       "    </tr>\n",
       "    <tr>\n",
       "      <th>436</th>\n",
       "      <td>437</td>\n",
       "      <td>Gereja Perawan Maria Tak Berdosa Surabaya</td>\n",
       "      <td>Gereja Katolik Kelahiran Santa Perawan Maria m...</td>\n",
       "      <td>Tempat Ibadah</td>\n",
       "      <td>Surabaya</td>\n",
       "      <td>10000</td>\n",
       "      <td>4.8</td>\n",
       "      <td>NaN</td>\n",
       "      <td>{'lat': -7.2420758, 'lng': 112.7368158}</td>\n",
       "      <td>-7.242076</td>\n",
       "      <td>112.736816</td>\n",
       "      <td>NaN</td>\n",
       "      <td>437</td>\n",
       "    </tr>\n",
       "  </tbody>\n",
       "</table>\n",
       "</div>"
      ],
      "text/plain": [
       "     Place_Id                                 Place_Name  \\\n",
       "434       435           Taman Air Mancur Menari Kenjeran   \n",
       "435       436               Taman Flora Bratang Surabaya   \n",
       "436       437  Gereja Perawan Maria Tak Berdosa Surabaya   \n",
       "\n",
       "                                           Description       Category  \\\n",
       "434  Air mancur menari atau dancing fountain juga a...  Taman Hiburan   \n",
       "435  Taman Flora adalah salah satu taman kota di Su...  Taman Hiburan   \n",
       "436  Gereja Katolik Kelahiran Santa Perawan Maria m...  Tempat Ibadah   \n",
       "\n",
       "         City  Price  Rating  Time_Minutes  \\\n",
       "434  Surabaya      0     4.4          45.0   \n",
       "435  Surabaya      0     4.6           NaN   \n",
       "436  Surabaya  10000     4.8           NaN   \n",
       "\n",
       "                                          Coordinate       Lat        Long  \\\n",
       "434          {'lat': -7.2752955, 'lng': 112.7549381} -7.275296  112.754938   \n",
       "435  {'lat': -7.294330299999999, 'lng': 112.7617534} -7.294330  112.761753   \n",
       "436          {'lat': -7.2420758, 'lng': 112.7368158} -7.242076  112.736816   \n",
       "\n",
       "     Unnamed: 11  Unnamed: 12  \n",
       "434          NaN          435  \n",
       "435          NaN          436  \n",
       "436          NaN          437  "
      ]
     },
     "metadata": {},
     "output_type": "display_data"
    },
    {
     "name": "stdout",
     "output_type": "stream",
     "text": [
      "\n",
      "Statistik Deskriptif Harga (Price) dan Rating Publik (Rating) pada df_tourism:\n"
     ]
    },
    {
     "data": {
      "text/html": [
       "<div>\n",
       "<style scoped>\n",
       "    .dataframe tbody tr th:only-of-type {\n",
       "        vertical-align: middle;\n",
       "    }\n",
       "\n",
       "    .dataframe tbody tr th {\n",
       "        vertical-align: top;\n",
       "    }\n",
       "\n",
       "    .dataframe thead th {\n",
       "        text-align: right;\n",
       "    }\n",
       "</style>\n",
       "<table border=\"1\" class=\"dataframe\">\n",
       "  <thead>\n",
       "    <tr style=\"text-align: right;\">\n",
       "      <th></th>\n",
       "      <th>Price</th>\n",
       "      <th>Rating</th>\n",
       "    </tr>\n",
       "  </thead>\n",
       "  <tbody>\n",
       "    <tr>\n",
       "      <th>count</th>\n",
       "      <td>437.000000</td>\n",
       "      <td>437.000000</td>\n",
       "    </tr>\n",
       "    <tr>\n",
       "      <th>mean</th>\n",
       "      <td>24652.173913</td>\n",
       "      <td>4.442792</td>\n",
       "    </tr>\n",
       "    <tr>\n",
       "      <th>std</th>\n",
       "      <td>66446.374709</td>\n",
       "      <td>0.208587</td>\n",
       "    </tr>\n",
       "    <tr>\n",
       "      <th>min</th>\n",
       "      <td>0.000000</td>\n",
       "      <td>3.400000</td>\n",
       "    </tr>\n",
       "    <tr>\n",
       "      <th>25%</th>\n",
       "      <td>0.000000</td>\n",
       "      <td>4.300000</td>\n",
       "    </tr>\n",
       "    <tr>\n",
       "      <th>50%</th>\n",
       "      <td>5000.000000</td>\n",
       "      <td>4.500000</td>\n",
       "    </tr>\n",
       "    <tr>\n",
       "      <th>75%</th>\n",
       "      <td>20000.000000</td>\n",
       "      <td>4.600000</td>\n",
       "    </tr>\n",
       "    <tr>\n",
       "      <th>max</th>\n",
       "      <td>900000.000000</td>\n",
       "      <td>5.000000</td>\n",
       "    </tr>\n",
       "  </tbody>\n",
       "</table>\n",
       "</div>"
      ],
      "text/plain": [
       "               Price      Rating\n",
       "count     437.000000  437.000000\n",
       "mean    24652.173913    4.442792\n",
       "std     66446.374709    0.208587\n",
       "min         0.000000    3.400000\n",
       "25%         0.000000    4.300000\n",
       "50%      5000.000000    4.500000\n",
       "75%     20000.000000    4.600000\n",
       "max    900000.000000    5.000000"
      ]
     },
     "metadata": {},
     "output_type": "display_data"
    },
    {
     "name": "stdout",
     "output_type": "stream",
     "text": [
      "\n",
      "Cek nilai null di df_tourism:\n"
     ]
    },
    {
     "data": {
      "text/html": [
       "<div>\n",
       "<style scoped>\n",
       "    .dataframe tbody tr th:only-of-type {\n",
       "        vertical-align: middle;\n",
       "    }\n",
       "\n",
       "    .dataframe tbody tr th {\n",
       "        vertical-align: top;\n",
       "    }\n",
       "\n",
       "    .dataframe thead th {\n",
       "        text-align: right;\n",
       "    }\n",
       "</style>\n",
       "<table border=\"1\" class=\"dataframe\">\n",
       "  <thead>\n",
       "    <tr style=\"text-align: right;\">\n",
       "      <th></th>\n",
       "      <th>jumlah_null</th>\n",
       "    </tr>\n",
       "  </thead>\n",
       "  <tbody>\n",
       "    <tr>\n",
       "      <th>Place_Id</th>\n",
       "      <td>0</td>\n",
       "    </tr>\n",
       "    <tr>\n",
       "      <th>Place_Name</th>\n",
       "      <td>0</td>\n",
       "    </tr>\n",
       "    <tr>\n",
       "      <th>Description</th>\n",
       "      <td>0</td>\n",
       "    </tr>\n",
       "    <tr>\n",
       "      <th>Category</th>\n",
       "      <td>0</td>\n",
       "    </tr>\n",
       "    <tr>\n",
       "      <th>City</th>\n",
       "      <td>0</td>\n",
       "    </tr>\n",
       "    <tr>\n",
       "      <th>Price</th>\n",
       "      <td>0</td>\n",
       "    </tr>\n",
       "    <tr>\n",
       "      <th>Rating</th>\n",
       "      <td>0</td>\n",
       "    </tr>\n",
       "    <tr>\n",
       "      <th>Time_Minutes</th>\n",
       "      <td>232</td>\n",
       "    </tr>\n",
       "    <tr>\n",
       "      <th>Coordinate</th>\n",
       "      <td>0</td>\n",
       "    </tr>\n",
       "    <tr>\n",
       "      <th>Lat</th>\n",
       "      <td>0</td>\n",
       "    </tr>\n",
       "    <tr>\n",
       "      <th>Long</th>\n",
       "      <td>0</td>\n",
       "    </tr>\n",
       "    <tr>\n",
       "      <th>Unnamed: 11</th>\n",
       "      <td>437</td>\n",
       "    </tr>\n",
       "    <tr>\n",
       "      <th>Unnamed: 12</th>\n",
       "      <td>0</td>\n",
       "    </tr>\n",
       "  </tbody>\n",
       "</table>\n",
       "</div>"
      ],
      "text/plain": [
       "              jumlah_null\n",
       "Place_Id                0\n",
       "Place_Name              0\n",
       "Description             0\n",
       "Category                0\n",
       "City                    0\n",
       "Price                   0\n",
       "Rating                  0\n",
       "Time_Minutes          232\n",
       "Coordinate              0\n",
       "Lat                     0\n",
       "Long                    0\n",
       "Unnamed: 11           437\n",
       "Unnamed: 12             0"
      ]
     },
     "metadata": {},
     "output_type": "display_data"
    }
   ],
   "source": [
    "print(\"Info Detail Variabel (df_tourism):\")\n",
    "df_tourism.info()\n",
    "\n",
    "print(\"Contoh Data Awal (df_tourism):\")\n",
    "display(df_tourism.head(3))\n",
    "\n",
    "print(\"Contoh Data Akhir (df_tourism):\")\n",
    "display(df_tourism.tail(3))\n",
    "\n",
    "print(\"\\nStatistik Deskriptif Harga (Price) dan Rating Publik (Rating) pada df_tourism:\")\n",
    "display(df_tourism[['Price', 'Rating']].describe())\n",
    "\n",
    "print(\"\\nCek nilai null di df_tourism:\")\n",
    "display(df_tourism.isnull().sum().to_frame(name='jumlah_null'))"
   ]
  },
  {
   "cell_type": "markdown",
   "id": "4c8094b4",
   "metadata": {},
   "source": [
    "#### `df_rating` (Rating Pengguna)"
   ]
  },
  {
   "cell_type": "code",
   "execution_count": 10,
   "id": "fb6fa919",
   "metadata": {},
   "outputs": [
    {
     "name": "stdout",
     "output_type": "stream",
     "text": [
      "Info Detail Variabel (df_rating):\n",
      "<class 'pandas.core.frame.DataFrame'>\n",
      "RangeIndex: 10000 entries, 0 to 9999\n",
      "Data columns (total 3 columns):\n",
      " #   Column         Non-Null Count  Dtype\n",
      "---  ------         --------------  -----\n",
      " 0   User_Id        10000 non-null  int64\n",
      " 1   Place_Id       10000 non-null  int64\n",
      " 2   Place_Ratings  10000 non-null  int64\n",
      "dtypes: int64(3)\n",
      "memory usage: 234.5 KB\n",
      "Contoh Data Awal (df_rating):\n"
     ]
    },
    {
     "data": {
      "text/html": [
       "<div>\n",
       "<style scoped>\n",
       "    .dataframe tbody tr th:only-of-type {\n",
       "        vertical-align: middle;\n",
       "    }\n",
       "\n",
       "    .dataframe tbody tr th {\n",
       "        vertical-align: top;\n",
       "    }\n",
       "\n",
       "    .dataframe thead th {\n",
       "        text-align: right;\n",
       "    }\n",
       "</style>\n",
       "<table border=\"1\" class=\"dataframe\">\n",
       "  <thead>\n",
       "    <tr style=\"text-align: right;\">\n",
       "      <th></th>\n",
       "      <th>User_Id</th>\n",
       "      <th>Place_Id</th>\n",
       "      <th>Place_Ratings</th>\n",
       "    </tr>\n",
       "  </thead>\n",
       "  <tbody>\n",
       "    <tr>\n",
       "      <th>0</th>\n",
       "      <td>1</td>\n",
       "      <td>179</td>\n",
       "      <td>3</td>\n",
       "    </tr>\n",
       "    <tr>\n",
       "      <th>1</th>\n",
       "      <td>1</td>\n",
       "      <td>344</td>\n",
       "      <td>2</td>\n",
       "    </tr>\n",
       "    <tr>\n",
       "      <th>2</th>\n",
       "      <td>1</td>\n",
       "      <td>5</td>\n",
       "      <td>5</td>\n",
       "    </tr>\n",
       "  </tbody>\n",
       "</table>\n",
       "</div>"
      ],
      "text/plain": [
       "   User_Id  Place_Id  Place_Ratings\n",
       "0        1       179              3\n",
       "1        1       344              2\n",
       "2        1         5              5"
      ]
     },
     "metadata": {},
     "output_type": "display_data"
    },
    {
     "name": "stdout",
     "output_type": "stream",
     "text": [
      "Contoh Data Akhir (df_rating):\n"
     ]
    },
    {
     "data": {
      "text/html": [
       "<div>\n",
       "<style scoped>\n",
       "    .dataframe tbody tr th:only-of-type {\n",
       "        vertical-align: middle;\n",
       "    }\n",
       "\n",
       "    .dataframe tbody tr th {\n",
       "        vertical-align: top;\n",
       "    }\n",
       "\n",
       "    .dataframe thead th {\n",
       "        text-align: right;\n",
       "    }\n",
       "</style>\n",
       "<table border=\"1\" class=\"dataframe\">\n",
       "  <thead>\n",
       "    <tr style=\"text-align: right;\">\n",
       "      <th></th>\n",
       "      <th>User_Id</th>\n",
       "      <th>Place_Id</th>\n",
       "      <th>Place_Ratings</th>\n",
       "    </tr>\n",
       "  </thead>\n",
       "  <tbody>\n",
       "    <tr>\n",
       "      <th>9997</th>\n",
       "      <td>300</td>\n",
       "      <td>311</td>\n",
       "      <td>3</td>\n",
       "    </tr>\n",
       "    <tr>\n",
       "      <th>9998</th>\n",
       "      <td>300</td>\n",
       "      <td>279</td>\n",
       "      <td>4</td>\n",
       "    </tr>\n",
       "    <tr>\n",
       "      <th>9999</th>\n",
       "      <td>300</td>\n",
       "      <td>163</td>\n",
       "      <td>2</td>\n",
       "    </tr>\n",
       "  </tbody>\n",
       "</table>\n",
       "</div>"
      ],
      "text/plain": [
       "      User_Id  Place_Id  Place_Ratings\n",
       "9997      300       311              3\n",
       "9998      300       279              4\n",
       "9999      300       163              2"
      ]
     },
     "metadata": {},
     "output_type": "display_data"
    },
    {
     "name": "stdout",
     "output_type": "stream",
     "text": [
      "\n",
      "Statistik Deskriptif Rating Pengguna (Place_Ratings) pada df_rating:\n"
     ]
    },
    {
     "data": {
      "text/html": [
       "<div>\n",
       "<style scoped>\n",
       "    .dataframe tbody tr th:only-of-type {\n",
       "        vertical-align: middle;\n",
       "    }\n",
       "\n",
       "    .dataframe tbody tr th {\n",
       "        vertical-align: top;\n",
       "    }\n",
       "\n",
       "    .dataframe thead th {\n",
       "        text-align: right;\n",
       "    }\n",
       "</style>\n",
       "<table border=\"1\" class=\"dataframe\">\n",
       "  <thead>\n",
       "    <tr style=\"text-align: right;\">\n",
       "      <th></th>\n",
       "      <th>statistik_place_ratings</th>\n",
       "    </tr>\n",
       "  </thead>\n",
       "  <tbody>\n",
       "    <tr>\n",
       "      <th>count</th>\n",
       "      <td>10000.000000</td>\n",
       "    </tr>\n",
       "    <tr>\n",
       "      <th>mean</th>\n",
       "      <td>3.066500</td>\n",
       "    </tr>\n",
       "    <tr>\n",
       "      <th>std</th>\n",
       "      <td>1.379952</td>\n",
       "    </tr>\n",
       "    <tr>\n",
       "      <th>min</th>\n",
       "      <td>1.000000</td>\n",
       "    </tr>\n",
       "    <tr>\n",
       "      <th>25%</th>\n",
       "      <td>2.000000</td>\n",
       "    </tr>\n",
       "    <tr>\n",
       "      <th>50%</th>\n",
       "      <td>3.000000</td>\n",
       "    </tr>\n",
       "    <tr>\n",
       "      <th>75%</th>\n",
       "      <td>4.000000</td>\n",
       "    </tr>\n",
       "    <tr>\n",
       "      <th>max</th>\n",
       "      <td>5.000000</td>\n",
       "    </tr>\n",
       "  </tbody>\n",
       "</table>\n",
       "</div>"
      ],
      "text/plain": [
       "       statistik_place_ratings\n",
       "count             10000.000000\n",
       "mean                  3.066500\n",
       "std                   1.379952\n",
       "min                   1.000000\n",
       "25%                   2.000000\n",
       "50%                   3.000000\n",
       "75%                   4.000000\n",
       "max                   5.000000"
      ]
     },
     "metadata": {},
     "output_type": "display_data"
    },
    {
     "name": "stdout",
     "output_type": "stream",
     "text": [
      "\n",
      "Cek nilai null di df_rating:\n"
     ]
    },
    {
     "data": {
      "text/html": [
       "<div>\n",
       "<style scoped>\n",
       "    .dataframe tbody tr th:only-of-type {\n",
       "        vertical-align: middle;\n",
       "    }\n",
       "\n",
       "    .dataframe tbody tr th {\n",
       "        vertical-align: top;\n",
       "    }\n",
       "\n",
       "    .dataframe thead th {\n",
       "        text-align: right;\n",
       "    }\n",
       "</style>\n",
       "<table border=\"1\" class=\"dataframe\">\n",
       "  <thead>\n",
       "    <tr style=\"text-align: right;\">\n",
       "      <th></th>\n",
       "      <th>jumlah_null</th>\n",
       "    </tr>\n",
       "  </thead>\n",
       "  <tbody>\n",
       "    <tr>\n",
       "      <th>User_Id</th>\n",
       "      <td>0</td>\n",
       "    </tr>\n",
       "    <tr>\n",
       "      <th>Place_Id</th>\n",
       "      <td>0</td>\n",
       "    </tr>\n",
       "    <tr>\n",
       "      <th>Place_Ratings</th>\n",
       "      <td>0</td>\n",
       "    </tr>\n",
       "  </tbody>\n",
       "</table>\n",
       "</div>"
      ],
      "text/plain": [
       "               jumlah_null\n",
       "User_Id                  0\n",
       "Place_Id                 0\n",
       "Place_Ratings            0"
      ]
     },
     "metadata": {},
     "output_type": "display_data"
    }
   ],
   "source": [
    "print(\"Info Detail Variabel (df_rating):\")\n",
    "df_rating.info()\n",
    "\n",
    "print(\"Contoh Data Awal (df_rating):\")\n",
    "display(df_rating.head(3))\n",
    "\n",
    "print(\"Contoh Data Akhir (df_rating):\")\n",
    "display(df_rating.tail(3))\n",
    "\n",
    "print(\"\\nStatistik Deskriptif Rating Pengguna (Place_Ratings) pada df_rating:\")\n",
    "display(df_rating['Place_Ratings'].describe().to_frame(name='statistik_place_ratings'))\n",
    "\n",
    "print(\"\\nCek nilai null di df_rating:\")\n",
    "display(df_rating.isnull().sum().to_frame(name='jumlah_null'))"
   ]
  },
  {
   "cell_type": "markdown",
   "id": "2e4d9218",
   "metadata": {},
   "source": [
    "#### `df_user` (Pengguna)"
   ]
  },
  {
   "cell_type": "code",
   "execution_count": 11,
   "id": "06af3c9f",
   "metadata": {},
   "outputs": [
    {
     "name": "stdout",
     "output_type": "stream",
     "text": [
      "Info Detail Variabel (df_user):\n",
      "<class 'pandas.core.frame.DataFrame'>\n",
      "RangeIndex: 300 entries, 0 to 299\n",
      "Data columns (total 3 columns):\n",
      " #   Column    Non-Null Count  Dtype \n",
      "---  ------    --------------  ----- \n",
      " 0   User_Id   300 non-null    int64 \n",
      " 1   Location  300 non-null    object\n",
      " 2   Age       300 non-null    int64 \n",
      "dtypes: int64(2), object(1)\n",
      "memory usage: 7.2+ KB\n",
      "Contoh Data Awal (df_user):\n"
     ]
    },
    {
     "data": {
      "text/html": [
       "<div>\n",
       "<style scoped>\n",
       "    .dataframe tbody tr th:only-of-type {\n",
       "        vertical-align: middle;\n",
       "    }\n",
       "\n",
       "    .dataframe tbody tr th {\n",
       "        vertical-align: top;\n",
       "    }\n",
       "\n",
       "    .dataframe thead th {\n",
       "        text-align: right;\n",
       "    }\n",
       "</style>\n",
       "<table border=\"1\" class=\"dataframe\">\n",
       "  <thead>\n",
       "    <tr style=\"text-align: right;\">\n",
       "      <th></th>\n",
       "      <th>User_Id</th>\n",
       "      <th>Location</th>\n",
       "      <th>Age</th>\n",
       "    </tr>\n",
       "  </thead>\n",
       "  <tbody>\n",
       "    <tr>\n",
       "      <th>0</th>\n",
       "      <td>1</td>\n",
       "      <td>Semarang, Jawa Tengah</td>\n",
       "      <td>20</td>\n",
       "    </tr>\n",
       "    <tr>\n",
       "      <th>1</th>\n",
       "      <td>2</td>\n",
       "      <td>Bekasi, Jawa Barat</td>\n",
       "      <td>21</td>\n",
       "    </tr>\n",
       "    <tr>\n",
       "      <th>2</th>\n",
       "      <td>3</td>\n",
       "      <td>Cirebon, Jawa Barat</td>\n",
       "      <td>23</td>\n",
       "    </tr>\n",
       "  </tbody>\n",
       "</table>\n",
       "</div>"
      ],
      "text/plain": [
       "   User_Id               Location  Age\n",
       "0        1  Semarang, Jawa Tengah   20\n",
       "1        2     Bekasi, Jawa Barat   21\n",
       "2        3    Cirebon, Jawa Barat   23"
      ]
     },
     "metadata": {},
     "output_type": "display_data"
    },
    {
     "name": "stdout",
     "output_type": "stream",
     "text": [
      "Contoh Data Akhir (df_user):\n"
     ]
    },
    {
     "data": {
      "text/html": [
       "<div>\n",
       "<style scoped>\n",
       "    .dataframe tbody tr th:only-of-type {\n",
       "        vertical-align: middle;\n",
       "    }\n",
       "\n",
       "    .dataframe tbody tr th {\n",
       "        vertical-align: top;\n",
       "    }\n",
       "\n",
       "    .dataframe thead th {\n",
       "        text-align: right;\n",
       "    }\n",
       "</style>\n",
       "<table border=\"1\" class=\"dataframe\">\n",
       "  <thead>\n",
       "    <tr style=\"text-align: right;\">\n",
       "      <th></th>\n",
       "      <th>User_Id</th>\n",
       "      <th>Location</th>\n",
       "      <th>Age</th>\n",
       "    </tr>\n",
       "  </thead>\n",
       "  <tbody>\n",
       "    <tr>\n",
       "      <th>297</th>\n",
       "      <td>298</td>\n",
       "      <td>Bogor, Jawa Barat</td>\n",
       "      <td>38</td>\n",
       "    </tr>\n",
       "    <tr>\n",
       "      <th>298</th>\n",
       "      <td>299</td>\n",
       "      <td>Sragen, Jawa Tengah</td>\n",
       "      <td>27</td>\n",
       "    </tr>\n",
       "    <tr>\n",
       "      <th>299</th>\n",
       "      <td>300</td>\n",
       "      <td>Ponorogo, Jawa Timur</td>\n",
       "      <td>26</td>\n",
       "    </tr>\n",
       "  </tbody>\n",
       "</table>\n",
       "</div>"
      ],
      "text/plain": [
       "     User_Id              Location  Age\n",
       "297      298     Bogor, Jawa Barat   38\n",
       "298      299   Sragen, Jawa Tengah   27\n",
       "299      300  Ponorogo, Jawa Timur   26"
      ]
     },
     "metadata": {},
     "output_type": "display_data"
    },
    {
     "name": "stdout",
     "output_type": "stream",
     "text": [
      "\n",
      "Statistik Deskriptif Usia (Age) pada df_user:\n"
     ]
    },
    {
     "data": {
      "text/html": [
       "<div>\n",
       "<style scoped>\n",
       "    .dataframe tbody tr th:only-of-type {\n",
       "        vertical-align: middle;\n",
       "    }\n",
       "\n",
       "    .dataframe tbody tr th {\n",
       "        vertical-align: top;\n",
       "    }\n",
       "\n",
       "    .dataframe thead th {\n",
       "        text-align: right;\n",
       "    }\n",
       "</style>\n",
       "<table border=\"1\" class=\"dataframe\">\n",
       "  <thead>\n",
       "    <tr style=\"text-align: right;\">\n",
       "      <th></th>\n",
       "      <th>statistik_usia</th>\n",
       "    </tr>\n",
       "  </thead>\n",
       "  <tbody>\n",
       "    <tr>\n",
       "      <th>count</th>\n",
       "      <td>300.000000</td>\n",
       "    </tr>\n",
       "    <tr>\n",
       "      <th>mean</th>\n",
       "      <td>28.700000</td>\n",
       "    </tr>\n",
       "    <tr>\n",
       "      <th>std</th>\n",
       "      <td>6.393716</td>\n",
       "    </tr>\n",
       "    <tr>\n",
       "      <th>min</th>\n",
       "      <td>18.000000</td>\n",
       "    </tr>\n",
       "    <tr>\n",
       "      <th>25%</th>\n",
       "      <td>24.000000</td>\n",
       "    </tr>\n",
       "    <tr>\n",
       "      <th>50%</th>\n",
       "      <td>29.000000</td>\n",
       "    </tr>\n",
       "    <tr>\n",
       "      <th>75%</th>\n",
       "      <td>34.000000</td>\n",
       "    </tr>\n",
       "    <tr>\n",
       "      <th>max</th>\n",
       "      <td>40.000000</td>\n",
       "    </tr>\n",
       "  </tbody>\n",
       "</table>\n",
       "</div>"
      ],
      "text/plain": [
       "       statistik_usia\n",
       "count      300.000000\n",
       "mean        28.700000\n",
       "std          6.393716\n",
       "min         18.000000\n",
       "25%         24.000000\n",
       "50%         29.000000\n",
       "75%         34.000000\n",
       "max         40.000000"
      ]
     },
     "metadata": {},
     "output_type": "display_data"
    },
    {
     "name": "stdout",
     "output_type": "stream",
     "text": [
      "\n",
      "Cek nilai null di df_user:\n"
     ]
    },
    {
     "data": {
      "text/html": [
       "<div>\n",
       "<style scoped>\n",
       "    .dataframe tbody tr th:only-of-type {\n",
       "        vertical-align: middle;\n",
       "    }\n",
       "\n",
       "    .dataframe tbody tr th {\n",
       "        vertical-align: top;\n",
       "    }\n",
       "\n",
       "    .dataframe thead th {\n",
       "        text-align: right;\n",
       "    }\n",
       "</style>\n",
       "<table border=\"1\" class=\"dataframe\">\n",
       "  <thead>\n",
       "    <tr style=\"text-align: right;\">\n",
       "      <th></th>\n",
       "      <th>jumlah_null</th>\n",
       "    </tr>\n",
       "  </thead>\n",
       "  <tbody>\n",
       "    <tr>\n",
       "      <th>User_Id</th>\n",
       "      <td>0</td>\n",
       "    </tr>\n",
       "    <tr>\n",
       "      <th>Location</th>\n",
       "      <td>0</td>\n",
       "    </tr>\n",
       "    <tr>\n",
       "      <th>Age</th>\n",
       "      <td>0</td>\n",
       "    </tr>\n",
       "  </tbody>\n",
       "</table>\n",
       "</div>"
      ],
      "text/plain": [
       "          jumlah_null\n",
       "User_Id             0\n",
       "Location            0\n",
       "Age                 0"
      ]
     },
     "metadata": {},
     "output_type": "display_data"
    }
   ],
   "source": [
    "print(\"Info Detail Variabel (df_user):\")\n",
    "df_user.info()\n",
    "\n",
    "print(\"Contoh Data Awal (df_user):\")\n",
    "display(df_user.head(3))\n",
    "\n",
    "print(\"Contoh Data Akhir (df_user):\")\n",
    "display(df_user.tail(3))\n",
    "\n",
    "print(\"\\nStatistik Deskriptif Usia (Age) pada df_user:\")\n",
    "display(df_user['Age'].describe().to_frame(name='statistik_usia'))\n",
    "\n",
    "print(\"\\nCek nilai null di df_user:\")\n",
    "display(df_user.isnull().sum().to_frame(name='jumlah_null'))"
   ]
  },
  {
   "cell_type": "markdown",
   "id": "d76f3a31",
   "metadata": {},
   "source": [
    "## **Univariate Exploratory Data Analysis (EDA)**"
   ]
  },
  {
   "cell_type": "markdown",
   "id": "c8b4ec89",
   "metadata": {},
   "source": [
    "### Distribusi Sebaran Rating Pengguna"
   ]
  },
  {
   "cell_type": "code",
   "execution_count": 12,
   "id": "f1d44276",
   "metadata": {},
   "outputs": [
    {
     "data": {
      "text/html": [
       "<style type=\"text/css\">\n",
       "</style>\n",
       "<table id=\"T_b456c\">\n",
       "  <thead>\n",
       "    <tr>\n",
       "      <th id=\"T_b456c_level0_col0\" class=\"col_heading level0 col0\" >Rating</th>\n",
       "      <th id=\"T_b456c_level0_col1\" class=\"col_heading level0 col1\" >Jumlah</th>\n",
       "    </tr>\n",
       "  </thead>\n",
       "  <tbody>\n",
       "    <tr>\n",
       "      <td id=\"T_b456c_row0_col0\" class=\"data row0 col0\" >1</td>\n",
       "      <td id=\"T_b456c_row0_col1\" class=\"data row0 col1\" >1706</td>\n",
       "    </tr>\n",
       "    <tr>\n",
       "      <td id=\"T_b456c_row1_col0\" class=\"data row1 col0\" >2</td>\n",
       "      <td id=\"T_b456c_row1_col1\" class=\"data row1 col1\" >2071</td>\n",
       "    </tr>\n",
       "    <tr>\n",
       "      <td id=\"T_b456c_row2_col0\" class=\"data row2 col0\" >3</td>\n",
       "      <td id=\"T_b456c_row2_col1\" class=\"data row2 col1\" >2096</td>\n",
       "    </tr>\n",
       "    <tr>\n",
       "      <td id=\"T_b456c_row3_col0\" class=\"data row3 col0\" >4</td>\n",
       "      <td id=\"T_b456c_row3_col1\" class=\"data row3 col1\" >2106</td>\n",
       "    </tr>\n",
       "    <tr>\n",
       "      <td id=\"T_b456c_row4_col0\" class=\"data row4 col0\" >5</td>\n",
       "      <td id=\"T_b456c_row4_col1\" class=\"data row4 col1\" >2021</td>\n",
       "    </tr>\n",
       "  </tbody>\n",
       "</table>\n"
      ],
      "text/plain": [
       "<pandas.io.formats.style.Styler at 0x21fa8477d60>"
      ]
     },
     "metadata": {},
     "output_type": "display_data"
    },
    {
     "data": {
      "image/png": "[encoded data removed]",
      "text/plain": [
       "<Figure size 800x500 with 1 Axes>"
      ]
     },
     "metadata": {},
     "output_type": "display_data"
    },
    {
     "name": "stdout",
     "output_type": "stream",
     "text": [
      "Insight: Visualisasi menunjukkan rating yang paling sering diberikan oleh pengguna adalah 4.\n"
     ]
    }
   ],
   "source": [
    "most_frequent_rating = df_rating['Place_Ratings'].mode()[0]\n",
    "rating_counts = df_rating['Place_Ratings'].value_counts().reset_index()\n",
    "rating_counts.columns = ['Rating', 'Jumlah']\n",
    "display(rating_counts.sort_values(by='Rating').style.hide(axis=\"index\"))\n",
    "plt.figure(figsize=(8, 5))\n",
    "sns.countplot(x='Place_Ratings', data=df_rating, palette='viridis', order=sorted(df_rating['Place_Ratings'].unique()))\n",
    "plt.title('Distribusi Rating Pengguna (Keseluruhan Dataset)')\n",
    "plt.show()\n",
    "print(f\"Insight: Visualisasi menunjukkan rating yang paling sering diberikan oleh pengguna adalah {most_frequent_rating}.\")"
   ]
  },
  {
   "cell_type": "markdown",
   "id": "266026e9",
   "metadata": {},
   "source": [
    "### Distribusi Sebaran Destinasi Berdasarkan Kota"
   ]
  },
  {
   "cell_type": "code",
   "execution_count": 13,
   "id": "bd5bdad1",
   "metadata": {},
   "outputs": [
    {
     "data": {
      "text/html": [
       "<style type=\"text/css\">\n",
       "</style>\n",
       "<table id=\"T_98536\">\n",
       "  <thead>\n",
       "    <tr>\n",
       "      <th id=\"T_98536_level0_col0\" class=\"col_heading level0 col0\" >Kota</th>\n",
       "      <th id=\"T_98536_level0_col1\" class=\"col_heading level0 col1\" >Jumlah Tempat Wisata</th>\n",
       "    </tr>\n",
       "  </thead>\n",
       "  <tbody>\n",
       "    <tr>\n",
       "      <td id=\"T_98536_row0_col0\" class=\"data row0 col0\" >Yogyakarta</td>\n",
       "      <td id=\"T_98536_row0_col1\" class=\"data row0 col1\" >126</td>\n",
       "    </tr>\n",
       "    <tr>\n",
       "      <td id=\"T_98536_row1_col0\" class=\"data row1 col0\" >Bandung</td>\n",
       "      <td id=\"T_98536_row1_col1\" class=\"data row1 col1\" >124</td>\n",
       "    </tr>\n",
       "    <tr>\n",
       "      <td id=\"T_98536_row2_col0\" class=\"data row2 col0\" >Jakarta</td>\n",
       "      <td id=\"T_98536_row2_col1\" class=\"data row2 col1\" >84</td>\n",
       "    </tr>\n",
       "    <tr>\n",
       "      <td id=\"T_98536_row3_col0\" class=\"data row3 col0\" >Semarang</td>\n",
       "      <td id=\"T_98536_row3_col1\" class=\"data row3 col1\" >57</td>\n",
       "    </tr>\n",
       "    <tr>\n",
       "      <td id=\"T_98536_row4_col0\" class=\"data row4 col0\" >Surabaya</td>\n",
       "      <td id=\"T_98536_row4_col1\" class=\"data row4 col1\" >46</td>\n",
       "    </tr>\n",
       "  </tbody>\n",
       "</table>\n"
      ],
      "text/plain": [
       "<pandas.io.formats.style.Styler at 0x21fa8477e50>"
      ]
     },
     "metadata": {},
     "output_type": "display_data"
    },
    {
     "data": {
      "image/png": "[encoded data removed]",
      "text/plain": [
       "<Figure size 1000x500 with 1 Axes>"
      ]
     },
     "metadata": {},
     "output_type": "display_data"
    },
    {
     "name": "stdout",
     "output_type": "stream",
     "text": [
      "Insight: Berdasarkan data, 5 kota dengan destinasi wisata terbanyak adalah ['Yogyakarta', 'Bandung', 'Jakarta', 'Semarang', 'Surabaya']. Ini menegaskan bahwa fokus dataset adalah pada pusat-pusat pariwisata utama di Indonesia, dengan Yogyakarta memiliki jumlah terbanyak yaitu 126 destinasi.\n"
     ]
    }
   ],
   "source": [
    "top_cities = df_tourism['City'].value_counts().nlargest(5).reset_index()\n",
    "top_cities.columns = ['Kota', 'Jumlah Tempat Wisata']\n",
    "display(top_cities.style.hide(axis=\"index\"))\n",
    "plt.figure(figsize=(10, 5))\n",
    "sns.barplot(x='Kota', y='Jumlah Tempat Wisata', data=top_cities, palette='mako')\n",
    "plt.title('Top 5 Kota dengan Jumlah Tempat Wisata Terbanyak')\n",
    "plt.show()\n",
    "print(f\"Insight: Berdasarkan data, 5 kota dengan destinasi wisata terbanyak adalah {top_cities['Kota'].tolist()}. Ini menegaskan bahwa fokus dataset adalah pada pusat-pusat pariwisata utama di Indonesia, dengan {top_cities['Kota'].iloc[0]} memiliki jumlah terbanyak yaitu {top_cities['Jumlah Tempat Wisata'].iloc[0]} destinasi.\")\n"
   ]
  },
  {
   "cell_type": "markdown",
   "id": "8ffc9378",
   "metadata": {},
   "source": [
    "### Distribusi Sebaran Destinasi Berdasarkan Kategori"
   ]
  },
  {
   "cell_type": "code",
   "execution_count": 14,
   "id": "75446f68",
   "metadata": {},
   "outputs": [
    {
     "data": {
      "text/html": [
       "<style type=\"text/css\">\n",
       "</style>\n",
       "<table id=\"T_8a223\">\n",
       "  <thead>\n",
       "    <tr>\n",
       "      <th id=\"T_8a223_level0_col0\" class=\"col_heading level0 col0\" >Kategori</th>\n",
       "      <th id=\"T_8a223_level0_col1\" class=\"col_heading level0 col1\" >Jumlah Tempat Wisata</th>\n",
       "    </tr>\n",
       "  </thead>\n",
       "  <tbody>\n",
       "    <tr>\n",
       "      <td id=\"T_8a223_row0_col0\" class=\"data row0 col0\" >Taman Hiburan</td>\n",
       "      <td id=\"T_8a223_row0_col1\" class=\"data row0 col1\" >135</td>\n",
       "    </tr>\n",
       "    <tr>\n",
       "      <td id=\"T_8a223_row1_col0\" class=\"data row1 col0\" >Budaya</td>\n",
       "      <td id=\"T_8a223_row1_col1\" class=\"data row1 col1\" >117</td>\n",
       "    </tr>\n",
       "    <tr>\n",
       "      <td id=\"T_8a223_row2_col0\" class=\"data row2 col0\" >Cagar Alam</td>\n",
       "      <td id=\"T_8a223_row2_col1\" class=\"data row2 col1\" >106</td>\n",
       "    </tr>\n",
       "    <tr>\n",
       "      <td id=\"T_8a223_row3_col0\" class=\"data row3 col0\" >Bahari</td>\n",
       "      <td id=\"T_8a223_row3_col1\" class=\"data row3 col1\" >47</td>\n",
       "    </tr>\n",
       "    <tr>\n",
       "      <td id=\"T_8a223_row4_col0\" class=\"data row4 col0\" >Tempat Ibadah</td>\n",
       "      <td id=\"T_8a223_row4_col1\" class=\"data row4 col1\" >17</td>\n",
       "    </tr>\n",
       "  </tbody>\n",
       "</table>\n"
      ],
      "text/plain": [
       "<pandas.io.formats.style.Styler at 0x21ffe60c640>"
      ]
     },
     "metadata": {},
     "output_type": "display_data"
    },
    {
     "data": {
      "image/png": "[encoded data removed]",
      "text/plain": [
       "<Figure size 1000x500 with 1 Axes>"
      ]
     },
     "metadata": {},
     "output_type": "display_data"
    },
    {
     "name": "stdout",
     "output_type": "stream",
     "text": [
      "Insight: Kategori wisata paling populer di seluruh dataset adalah 'Taman Hiburan' dengan jumlah 135 tempat.\n"
     ]
    }
   ],
   "source": [
    "top_categories_all = df_tourism['Category'].value_counts().nlargest(5).reset_index()\n",
    "top_categories_all.columns = ['Kategori', 'Jumlah Tempat Wisata']\n",
    "display(top_categories_all.style.hide(axis=\"index\"))\n",
    "plt.figure(figsize=(10, 5))\n",
    "sns.barplot(x='Kategori', y='Jumlah Tempat Wisata', data=top_categories_all, palette='crest')\n",
    "plt.title('Top 5 Kategori Tempat Wisata (Keseluruhan Dataset)')\n",
    "plt.show()\n",
    "print(f\"Insight: Kategori wisata paling populer di seluruh dataset adalah '{top_categories_all['Kategori'].iloc[0]}' dengan jumlah {top_categories_all['Jumlah Tempat Wisata'].iloc[0]} tempat.\")\n"
   ]
  },
  {
   "cell_type": "markdown",
   "id": "3fee755c",
   "metadata": {},
   "source": [
    "### Distribusi Sebaran Usia Pengguna"
   ]
  },
  {
   "cell_type": "code",
   "execution_count": 15,
   "id": "4c4d91a5",
   "metadata": {},
   "outputs": [
    {
     "data": {
      "text/html": [
       "<style type=\"text/css\">\n",
       "</style>\n",
       "<table id=\"T_cab90\">\n",
       "  <thead>\n",
       "    <tr>\n",
       "      <th id=\"T_cab90_level0_col0\" class=\"col_heading level0 col0\" >Usia</th>\n",
       "      <th id=\"T_cab90_level0_col1\" class=\"col_heading level0 col1\" >Jumlah Pengguna</th>\n",
       "    </tr>\n",
       "  </thead>\n",
       "  <tbody>\n",
       "    <tr>\n",
       "      <td id=\"T_cab90_row0_col0\" class=\"data row0 col0\" >18</td>\n",
       "      <td id=\"T_cab90_row0_col1\" class=\"data row0 col1\" >15</td>\n",
       "    </tr>\n",
       "    <tr>\n",
       "      <td id=\"T_cab90_row1_col0\" class=\"data row1 col0\" >19</td>\n",
       "      <td id=\"T_cab90_row1_col1\" class=\"data row1 col1\" >12</td>\n",
       "    </tr>\n",
       "    <tr>\n",
       "      <td id=\"T_cab90_row2_col0\" class=\"data row2 col0\" >20</td>\n",
       "      <td id=\"T_cab90_row2_col1\" class=\"data row2 col1\" >16</td>\n",
       "    </tr>\n",
       "    <tr>\n",
       "      <td id=\"T_cab90_row3_col0\" class=\"data row3 col0\" >21</td>\n",
       "      <td id=\"T_cab90_row3_col1\" class=\"data row3 col1\" >13</td>\n",
       "    </tr>\n",
       "    <tr>\n",
       "      <td id=\"T_cab90_row4_col0\" class=\"data row4 col0\" >22</td>\n",
       "      <td id=\"T_cab90_row4_col1\" class=\"data row4 col1\" >7</td>\n",
       "    </tr>\n",
       "    <tr>\n",
       "      <td id=\"T_cab90_row5_col0\" class=\"data row5 col0\" >23</td>\n",
       "      <td id=\"T_cab90_row5_col1\" class=\"data row5 col1\" >11</td>\n",
       "    </tr>\n",
       "    <tr>\n",
       "      <td id=\"T_cab90_row6_col0\" class=\"data row6 col0\" >24</td>\n",
       "      <td id=\"T_cab90_row6_col1\" class=\"data row6 col1\" >13</td>\n",
       "    </tr>\n",
       "    <tr>\n",
       "      <td id=\"T_cab90_row7_col0\" class=\"data row7 col0\" >25</td>\n",
       "      <td id=\"T_cab90_row7_col1\" class=\"data row7 col1\" >15</td>\n",
       "    </tr>\n",
       "    <tr>\n",
       "      <td id=\"T_cab90_row8_col0\" class=\"data row8 col0\" >26</td>\n",
       "      <td id=\"T_cab90_row8_col1\" class=\"data row8 col1\" >9</td>\n",
       "    </tr>\n",
       "    <tr>\n",
       "      <td id=\"T_cab90_row9_col0\" class=\"data row9 col0\" >27</td>\n",
       "      <td id=\"T_cab90_row9_col1\" class=\"data row9 col1\" >17</td>\n",
       "    </tr>\n",
       "    <tr>\n",
       "      <td id=\"T_cab90_row10_col0\" class=\"data row10 col0\" >28</td>\n",
       "      <td id=\"T_cab90_row10_col1\" class=\"data row10 col1\" >16</td>\n",
       "    </tr>\n",
       "    <tr>\n",
       "      <td id=\"T_cab90_row11_col0\" class=\"data row11 col0\" >29</td>\n",
       "      <td id=\"T_cab90_row11_col1\" class=\"data row11 col1\" >17</td>\n",
       "    </tr>\n",
       "    <tr>\n",
       "      <td id=\"T_cab90_row12_col0\" class=\"data row12 col0\" >30</td>\n",
       "      <td id=\"T_cab90_row12_col1\" class=\"data row12 col1\" >21</td>\n",
       "    </tr>\n",
       "    <tr>\n",
       "      <td id=\"T_cab90_row13_col0\" class=\"data row13 col0\" >31</td>\n",
       "      <td id=\"T_cab90_row13_col1\" class=\"data row13 col1\" >14</td>\n",
       "    </tr>\n",
       "    <tr>\n",
       "      <td id=\"T_cab90_row14_col0\" class=\"data row14 col0\" >32</td>\n",
       "      <td id=\"T_cab90_row14_col1\" class=\"data row14 col1\" >14</td>\n",
       "    </tr>\n",
       "    <tr>\n",
       "      <td id=\"T_cab90_row15_col0\" class=\"data row15 col0\" >33</td>\n",
       "      <td id=\"T_cab90_row15_col1\" class=\"data row15 col1\" >12</td>\n",
       "    </tr>\n",
       "    <tr>\n",
       "      <td id=\"T_cab90_row16_col0\" class=\"data row16 col0\" >34</td>\n",
       "      <td id=\"T_cab90_row16_col1\" class=\"data row16 col1\" >14</td>\n",
       "    </tr>\n",
       "    <tr>\n",
       "      <td id=\"T_cab90_row17_col0\" class=\"data row17 col0\" >35</td>\n",
       "      <td id=\"T_cab90_row17_col1\" class=\"data row17 col1\" >9</td>\n",
       "    </tr>\n",
       "    <tr>\n",
       "      <td id=\"T_cab90_row18_col0\" class=\"data row18 col0\" >36</td>\n",
       "      <td id=\"T_cab90_row18_col1\" class=\"data row18 col1\" >6</td>\n",
       "    </tr>\n",
       "    <tr>\n",
       "      <td id=\"T_cab90_row19_col0\" class=\"data row19 col0\" >37</td>\n",
       "      <td id=\"T_cab90_row19_col1\" class=\"data row19 col1\" >13</td>\n",
       "    </tr>\n",
       "    <tr>\n",
       "      <td id=\"T_cab90_row20_col0\" class=\"data row20 col0\" >38</td>\n",
       "      <td id=\"T_cab90_row20_col1\" class=\"data row20 col1\" >16</td>\n",
       "    </tr>\n",
       "    <tr>\n",
       "      <td id=\"T_cab90_row21_col0\" class=\"data row21 col0\" >39</td>\n",
       "      <td id=\"T_cab90_row21_col1\" class=\"data row21 col1\" >13</td>\n",
       "    </tr>\n",
       "    <tr>\n",
       "      <td id=\"T_cab90_row22_col0\" class=\"data row22 col0\" >40</td>\n",
       "      <td id=\"T_cab90_row22_col1\" class=\"data row22 col1\" >7</td>\n",
       "    </tr>\n",
       "  </tbody>\n",
       "</table>\n"
      ],
      "text/plain": [
       "<pandas.io.formats.style.Styler at 0x21fa98996c0>"
      ]
     },
     "metadata": {},
     "output_type": "display_data"
    },
    {
     "data": {
      "image/png": "[encoded data removed]",
      "text/plain": [
       "<Figure size 1000x600 with 1 Axes>"
      ]
     },
     "metadata": {},
     "output_type": "display_data"
    },
    {
     "name": "stdout",
     "output_type": "stream",
     "text": [
      "Insight: Distribusi usia pengguna menunjukkan konsentrasi yang kuat antara usia 24 hingga 34 tahun, dengan median usia di sekitar 29 tahun.\n"
     ]
    }
   ],
   "source": [
    "age_counts = df_user['Age'].value_counts().reset_index()\n",
    "age_counts.columns = ['Usia', 'Jumlah Pengguna']\n",
    "display(age_counts.sort_values(by='Usia').style.hide(axis=\"index\"))\n",
    "age_stats = df_user['Age'].describe()\n",
    "age_median = int(age_stats['50%'])\n",
    "age_q1 = int(age_stats['25%'])\n",
    "age_q3 = int(age_stats['75%'])\n",
    "plt.figure(figsize=(10, 6))\n",
    "sns.histplot(data=df_user, x='Age', bins=20, kde=True, color='salmon')\n",
    "plt.title('Distribusi Usia Pengguna')\n",
    "plt.show()\n",
    "print(f\"Insight: Distribusi usia pengguna menunjukkan konsentrasi yang kuat antara usia {age_q1} hingga {age_q3} tahun, dengan median usia di sekitar {age_median} tahun.\")"
   ]
  },
  {
   "cell_type": "markdown",
   "id": "311b549a",
   "metadata": {},
   "source": [
    "## **Data Preprocessing**"
   ]
  },
  {
   "cell_type": "markdown",
   "id": "1377248c",
   "metadata": {},
   "source": [
    "### Pegecekan dam Penanganan Nilai Duplikat"
   ]
  },
  {
   "cell_type": "code",
   "execution_count": 16,
   "id": "37547ef3",
   "metadata": {},
   "outputs": [
    {
     "name": "stdout",
     "output_type": "stream",
     "text": [
      "df_tourism - Jumlah data awal: 437\n",
      "df_tourism - Jumlah data duplikat ditemukan: 0\n",
      "df_tourism - Jumlah data setelah hapus duplikat: 437\n",
      "\n",
      "df_rating - Jumlah data awal: 10000\n",
      "df_rating - Jumlah data duplikat ditemukan: 79\n",
      "df_rating - Jumlah data setelah hapus duplikat: 9921\n",
      "\n",
      "df_user - Jumlah data awal: 300\n",
      "df_user - Jumlah data duplikat ditemukan: 0\n",
      "df_user - Jumlah data setelah hapus duplikat: 300\n",
      "Penanganan duplikat selesai.\n"
     ]
    }
   ],
   "source": [
    "# Penanganan duplikat untuk df_tourism\n",
    "jumlah_data_awal_tourism = len(df_tourism)\n",
    "jumlah_duplikat_tourism = df_tourism.duplicated().sum()\n",
    "print(f\"df_tourism - Jumlah data awal: {jumlah_data_awal_tourism}\")\n",
    "print(f\"df_tourism - Jumlah data duplikat ditemukan: {jumlah_duplikat_tourism}\")\n",
    "df_tourism.drop_duplicates(inplace=True)\n",
    "print(f\"df_tourism - Jumlah data setelah hapus duplikat: {len(df_tourism)}\")\n",
    "\n",
    "# Penanganan duplikat untuk df_rating\n",
    "jumlah_data_awal_rating = len(df_rating)\n",
    "jumlah_duplikat_rating = df_rating.duplicated().sum()\n",
    "print(f\"\\ndf_rating - Jumlah data awal: {jumlah_data_awal_rating}\")\n",
    "print(f\"df_rating - Jumlah data duplikat ditemukan: {jumlah_duplikat_rating}\")\n",
    "df_rating.drop_duplicates(inplace=True)\n",
    "print(f\"df_rating - Jumlah data setelah hapus duplikat: {len(df_rating)}\")\n",
    "\n",
    "# Penanganan duplikat untuk df_user berdasarkan User_Id\n",
    "jumlah_data_awal_user = len(df_user)\n",
    "jumlah_duplikat_user_id = df_user.duplicated(subset=['User_Id']).sum()\n",
    "print(f\"\\ndf_user - Jumlah data awal: {jumlah_data_awal_user}\")\n",
    "print(f\"df_user - Jumlah data duplikat ditemukan: {jumlah_duplikat_user_id}\")\n",
    "df_user.drop_duplicates(subset=['User_Id'], inplace=True, keep='first')\n",
    "print(f\"df_user - Jumlah data setelah hapus duplikat: {len(df_user)}\")\n",
    "\n",
    "print(\"Penanganan duplikat selesai.\")"
   ]
  },
  {
   "cell_type": "markdown",
   "id": "2ed46c2d",
   "metadata": {},
   "source": [
    "## **Data Preparation**"
   ]
  },
  {
   "cell_type": "markdown",
   "id": "24c951bc",
   "metadata": {},
   "source": [
    "### Filtering Data untuk Yogyakarta"
   ]
  },
  {
   "cell_type": "code",
   "execution_count": 17,
   "id": "3620abd3",
   "metadata": {},
   "outputs": [
    {
     "name": "stdout",
     "output_type": "stream",
     "text": [
      "Jumlah destinasi di area Yogyakarta: 126\n"
     ]
    }
   ],
   "source": [
    "target_keyword = 'yogyakarta'\n",
    "df_tourism_yogya = df_tourism[df_tourism['City'].str.contains(target_keyword, case=False, na=False)].copy()\n",
    "if df_tourism_yogya.empty:\n",
    "    print(\"Tidak ada destinasi Yogyakarta ditemukan. Program berhenti.\")\n",
    "    exit()\n",
    "print(f\"Jumlah destinasi di area Yogyakarta: {len(df_tourism_yogya)}\")"
   ]
  },
  {
   "cell_type": "markdown",
   "id": "42b8ae82",
   "metadata": {},
   "source": [
    "### Membersihkan Data Rating Yogyakarta untuk Collaborative Filtering (CF)"
   ]
  },
  {
   "cell_type": "code",
   "execution_count": 18,
   "id": "0179fcc9",
   "metadata": {},
   "outputs": [
    {
     "name": "stdout",
     "output_type": "stream",
     "text": [
      "Jumlah rating Yogyakarta untuk CF setelah cleaning: 2848\n"
     ]
    }
   ],
   "source": [
    "place_ids_yogya = df_tourism_yogya['Place_Id'].unique()\n",
    "df_rating_yogya_cf = df_rating[df_rating['Place_Id'].isin(place_ids_yogya)].copy()\n",
    "df_rating_yogya_cf.dropna(subset=['Place_Ratings'], inplace=True)\n",
    "df_rating_yogya_cf['Place_Ratings'] = pd.to_numeric(df_rating_yogya_cf['Place_Ratings'], errors='coerce')\n",
    "df_rating_yogya_cf.dropna(subset=['Place_Ratings'], inplace=True)\n",
    "print(f\"Jumlah rating Yogyakarta untuk CF setelah cleaning: {len(df_rating_yogya_cf)}\")"
   ]
  },
  {
   "cell_type": "markdown",
   "id": "9eba6238",
   "metadata": {},
   "source": [
    "### Rekayasa Fitur untuk Content-Based Filtering (CBF)"
   ]
  },
  {
   "cell_type": "code",
   "execution_count": 19,
   "id": "46cdce55",
   "metadata": {},
   "outputs": [
    {
     "name": "stdout",
     "output_type": "stream",
     "text": [
      "Memproses teks menggunakan Sastrawi...\n",
      "Kolom 'content_features' untuk CBF telah dibuat.\n"
     ]
    },
    {
     "data": {
      "text/html": [
       "<div>\n",
       "<style scoped>\n",
       "    .dataframe tbody tr th:only-of-type {\n",
       "        vertical-align: middle;\n",
       "    }\n",
       "\n",
       "    .dataframe tbody tr th {\n",
       "        vertical-align: top;\n",
       "    }\n",
       "\n",
       "    .dataframe thead th {\n",
       "        text-align: right;\n",
       "    }\n",
       "</style>\n",
       "<table border=\"1\" class=\"dataframe\">\n",
       "  <thead>\n",
       "    <tr style=\"text-align: right;\">\n",
       "      <th></th>\n",
       "      <th>Place_Name</th>\n",
       "      <th>content_features</th>\n",
       "    </tr>\n",
       "  </thead>\n",
       "  <tbody>\n",
       "    <tr>\n",
       "      <th>84</th>\n",
       "      <td>Taman Pintar Yogyakarta</td>\n",
       "      <td>taman pintar yogyakarta taman hibur taman pint...</td>\n",
       "    </tr>\n",
       "    <tr>\n",
       "      <th>85</th>\n",
       "      <td>Keraton Yogyakarta</td>\n",
       "      <td>keraton yogyakarta budaya keraton ngayogyakart...</td>\n",
       "    </tr>\n",
       "  </tbody>\n",
       "</table>\n",
       "</div>"
      ],
      "text/plain": [
       "                 Place_Name                                   content_features\n",
       "84  Taman Pintar Yogyakarta  taman pintar yogyakarta taman hibur taman pint...\n",
       "85       Keraton Yogyakarta  keraton yogyakarta budaya keraton ngayogyakart..."
      ]
     },
     "metadata": {},
     "output_type": "display_data"
    }
   ],
   "source": [
    "df_tourism_yogya['Rating'] = pd.to_numeric(df_tourism_yogya['Rating'], errors='coerce').fillna(df_tourism_yogya['Rating'].median())\n",
    "print(\"Memproses teks menggunakan Sastrawi...\")\n",
    "stemmer = StemmerFactory().create_stemmer()\n",
    "stopword_remover = StopWordRemoverFactory().create_stop_word_remover()\n",
    "df_tourism_yogya['content_features'] = (df_tourism_yogya['Place_Name'].fillna('') + ' ' + \n",
    "                                        df_tourism_yogya['Category'].fillna('') + ' ' + \n",
    "                                        df_tourism_yogya['Description'].fillna('')).apply(lambda x: preprocess_text_sastrawi(x, stemmer, stopword_remover))\n",
    "print(\"Kolom 'content_features' untuk CBF telah dibuat.\")\n",
    "display(df_tourism_yogya[['Place_Name', 'content_features']].head(2))"
   ]
  },
  {
   "cell_type": "markdown",
   "id": "b95b026e",
   "metadata": {},
   "source": [
    "## **Model Development Dengan Content Based Filtering (CBF)**"
   ]
  },
  {
   "cell_type": "markdown",
   "id": "6efecf52",
   "metadata": {},
   "source": [
    "### Perhitungan TF-IDF dan Cosine Similarity"
   ]
  },
  {
   "cell_type": "code",
   "execution_count": 20,
   "id": "01b8aab4",
   "metadata": {},
   "outputs": [
    {
     "name": "stdout",
     "output_type": "stream",
     "text": [
      "[CBF] Matriks TF-IDF berhasil dibuat dengan dimensi: (126, 2151)\n"
     ]
    }
   ],
   "source": [
    "tfidf_vectorizer = TfidfVectorizer(min_df=1) \n",
    "tfidf_matrix_cbf = tfidf_vectorizer.fit_transform(df_tourism_yogya['content_features'])\n",
    "cosine_sim_cbf = cosine_similarity(tfidf_matrix_cbf)\n",
    "results['CBF_tfidf_matrix_shape'] = tfidf_matrix_cbf.shape\n",
    "print(f\"[CBF] Matriks TF-IDF berhasil dibuat dengan dimensi: {results['CBF_tfidf_matrix_shape']}\")\n",
    "MODEL_CBF_SUCCESS = True"
   ]
  },
  {
   "cell_type": "markdown",
   "id": "dc3dfc62",
   "metadata": {},
   "source": [
    "### Visualisasi Matriks Kesamaan (Cosine Similarity)"
   ]
  },
  {
   "cell_type": "code",
   "execution_count": 21,
   "id": "500b9d53",
   "metadata": {},
   "outputs": [
    {
     "data": {
      "image/png": "[encoded data removed]",
      "text/plain": [
       "<Figure size 1200x1000 with 2 Axes>"
      ]
     },
     "metadata": {},
     "output_type": "display_data"
    }
   ],
   "source": [
    "sample_size = 20\n",
    "df_tourism_yogya_cbf_display = df_tourism_yogya.reset_index(drop=True)\n",
    "sample_indices = df_tourism_yogya_cbf_display.head(sample_size).index\n",
    "sample_cosine_sim = cosine_sim_cbf[sample_indices, :][:, sample_indices]\n",
    "sample_place_names = df_tourism_yogya_cbf_display.head(sample_size)['Place_Name']\n",
    "plt.figure(figsize=(12, 10))\n",
    "sns.heatmap(sample_cosine_sim, annot=False, cmap='YlGnBu', xticklabels=sample_place_names, yticklabels=sample_place_names)\n",
    "plt.title('Heatmap Cosine Similarity (Sampel 20 Tempat Pertama)')\n",
    "plt.xticks(rotation=90, size=8); plt.yticks(size=8)\n",
    "plt.show()"
   ]
  },
  {
   "cell_type": "markdown",
   "id": "d78ff361",
   "metadata": {},
   "source": [
    "### Uji Coba Model CBF"
   ]
  },
  {
   "cell_type": "code",
   "execution_count": 22,
   "id": "764ea1fe",
   "metadata": {},
   "outputs": [
    {
     "name": "stdout",
     "output_type": "stream",
     "text": [
      "[CBF] Contoh Top-5 Rekomendasi berdasarkan kemiripan dengan 'Taman Pintar Yogyakarta':\n"
     ]
    },
    {
     "data": {
      "text/html": [
       "<style type=\"text/css\">\n",
       "</style>\n",
       "<table id=\"T_3d504\">\n",
       "  <thead>\n",
       "    <tr>\n",
       "      <th id=\"T_3d504_level0_col0\" class=\"col_heading level0 col0\" >Place_Id</th>\n",
       "      <th id=\"T_3d504_level0_col1\" class=\"col_heading level0 col1\" >Place_Name</th>\n",
       "      <th id=\"T_3d504_level0_col2\" class=\"col_heading level0 col2\" >Category</th>\n",
       "      <th id=\"T_3d504_level0_col3\" class=\"col_heading level0 col3\" >Rating</th>\n",
       "      <th id=\"T_3d504_level0_col4\" class=\"col_heading level0 col4\" >similarity_score</th>\n",
       "    </tr>\n",
       "  </thead>\n",
       "  <tbody>\n",
       "    <tr>\n",
       "      <td id=\"T_3d504_row0_col0\" class=\"data row0 col0\" >206</td>\n",
       "      <td id=\"T_3d504_row0_col1\" class=\"data row0 col1\" >Wisata Kaliurang</td>\n",
       "      <td id=\"T_3d504_row0_col2\" class=\"data row0 col2\" >Cagar Alam</td>\n",
       "      <td id=\"T_3d504_row0_col3\" class=\"data row0 col3\" >4.400000</td>\n",
       "      <td id=\"T_3d504_row0_col4\" class=\"data row0 col4\" >0.192158</td>\n",
       "    </tr>\n",
       "    <tr>\n",
       "      <td id=\"T_3d504_row1_col0\" class=\"data row1 col0\" >98</td>\n",
       "      <td id=\"T_3d504_row1_col1\" class=\"data row1 col1\" >Taman Pelangi Yogyakarta</td>\n",
       "      <td id=\"T_3d504_row1_col2\" class=\"data row1 col2\" >Taman Hiburan</td>\n",
       "      <td id=\"T_3d504_row1_col3\" class=\"data row1 col3\" >4.300000</td>\n",
       "      <td id=\"T_3d504_row1_col4\" class=\"data row1 col4\" >0.148100</td>\n",
       "    </tr>\n",
       "    <tr>\n",
       "      <td id=\"T_3d504_row2_col0\" class=\"data row2 col0\" >90</td>\n",
       "      <td id=\"T_3d504_row2_col1\" class=\"data row2 col1\" >Kampung Wisata Taman Sari</td>\n",
       "      <td id=\"T_3d504_row2_col2\" class=\"data row2 col2\" >Taman Hiburan</td>\n",
       "      <td id=\"T_3d504_row2_col3\" class=\"data row2 col3\" >4.600000</td>\n",
       "      <td id=\"T_3d504_row2_col4\" class=\"data row2 col4\" >0.147447</td>\n",
       "    </tr>\n",
       "    <tr>\n",
       "      <td id=\"T_3d504_row3_col0\" class=\"data row3 col0\" >203</td>\n",
       "      <td id=\"T_3d504_row3_col1\" class=\"data row3 col1\" >Galaxy Waterpark Jogja</td>\n",
       "      <td id=\"T_3d504_row3_col2\" class=\"data row3 col2\" >Taman Hiburan</td>\n",
       "      <td id=\"T_3d504_row3_col3\" class=\"data row3 col3\" >4.300000</td>\n",
       "      <td id=\"T_3d504_row3_col4\" class=\"data row3 col4\" >0.147205</td>\n",
       "    </tr>\n",
       "    <tr>\n",
       "      <td id=\"T_3d504_row4_col0\" class=\"data row4 col0\" >100</td>\n",
       "      <td id=\"T_3d504_row4_col1\" class=\"data row4 col1\" >Taman Budaya Yogyakarta</td>\n",
       "      <td id=\"T_3d504_row4_col2\" class=\"data row4 col2\" >Budaya</td>\n",
       "      <td id=\"T_3d504_row4_col3\" class=\"data row4 col3\" >4.500000</td>\n",
       "      <td id=\"T_3d504_row4_col4\" class=\"data row4 col4\" >0.140009</td>\n",
       "    </tr>\n",
       "  </tbody>\n",
       "</table>\n"
      ],
      "text/plain": [
       "<pandas.io.formats.style.Styler at 0x21fa8437640>"
      ]
     },
     "metadata": {},
     "output_type": "display_data"
    }
   ],
   "source": [
    "placeid_to_idx_map_cbf = pd.Series(df_tourism_yogya_cbf_display.index, index=df_tourism_yogya_cbf_display['Place_Id'])\n",
    "sample_place_id_cbf = df_tourism_yogya_cbf_display['Place_Id'].iloc[0]\n",
    "sample_place_name_cbf = df_tourism_yogya_cbf_display.loc[df_tourism_yogya_cbf_display['Place_Id'] == sample_place_id_cbf, 'Place_Name'].iloc[0]\n",
    "results['CBF_sample_place_name'] = sample_place_name_cbf\n",
    "print(f\"[CBF] Contoh Top-5 Rekomendasi berdasarkan kemiripan dengan '{sample_place_name_cbf}':\")\n",
    "top_5_recs_cbf = get_content_based_recommendations(sample_place_id_cbf, cosine_sim_matrix_param=cosine_sim_cbf, tourism_df_param=df_tourism_yogya_cbf_display, id_to_idx_map_param=placeid_to_idx_map_cbf)\n",
    "results['CBF_example_recommendations'] = top_5_recs_cbf\n",
    "display(top_5_recs_cbf.style.hide(axis=\"index\"))"
   ]
  },
  {
   "cell_type": "markdown",
   "id": "03d1e7a9",
   "metadata": {},
   "source": [
    "## **Model Development Dengan Collaborative Filtering (CF)**"
   ]
  },
  {
   "cell_type": "markdown",
   "id": "6bfe0fd1",
   "metadata": {},
   "source": [
    "### Persiapan Data untuk Model CF"
   ]
  },
  {
   "cell_type": "code",
   "execution_count": 23,
   "id": "426c5555",
   "metadata": {},
   "outputs": [
    {
     "name": "stdout",
     "output_type": "stream",
     "text": [
      "Memulai persiapan data: Encoding User_Id dan Place_Id, normalisasi rating, dan split data...\n",
      "Persiapan Data CF Selesai.\n",
      "Pembagian Data:\n",
      "Data Train   : 2278\n",
      "Data Validasi: 570\n"
     ]
    }
   ],
   "source": [
    "# Cek apakah data rating Yogyakarta ada untuk memulai\n",
    "if not df_rating_yogya_cf.empty and df_rating_yogya_cf['User_Id'].nunique() > 1 and df_rating_yogya_cf['Place_Id'].nunique() > 1:\n",
    "    print(\"Memulai persiapan data: Encoding User_Id dan Place_Id, normalisasi rating, dan split data...\")\n",
    "    \n",
    "    # Encoding User_Id dan Place_Id\n",
    "    user_ids_cf = df_rating_yogya_cf['User_Id'].unique().tolist()\n",
    "    user_to_user_encoded_cf = {x: i for i, x in enumerate(user_ids_cf)}\n",
    "    user_encoded_to_user_cf = {i: x for i, x in enumerate(user_ids_cf)}\n",
    "    df_rating_yogya_cf['user_encoded'] = df_rating_yogya_cf['User_Id'].map(user_to_user_encoded_cf)\n",
    "\n",
    "    place_ids_cf_model = df_rating_yogya_cf['Place_Id'].unique().tolist()\n",
    "    place_to_place_encoded_cf = {x: i for i, x in enumerate(place_ids_cf_model)}\n",
    "    place_encoded_to_place_cf = {i: x for i, x in enumerate(place_ids_cf_model)}\n",
    "    df_rating_yogya_cf['place_encoded'] = df_rating_yogya_cf['Place_Id'].map(place_to_place_encoded_cf)\n",
    "\n",
    "    num_users_cf = len(user_to_user_encoded_cf)\n",
    "    num_places_cf_model = len(place_to_place_encoded_cf)\n",
    "    \n",
    "    # Normalisasi rating\n",
    "    min_rating_cf = df_rating_yogya_cf['Place_Ratings'].min()\n",
    "    max_rating_cf = df_rating_yogya_cf['Place_Ratings'].max()\n",
    "    if max_rating_cf > min_rating_cf:\n",
    "        df_rating_yogya_cf['rating_normalized'] = df_rating_yogya_cf['Place_Ratings'].apply(lambda x: (x - min_rating_cf) / (max_rating_cf - min_rating_cf)).values\n",
    "    else:\n",
    "        df_rating_yogya_cf['rating_normalized'] = 0.5\n",
    "    \n",
    "    # Mengacak dan membagi data\n",
    "    df_cf_shuffled = df_rating_yogya_cf.sample(frac=1, random_state=42)\n",
    "    x_cf = df_cf_shuffled[['user_encoded', 'place_encoded']].values\n",
    "    y_cf = df_cf_shuffled['rating_normalized'].values\n",
    "    \n",
    "    train_indices_cf = int(0.8 * df_cf_shuffled.shape[0])\n",
    "    x_train_cf, x_val_cf, y_train_cf, y_val_cf = (\n",
    "        x_cf[:train_indices_cf],\n",
    "        x_cf[train_indices_cf:],\n",
    "        y_cf[:train_indices_cf],\n",
    "        y_cf[train_indices_cf:]\n",
    "    )\n",
    "    \n",
    "    validation_data_keras = (x_val_cf, y_val_cf)\n",
    "    print(\"Persiapan Data CF Selesai.\")\n",
    "    print(\"Pembagian Data:\")\n",
    "    print(f\"Data Train   : {len(x_train_cf)}\")\n",
    "    print(f\"Data Validasi: {len(x_val_cf)}\")\n",
    "    MODEL_CF_PREPARED = True\n",
    "else:\n",
    "    print(\"Data rating Yogyakarta tidak cukup untuk memulai Collaborative Filtering.\")\n",
    "    MODEL_CF_PREPARED = False"
   ]
  },
  {
   "cell_type": "markdown",
   "id": "29bfd1dd",
   "metadata": {},
   "source": [
    "### Training Model CF"
   ]
  },
  {
   "cell_type": "code",
   "execution_count": 24,
   "id": "38947b5f",
   "metadata": {},
   "outputs": [
    {
     "name": "stdout",
     "output_type": "stream",
     "text": [
      "Melatih model Keras RecommenderNet...\n",
      "Epoch 1/100\n",
      "\u001b[1m36/36\u001b[0m \u001b[32m━━━━━━━━━━━━━━━━━━━━\u001b[0m\u001b[37m\u001b[0m \u001b[1m2s\u001b[0m 13ms/step - loss: 0.7390 - root_mean_squared_error: 0.3778 - val_loss: 0.7194 - val_root_mean_squared_error: 0.3637\n",
      "Epoch 2/100\n",
      "\u001b[1m36/36\u001b[0m \u001b[32m━━━━━━━━━━━━━━━━━━━━\u001b[0m\u001b[37m\u001b[0m \u001b[1m0s\u001b[0m 8ms/step - loss: 0.7288 - root_mean_squared_error: 0.3717 - val_loss: 0.7192 - val_root_mean_squared_error: 0.3636\n",
      "Epoch 3/100\n",
      "\u001b[1m36/36\u001b[0m \u001b[32m━━━━━━━━━━━━━━━━━━━━\u001b[0m\u001b[37m\u001b[0m \u001b[1m0s\u001b[0m 6ms/step - loss: 0.7158 - root_mean_squared_error: 0.3646 - val_loss: 0.7182 - val_root_mean_squared_error: 0.3630\n",
      "Epoch 4/100\n",
      "\u001b[1m36/36\u001b[0m \u001b[32m━━━━━━━━━━━━━━━━━━━━\u001b[0m\u001b[37m\u001b[0m \u001b[1m0s\u001b[0m 8ms/step - loss: 0.7292 - root_mean_squared_error: 0.3707 - val_loss: 0.7143 - val_root_mean_squared_error: 0.3605\n",
      "Epoch 5/100\n",
      "\u001b[1m36/36\u001b[0m \u001b[32m━━━━━━━━━━━━━━━━━━━━\u001b[0m\u001b[37m\u001b[0m \u001b[1m0s\u001b[0m 6ms/step - loss: 0.7510 - root_mean_squared_error: 0.3807 - val_loss: 0.7110 - val_root_mean_squared_error: 0.3582\n",
      "Epoch 6/100\n",
      "\u001b[1m36/36\u001b[0m \u001b[32m━━━━━━━━━━━━━━━━━━━━\u001b[0m\u001b[37m\u001b[0m \u001b[1m0s\u001b[0m 5ms/step - loss: 0.7165 - root_mean_squared_error: 0.3637 - val_loss: 0.7162 - val_root_mean_squared_error: 0.3616\n",
      "Epoch 7/100\n",
      "\u001b[1m36/36\u001b[0m \u001b[32m━━━━━━━━━━━━━━━━━━━━\u001b[0m\u001b[37m\u001b[0m \u001b[1m0s\u001b[0m 6ms/step - loss: 0.7409 - root_mean_squared_error: 0.3788 - val_loss: 0.7167 - val_root_mean_squared_error: 0.3620\n",
      "Epoch 8/100\n",
      "\u001b[1m36/36\u001b[0m \u001b[32m━━━━━━━━━━━━━━━━━━━━\u001b[0m\u001b[37m\u001b[0m \u001b[1m0s\u001b[0m 5ms/step - loss: 0.7191 - root_mean_squared_error: 0.3679 - val_loss: 0.7178 - val_root_mean_squared_error: 0.3627\n",
      "Epoch 9/100\n",
      "\u001b[1m36/36\u001b[0m \u001b[32m━━━━━━━━━━━━━━━━━━━━\u001b[0m\u001b[37m\u001b[0m \u001b[1m0s\u001b[0m 5ms/step - loss: 0.7070 - root_mean_squared_error: 0.3588 - val_loss: 0.7197 - val_root_mean_squared_error: 0.3639\n",
      "Epoch 10/100\n",
      "\u001b[1m36/36\u001b[0m \u001b[32m━━━━━━━━━━━━━━━━━━━━\u001b[0m\u001b[37m\u001b[0m \u001b[1m0s\u001b[0m 6ms/step - loss: 0.7223 - root_mean_squared_error: 0.3708 - val_loss: 0.7204 - val_root_mean_squared_error: 0.3644\n",
      "Epoch 11/100\n",
      "\u001b[1m36/36\u001b[0m \u001b[32m━━━━━━━━━━━━━━━━━━━━\u001b[0m\u001b[37m\u001b[0m \u001b[1m0s\u001b[0m 6ms/step - loss: 0.7351 - root_mean_squared_error: 0.3750 - val_loss: 0.7207 - val_root_mean_squared_error: 0.3645\n",
      "Epoch 12/100\n",
      "\u001b[1m36/36\u001b[0m \u001b[32m━━━━━━━━━━━━━━━━━━━━\u001b[0m\u001b[37m\u001b[0m \u001b[1m0s\u001b[0m 6ms/step - loss: 0.7232 - root_mean_squared_error: 0.3676 - val_loss: 0.7234 - val_root_mean_squared_error: 0.3662\n",
      "Epoch 13/100\n",
      "\u001b[1m36/36\u001b[0m \u001b[32m━━━━━━━━━━━━━━━━━━━━\u001b[0m\u001b[37m\u001b[0m \u001b[1m0s\u001b[0m 5ms/step - loss: 0.7376 - root_mean_squared_error: 0.3781 - val_loss: 0.7210 - val_root_mean_squared_error: 0.3646\n",
      "Epoch 14/100\n",
      "\u001b[1m36/36\u001b[0m \u001b[32m━━━━━━━━━━━━━━━━━━━━\u001b[0m\u001b[37m\u001b[0m \u001b[1m0s\u001b[0m 6ms/step - loss: 0.7025 - root_mean_squared_error: 0.3557 - val_loss: 0.7180 - val_root_mean_squared_error: 0.3628\n",
      "Epoch 15/100\n",
      "\u001b[1m36/36\u001b[0m \u001b[32m━━━━━━━━━━━━━━━━━━━━\u001b[0m\u001b[37m\u001b[0m \u001b[1m0s\u001b[0m 7ms/step - loss: 0.7213 - root_mean_squared_error: 0.3681 - val_loss: 0.7175 - val_root_mean_squared_error: 0.3625\n",
      "Epoch 16/100\n",
      "\u001b[1m36/36\u001b[0m \u001b[32m━━━━━━━━━━━━━━━━━━━━\u001b[0m\u001b[37m\u001b[0m \u001b[1m0s\u001b[0m 5ms/step - loss: 0.7414 - root_mean_squared_error: 0.3802 - val_loss: 0.7168 - val_root_mean_squared_error: 0.3621\n",
      "Epoch 17/100\n",
      "\u001b[1m36/36\u001b[0m \u001b[32m━━━━━━━━━━━━━━━━━━━━\u001b[0m\u001b[37m\u001b[0m \u001b[1m0s\u001b[0m 5ms/step - loss: 0.7285 - root_mean_squared_error: 0.3731 - val_loss: 0.7178 - val_root_mean_squared_error: 0.3626\n",
      "Epoch 18/100\n",
      "\u001b[1m36/36\u001b[0m \u001b[32m━━━━━━━━━━━━━━━━━━━━\u001b[0m\u001b[37m\u001b[0m \u001b[1m0s\u001b[0m 7ms/step - loss: 0.7345 - root_mean_squared_error: 0.3712 - val_loss: 0.7209 - val_root_mean_squared_error: 0.3645\n",
      "Epoch 19/100\n",
      "\u001b[1m36/36\u001b[0m \u001b[32m━━━━━━━━━━━━━━━━━━━━\u001b[0m\u001b[37m\u001b[0m \u001b[1m0s\u001b[0m 5ms/step - loss: 0.7121 - root_mean_squared_error: 0.3602 - val_loss: 0.7239 - val_root_mean_squared_error: 0.3665\n",
      "Epoch 20/100\n",
      "\u001b[1m36/36\u001b[0m \u001b[32m━━━━━━━━━━━━━━━━━━━━\u001b[0m\u001b[37m\u001b[0m \u001b[1m0s\u001b[0m 5ms/step - loss: 0.7064 - root_mean_squared_error: 0.3606 - val_loss: 0.7248 - val_root_mean_squared_error: 0.3670\n",
      "Epoch 21/100\n",
      "\u001b[1m36/36\u001b[0m \u001b[32m━━━━━━━━━━━━━━━━━━━━\u001b[0m\u001b[37m\u001b[0m \u001b[1m0s\u001b[0m 4ms/step - loss: 0.6933 - root_mean_squared_error: 0.3468 - val_loss: 0.7238 - val_root_mean_squared_error: 0.3664\n",
      "Epoch 22/100\n",
      "\u001b[1m36/36\u001b[0m \u001b[32m━━━━━━━━━━━━━━━━━━━━\u001b[0m\u001b[37m\u001b[0m \u001b[1m0s\u001b[0m 6ms/step - loss: 0.7342 - root_mean_squared_error: 0.3745 - val_loss: 0.7212 - val_root_mean_squared_error: 0.3649\n",
      "Epoch 23/100\n",
      "\u001b[1m36/36\u001b[0m \u001b[32m━━━━━━━━━━━━━━━━━━━━\u001b[0m\u001b[37m\u001b[0m \u001b[1m0s\u001b[0m 6ms/step - loss: 0.7015 - root_mean_squared_error: 0.3528 - val_loss: 0.7229 - val_root_mean_squared_error: 0.3659\n",
      "Epoch 24/100\n",
      "\u001b[1m36/36\u001b[0m \u001b[32m━━━━━━━━━━━━━━━━━━━━\u001b[0m\u001b[37m\u001b[0m \u001b[1m0s\u001b[0m 5ms/step - loss: 0.7069 - root_mean_squared_error: 0.3543 - val_loss: 0.7230 - val_root_mean_squared_error: 0.3659\n",
      "Epoch 25/100\n",
      "\u001b[1m36/36\u001b[0m \u001b[32m━━━━━━━━━━━━━━━━━━━━\u001b[0m\u001b[37m\u001b[0m \u001b[1m0s\u001b[0m 6ms/step - loss: 0.7097 - root_mean_squared_error: 0.3594 - val_loss: 0.7221 - val_root_mean_squared_error: 0.3654\n",
      "Epoch 26/100\n",
      "\u001b[1m36/36\u001b[0m \u001b[32m━━━━━━━━━━━━━━━━━━━━\u001b[0m\u001b[37m\u001b[0m \u001b[1m0s\u001b[0m 6ms/step - loss: 0.7104 - root_mean_squared_error: 0.3647 - val_loss: 0.7217 - val_root_mean_squared_error: 0.3651\n",
      "Epoch 27/100\n",
      "\u001b[1m36/36\u001b[0m \u001b[32m━━━━━━━━━━━━━━━━━━━━\u001b[0m\u001b[37m\u001b[0m \u001b[1m0s\u001b[0m 6ms/step - loss: 0.6990 - root_mean_squared_error: 0.3525 - val_loss: 0.7193 - val_root_mean_squared_error: 0.3636\n",
      "Epoch 28/100\n",
      "\u001b[1m36/36\u001b[0m \u001b[32m━━━━━━━━━━━━━━━━━━━━\u001b[0m\u001b[37m\u001b[0m \u001b[1m0s\u001b[0m 6ms/step - loss: 0.6969 - root_mean_squared_error: 0.3542 - val_loss: 0.7167 - val_root_mean_squared_error: 0.3620\n",
      "Epoch 29/100\n",
      "\u001b[1m36/36\u001b[0m \u001b[32m━━━━━━━━━━━━━━━━━━━━\u001b[0m\u001b[37m\u001b[0m \u001b[1m0s\u001b[0m 7ms/step - loss: 0.6865 - root_mean_squared_error: 0.3455 - val_loss: 0.7161 - val_root_mean_squared_error: 0.3616\n",
      "Epoch 30/100\n",
      "\u001b[1m36/36\u001b[0m \u001b[32m━━━━━━━━━━━━━━━━━━━━\u001b[0m\u001b[37m\u001b[0m \u001b[1m0s\u001b[0m 6ms/step - loss: 0.7126 - root_mean_squared_error: 0.3639 - val_loss: 0.7178 - val_root_mean_squared_error: 0.3626\n",
      "Epoch 31/100\n",
      "\u001b[1m36/36\u001b[0m \u001b[32m━━━━━━━━━━━━━━━━━━━━\u001b[0m\u001b[37m\u001b[0m \u001b[1m0s\u001b[0m 6ms/step - loss: 0.6922 - root_mean_squared_error: 0.3529 - val_loss: 0.7189 - val_root_mean_squared_error: 0.3633\n",
      "Epoch 32/100\n",
      "\u001b[1m36/36\u001b[0m \u001b[32m━━━━━━━━━━━━━━━━━━━━\u001b[0m\u001b[37m\u001b[0m \u001b[1m0s\u001b[0m 5ms/step - loss: 0.6798 - root_mean_squared_error: 0.3444 - val_loss: 0.7179 - val_root_mean_squared_error: 0.3627\n",
      "Epoch 33/100\n",
      "\u001b[1m36/36\u001b[0m \u001b[32m━━━━━━━━━━━━━━━━━━━━\u001b[0m\u001b[37m\u001b[0m \u001b[1m0s\u001b[0m 6ms/step - loss: 0.6835 - root_mean_squared_error: 0.3440 - val_loss: 0.7183 - val_root_mean_squared_error: 0.3629\n",
      "Epoch 34/100\n",
      "\u001b[1m36/36\u001b[0m \u001b[32m━━━━━━━━━━━━━━━━━━━━\u001b[0m\u001b[37m\u001b[0m \u001b[1m0s\u001b[0m 5ms/step - loss: 0.6906 - root_mean_squared_error: 0.3478 - val_loss: 0.7206 - val_root_mean_squared_error: 0.3644\n",
      "Epoch 35/100\n",
      "\u001b[1m36/36\u001b[0m \u001b[32m━━━━━━━━━━━━━━━━━━━━\u001b[0m\u001b[37m\u001b[0m \u001b[1m0s\u001b[0m 5ms/step - loss: 0.6894 - root_mean_squared_error: 0.3514 - val_loss: 0.7219 - val_root_mean_squared_error: 0.3651\n",
      "Epoch 36/100\n",
      "\u001b[1m36/36\u001b[0m \u001b[32m━━━━━━━━━━━━━━━━━━━━\u001b[0m\u001b[37m\u001b[0m \u001b[1m0s\u001b[0m 5ms/step - loss: 0.6992 - root_mean_squared_error: 0.3577 - val_loss: 0.7190 - val_root_mean_squared_error: 0.3632\n",
      "Epoch 37/100\n",
      "\u001b[1m36/36\u001b[0m \u001b[32m━━━━━━━━━━━━━━━━━━━━\u001b[0m\u001b[37m\u001b[0m \u001b[1m0s\u001b[0m 5ms/step - loss: 0.6908 - root_mean_squared_error: 0.3467 - val_loss: 0.7203 - val_root_mean_squared_error: 0.3639\n",
      "Epoch 38/100\n",
      "\u001b[1m36/36\u001b[0m \u001b[32m━━━━━━━━━━━━━━━━━━━━\u001b[0m\u001b[37m\u001b[0m \u001b[1m0s\u001b[0m 6ms/step - loss: 0.6997 - root_mean_squared_error: 0.3515 - val_loss: 0.7203 - val_root_mean_squared_error: 0.3639\n",
      "Epoch 39/100\n",
      "\u001b[1m36/36\u001b[0m \u001b[32m━━━━━━━━━━━━━━━━━━━━\u001b[0m\u001b[37m\u001b[0m \u001b[1m0s\u001b[0m 5ms/step - loss: 0.6943 - root_mean_squared_error: 0.3508 - val_loss: 0.7221 - val_root_mean_squared_error: 0.3651\n",
      "Epoch 40/100\n",
      "\u001b[1m36/36\u001b[0m \u001b[32m━━━━━━━━━━━━━━━━━━━━\u001b[0m\u001b[37m\u001b[0m \u001b[1m0s\u001b[0m 6ms/step - loss: 0.6903 - root_mean_squared_error: 0.3425 - val_loss: 0.7236 - val_root_mean_squared_error: 0.3659\n",
      "Epoch 41/100\n",
      "\u001b[1m36/36\u001b[0m \u001b[32m━━━━━━━━━━━━━━━━━━━━\u001b[0m\u001b[37m\u001b[0m \u001b[1m0s\u001b[0m 6ms/step - loss: 0.6817 - root_mean_squared_error: 0.3425 - val_loss: 0.7219 - val_root_mean_squared_error: 0.3648\n",
      "Epoch 42/100\n",
      "\u001b[1m36/36\u001b[0m \u001b[32m━━━━━━━━━━━━━━━━━━━━\u001b[0m\u001b[37m\u001b[0m \u001b[1m0s\u001b[0m 6ms/step - loss: 0.6874 - root_mean_squared_error: 0.3402 - val_loss: 0.7205 - val_root_mean_squared_error: 0.3637\n",
      "Epoch 43/100\n",
      "\u001b[1m36/36\u001b[0m \u001b[32m━━━━━━━━━━━━━━━━━━━━\u001b[0m\u001b[37m\u001b[0m \u001b[1m0s\u001b[0m 6ms/step - loss: 0.6777 - root_mean_squared_error: 0.3396 - val_loss: 0.7234 - val_root_mean_squared_error: 0.3654\n",
      "Epoch 44/100\n",
      "\u001b[1m36/36\u001b[0m \u001b[32m━━━━━━━━━━━━━━━━━━━━\u001b[0m\u001b[37m\u001b[0m \u001b[1m0s\u001b[0m 6ms/step - loss: 0.6862 - root_mean_squared_error: 0.3404 - val_loss: 0.7232 - val_root_mean_squared_error: 0.3653\n",
      "Epoch 45/100\n",
      "\u001b[1m36/36\u001b[0m \u001b[32m━━━━━━━━━━━━━━━━━━━━\u001b[0m\u001b[37m\u001b[0m \u001b[1m0s\u001b[0m 6ms/step - loss: 0.6797 - root_mean_squared_error: 0.3414 - val_loss: 0.7206 - val_root_mean_squared_error: 0.3638\n",
      "Epoch 46/100\n",
      "\u001b[1m36/36\u001b[0m \u001b[32m━━━━━━━━━━━━━━━━━━━━\u001b[0m\u001b[37m\u001b[0m \u001b[1m0s\u001b[0m 9ms/step - loss: 0.6998 - root_mean_squared_error: 0.3528 - val_loss: 0.7203 - val_root_mean_squared_error: 0.3635\n",
      "Epoch 47/100\n",
      "\u001b[1m36/36\u001b[0m \u001b[32m━━━━━━━━━━━━━━━━━━━━\u001b[0m\u001b[37m\u001b[0m \u001b[1m0s\u001b[0m 6ms/step - loss: 0.6749 - root_mean_squared_error: 0.3348 - val_loss: 0.7233 - val_root_mean_squared_error: 0.3652\n",
      "Epoch 48/100\n",
      "\u001b[1m36/36\u001b[0m \u001b[32m━━━━━━━━━━━━━━━━━━━━\u001b[0m\u001b[37m\u001b[0m \u001b[1m0s\u001b[0m 5ms/step - loss: 0.6869 - root_mean_squared_error: 0.3395 - val_loss: 0.7239 - val_root_mean_squared_error: 0.3656\n",
      "Epoch 49/100\n",
      "\u001b[1m36/36\u001b[0m \u001b[32m━━━━━━━━━━━━━━━━━━━━\u001b[0m\u001b[37m\u001b[0m \u001b[1m0s\u001b[0m 4ms/step - loss: 0.6805 - root_mean_squared_error: 0.3398 - val_loss: 0.7228 - val_root_mean_squared_error: 0.3650\n",
      "Epoch 50/100\n",
      "\u001b[1m36/36\u001b[0m \u001b[32m━━━━━━━━━━━━━━━━━━━━\u001b[0m\u001b[37m\u001b[0m \u001b[1m0s\u001b[0m 5ms/step - loss: 0.7029 - root_mean_squared_error: 0.3573 - val_loss: 0.7238 - val_root_mean_squared_error: 0.3656\n",
      "Epoch 51/100\n",
      "\u001b[1m36/36\u001b[0m \u001b[32m━━━━━━━━━━━━━━━━━━━━\u001b[0m\u001b[37m\u001b[0m \u001b[1m0s\u001b[0m 4ms/step - loss: 0.6832 - root_mean_squared_error: 0.3457 - val_loss: 0.7238 - val_root_mean_squared_error: 0.3655\n",
      "Epoch 52/100\n",
      "\u001b[1m36/36\u001b[0m \u001b[32m━━━━━━━━━━━━━━━━━━━━\u001b[0m\u001b[37m\u001b[0m \u001b[1m0s\u001b[0m 7ms/step - loss: 0.6831 - root_mean_squared_error: 0.3402 - val_loss: 0.7242 - val_root_mean_squared_error: 0.3658\n",
      "Epoch 53/100\n",
      "\u001b[1m36/36\u001b[0m \u001b[32m━━━━━━━━━━━━━━━━━━━━\u001b[0m\u001b[37m\u001b[0m \u001b[1m0s\u001b[0m 6ms/step - loss: 0.6994 - root_mean_squared_error: 0.3559 - val_loss: 0.7222 - val_root_mean_squared_error: 0.3647\n",
      "Epoch 54/100\n",
      "\u001b[1m36/36\u001b[0m \u001b[32m━━━━━━━━━━━━━━━━━━━━\u001b[0m\u001b[37m\u001b[0m \u001b[1m0s\u001b[0m 6ms/step - loss: 0.6810 - root_mean_squared_error: 0.3430 - val_loss: 0.7229 - val_root_mean_squared_error: 0.3651\n",
      "Epoch 55/100\n",
      "\u001b[1m36/36\u001b[0m \u001b[32m━━━━━━━━━━━━━━━━━━━━\u001b[0m\u001b[37m\u001b[0m \u001b[1m0s\u001b[0m 6ms/step - loss: 0.6783 - root_mean_squared_error: 0.3345 - val_loss: 0.7247 - val_root_mean_squared_error: 0.3662\n",
      "Epoch 56/100\n",
      "\u001b[1m36/36\u001b[0m \u001b[32m━━━━━━━━━━━━━━━━━━━━\u001b[0m\u001b[37m\u001b[0m \u001b[1m0s\u001b[0m 5ms/step - loss: 0.6781 - root_mean_squared_error: 0.3411 - val_loss: 0.7252 - val_root_mean_squared_error: 0.3665\n",
      "Epoch 57/100\n",
      "\u001b[1m36/36\u001b[0m \u001b[32m━━━━━━━━━━━━━━━━━━━━\u001b[0m\u001b[37m\u001b[0m \u001b[1m0s\u001b[0m 4ms/step - loss: 0.6775 - root_mean_squared_error: 0.3450 - val_loss: 0.7211 - val_root_mean_squared_error: 0.3639\n",
      "Epoch 58/100\n",
      "\u001b[1m36/36\u001b[0m \u001b[32m━━━━━━━━━━━━━━━━━━━━\u001b[0m\u001b[37m\u001b[0m \u001b[1m0s\u001b[0m 5ms/step - loss: 0.6786 - root_mean_squared_error: 0.3381 - val_loss: 0.7199 - val_root_mean_squared_error: 0.3633\n",
      "Epoch 59/100\n",
      "\u001b[1m36/36\u001b[0m \u001b[32m━━━━━━━━━━━━━━━━━━━━\u001b[0m\u001b[37m\u001b[0m \u001b[1m0s\u001b[0m 4ms/step - loss: 0.6846 - root_mean_squared_error: 0.3375 - val_loss: 0.7213 - val_root_mean_squared_error: 0.3639\n",
      "Epoch 60/100\n",
      "\u001b[1m36/36\u001b[0m \u001b[32m━━━━━━━━━━━━━━━━━━━━\u001b[0m\u001b[37m\u001b[0m \u001b[1m0s\u001b[0m 4ms/step - loss: 0.6714 - root_mean_squared_error: 0.3381 - val_loss: 0.7214 - val_root_mean_squared_error: 0.3641\n",
      "Epoch 61/100\n",
      "\u001b[1m36/36\u001b[0m \u001b[32m━━━━━━━━━━━━━━━━━━━━\u001b[0m\u001b[37m\u001b[0m \u001b[1m0s\u001b[0m 4ms/step - loss: 0.6806 - root_mean_squared_error: 0.3398 - val_loss: 0.7226 - val_root_mean_squared_error: 0.3647\n",
      "Epoch 62/100\n",
      "\u001b[1m36/36\u001b[0m \u001b[32m━━━━━━━━━━━━━━━━━━━━\u001b[0m\u001b[37m\u001b[0m \u001b[1m0s\u001b[0m 6ms/step - loss: 0.6914 - root_mean_squared_error: 0.3496 - val_loss: 0.7226 - val_root_mean_squared_error: 0.3647\n",
      "Epoch 63/100\n",
      "\u001b[1m36/36\u001b[0m \u001b[32m━━━━━━━━━━━━━━━━━━━━\u001b[0m\u001b[37m\u001b[0m \u001b[1m0s\u001b[0m 5ms/step - loss: 0.6722 - root_mean_squared_error: 0.3344 - val_loss: 0.7221 - val_root_mean_squared_error: 0.3644\n",
      "Epoch 64/100\n",
      "\u001b[1m36/36\u001b[0m \u001b[32m━━━━━━━━━━━━━━━━━━━━\u001b[0m\u001b[37m\u001b[0m \u001b[1m0s\u001b[0m 5ms/step - loss: 0.6724 - root_mean_squared_error: 0.3364 - val_loss: 0.7217 - val_root_mean_squared_error: 0.3641\n",
      "Epoch 65/100\n",
      "\u001b[1m36/36\u001b[0m \u001b[32m━━━━━━━━━━━━━━━━━━━━\u001b[0m\u001b[37m\u001b[0m \u001b[1m0s\u001b[0m 5ms/step - loss: 0.6603 - root_mean_squared_error: 0.3266 - val_loss: 0.7231 - val_root_mean_squared_error: 0.3648\n",
      "Epoch 66/100\n",
      "\u001b[1m36/36\u001b[0m \u001b[32m━━━━━━━━━━━━━━━━━━━━\u001b[0m\u001b[37m\u001b[0m \u001b[1m0s\u001b[0m 6ms/step - loss: 0.6696 - root_mean_squared_error: 0.3294 - val_loss: 0.7230 - val_root_mean_squared_error: 0.3649\n",
      "Epoch 67/100\n",
      "\u001b[1m36/36\u001b[0m \u001b[32m━━━━━━━━━━━━━━━━━━━━\u001b[0m\u001b[37m\u001b[0m \u001b[1m0s\u001b[0m 7ms/step - loss: 0.6778 - root_mean_squared_error: 0.3372 - val_loss: 0.7260 - val_root_mean_squared_error: 0.3667\n",
      "Epoch 68/100\n",
      "\u001b[1m36/36\u001b[0m \u001b[32m━━━━━━━━━━━━━━━━━━━━\u001b[0m\u001b[37m\u001b[0m \u001b[1m0s\u001b[0m 6ms/step - loss: 0.6655 - root_mean_squared_error: 0.3312 - val_loss: 0.7265 - val_root_mean_squared_error: 0.3670\n",
      "Epoch 69/100\n",
      "\u001b[1m36/36\u001b[0m \u001b[32m━━━━━━━━━━━━━━━━━━━━\u001b[0m\u001b[37m\u001b[0m \u001b[1m0s\u001b[0m 5ms/step - loss: 0.6768 - root_mean_squared_error: 0.3403 - val_loss: 0.7268 - val_root_mean_squared_error: 0.3672\n",
      "Epoch 70/100\n",
      "\u001b[1m36/36\u001b[0m \u001b[32m━━━━━━━━━━━━━━━━━━━━\u001b[0m\u001b[37m\u001b[0m \u001b[1m0s\u001b[0m 5ms/step - loss: 0.6808 - root_mean_squared_error: 0.3373 - val_loss: 0.7268 - val_root_mean_squared_error: 0.3672\n",
      "Epoch 71/100\n",
      "\u001b[1m36/36\u001b[0m \u001b[32m━━━━━━━━━━━━━━━━━━━━\u001b[0m\u001b[37m\u001b[0m \u001b[1m0s\u001b[0m 6ms/step - loss: 0.6705 - root_mean_squared_error: 0.3354 - val_loss: 0.7245 - val_root_mean_squared_error: 0.3658\n",
      "Epoch 72/100\n",
      "\u001b[1m36/36\u001b[0m \u001b[32m━━━━━━━━━━━━━━━━━━━━\u001b[0m\u001b[37m\u001b[0m \u001b[1m0s\u001b[0m 5ms/step - loss: 0.6711 - root_mean_squared_error: 0.3356 - val_loss: 0.7244 - val_root_mean_squared_error: 0.3658\n",
      "Epoch 73/100\n",
      "\u001b[1m36/36\u001b[0m \u001b[32m━━━━━━━━━━━━━━━━━━━━\u001b[0m\u001b[37m\u001b[0m \u001b[1m0s\u001b[0m 6ms/step - loss: 0.6702 - root_mean_squared_error: 0.3370 - val_loss: 0.7226 - val_root_mean_squared_error: 0.3648\n",
      "Epoch 74/100\n",
      "\u001b[1m36/36\u001b[0m \u001b[32m━━━━━━━━━━━━━━━━━━━━\u001b[0m\u001b[37m\u001b[0m \u001b[1m0s\u001b[0m 5ms/step - loss: 0.6871 - root_mean_squared_error: 0.3439 - val_loss: 0.7222 - val_root_mean_squared_error: 0.3645\n",
      "Epoch 75/100\n",
      "\u001b[1m36/36\u001b[0m \u001b[32m━━━━━━━━━━━━━━━━━━━━\u001b[0m\u001b[37m\u001b[0m \u001b[1m0s\u001b[0m 6ms/step - loss: 0.6851 - root_mean_squared_error: 0.3378 - val_loss: 0.7223 - val_root_mean_squared_error: 0.3645\n",
      "Epoch 76/100\n",
      "\u001b[1m36/36\u001b[0m \u001b[32m━━━━━━━━━━━━━━━━━━━━\u001b[0m\u001b[37m\u001b[0m \u001b[1m0s\u001b[0m 6ms/step - loss: 0.6775 - root_mean_squared_error: 0.3327 - val_loss: 0.7239 - val_root_mean_squared_error: 0.3654\n",
      "Epoch 77/100\n",
      "\u001b[1m36/36\u001b[0m \u001b[32m━━━━━━━━━━━━━━━━━━━━\u001b[0m\u001b[37m\u001b[0m \u001b[1m0s\u001b[0m 5ms/step - loss: 0.6811 - root_mean_squared_error: 0.3393 - val_loss: 0.7252 - val_root_mean_squared_error: 0.3662\n",
      "Epoch 78/100\n",
      "\u001b[1m36/36\u001b[0m \u001b[32m━━━━━━━━━━━━━━━━━━━━\u001b[0m\u001b[37m\u001b[0m \u001b[1m0s\u001b[0m 6ms/step - loss: 0.6748 - root_mean_squared_error: 0.3369 - val_loss: 0.7239 - val_root_mean_squared_error: 0.3654\n",
      "Epoch 79/100\n",
      "\u001b[1m36/36\u001b[0m \u001b[32m━━━━━━━━━━━━━━━━━━━━\u001b[0m\u001b[37m\u001b[0m \u001b[1m0s\u001b[0m 5ms/step - loss: 0.6634 - root_mean_squared_error: 0.3291 - val_loss: 0.7238 - val_root_mean_squared_error: 0.3654\n",
      "Epoch 80/100\n",
      "\u001b[1m36/36\u001b[0m \u001b[32m━━━━━━━━━━━━━━━━━━━━\u001b[0m\u001b[37m\u001b[0m \u001b[1m0s\u001b[0m 5ms/step - loss: 0.6804 - root_mean_squared_error: 0.3426 - val_loss: 0.7247 - val_root_mean_squared_error: 0.3658\n",
      "Epoch 81/100\n",
      "\u001b[1m36/36\u001b[0m \u001b[32m━━━━━━━━━━━━━━━━━━━━\u001b[0m\u001b[37m\u001b[0m \u001b[1m0s\u001b[0m 5ms/step - loss: 0.6790 - root_mean_squared_error: 0.3387 - val_loss: 0.7250 - val_root_mean_squared_error: 0.3660\n",
      "Epoch 82/100\n",
      "\u001b[1m36/36\u001b[0m \u001b[32m━━━━━━━━━━━━━━━━━━━━\u001b[0m\u001b[37m\u001b[0m \u001b[1m0s\u001b[0m 5ms/step - loss: 0.6775 - root_mean_squared_error: 0.3366 - val_loss: 0.7273 - val_root_mean_squared_error: 0.3673\n",
      "Epoch 83/100\n",
      "\u001b[1m36/36\u001b[0m \u001b[32m━━━━━━━━━━━━━━━━━━━━\u001b[0m\u001b[37m\u001b[0m \u001b[1m0s\u001b[0m 5ms/step - loss: 0.6666 - root_mean_squared_error: 0.3342 - val_loss: 0.7276 - val_root_mean_squared_error: 0.3676\n",
      "Epoch 84/100\n",
      "\u001b[1m36/36\u001b[0m \u001b[32m━━━━━━━━━━━━━━━━━━━━\u001b[0m\u001b[37m\u001b[0m \u001b[1m0s\u001b[0m 5ms/step - loss: 0.6744 - root_mean_squared_error: 0.3385 - val_loss: 0.7263 - val_root_mean_squared_error: 0.3669\n",
      "Epoch 85/100\n",
      "\u001b[1m36/36\u001b[0m \u001b[32m━━━━━━━━━━━━━━━━━━━━\u001b[0m\u001b[37m\u001b[0m \u001b[1m0s\u001b[0m 5ms/step - loss: 0.6615 - root_mean_squared_error: 0.3237 - val_loss: 0.7268 - val_root_mean_squared_error: 0.3672\n",
      "Epoch 86/100\n",
      "\u001b[1m36/36\u001b[0m \u001b[32m━━━━━━━━━━━━━━━━━━━━\u001b[0m\u001b[37m\u001b[0m \u001b[1m0s\u001b[0m 5ms/step - loss: 0.6686 - root_mean_squared_error: 0.3372 - val_loss: 0.7316 - val_root_mean_squared_error: 0.3700\n",
      "Epoch 87/100\n",
      "\u001b[1m36/36\u001b[0m \u001b[32m━━━━━━━━━━━━━━━━━━━━\u001b[0m\u001b[37m\u001b[0m \u001b[1m0s\u001b[0m 4ms/step - loss: 0.6803 - root_mean_squared_error: 0.3364 - val_loss: 0.7293 - val_root_mean_squared_error: 0.3685\n",
      "Epoch 88/100\n",
      "\u001b[1m36/36\u001b[0m \u001b[32m━━━━━━━━━━━━━━━━━━━━\u001b[0m\u001b[37m\u001b[0m \u001b[1m0s\u001b[0m 4ms/step - loss: 0.6611 - root_mean_squared_error: 0.3302 - val_loss: 0.7287 - val_root_mean_squared_error: 0.3682\n",
      "Epoch 89/100\n",
      "\u001b[1m36/36\u001b[0m \u001b[32m━━━━━━━━━━━━━━━━━━━━\u001b[0m\u001b[37m\u001b[0m \u001b[1m0s\u001b[0m 4ms/step - loss: 0.6707 - root_mean_squared_error: 0.3365 - val_loss: 0.7277 - val_root_mean_squared_error: 0.3677\n",
      "Epoch 90/100\n",
      "\u001b[1m36/36\u001b[0m \u001b[32m━━━━━━━━━━━━━━━━━━━━\u001b[0m\u001b[37m\u001b[0m \u001b[1m0s\u001b[0m 4ms/step - loss: 0.6659 - root_mean_squared_error: 0.3289 - val_loss: 0.7274 - val_root_mean_squared_error: 0.3675\n",
      "Epoch 91/100\n",
      "\u001b[1m36/36\u001b[0m \u001b[32m━━━━━━━━━━━━━━━━━━━━\u001b[0m\u001b[37m\u001b[0m \u001b[1m0s\u001b[0m 4ms/step - loss: 0.6682 - root_mean_squared_error: 0.3343 - val_loss: 0.7256 - val_root_mean_squared_error: 0.3666\n",
      "Epoch 92/100\n",
      "\u001b[1m36/36\u001b[0m \u001b[32m━━━━━━━━━━━━━━━━━━━━\u001b[0m\u001b[37m\u001b[0m \u001b[1m0s\u001b[0m 5ms/step - loss: 0.6555 - root_mean_squared_error: 0.3257 - val_loss: 0.7251 - val_root_mean_squared_error: 0.3662\n",
      "Epoch 93/100\n",
      "\u001b[1m36/36\u001b[0m \u001b[32m━━━━━━━━━━━━━━━━━━━━\u001b[0m\u001b[37m\u001b[0m \u001b[1m0s\u001b[0m 4ms/step - loss: 0.6582 - root_mean_squared_error: 0.3277 - val_loss: 0.7263 - val_root_mean_squared_error: 0.3669\n",
      "Epoch 94/100\n",
      "\u001b[1m36/36\u001b[0m \u001b[32m━━━━━━━━━━━━━━━━━━━━\u001b[0m\u001b[37m\u001b[0m \u001b[1m0s\u001b[0m 4ms/step - loss: 0.6666 - root_mean_squared_error: 0.3330 - val_loss: 0.7267 - val_root_mean_squared_error: 0.3671\n",
      "Epoch 95/100\n",
      "\u001b[1m36/36\u001b[0m \u001b[32m━━━━━━━━━━━━━━━━━━━━\u001b[0m\u001b[37m\u001b[0m \u001b[1m0s\u001b[0m 5ms/step - loss: 0.6640 - root_mean_squared_error: 0.3258 - val_loss: 0.7258 - val_root_mean_squared_error: 0.3664\n",
      "Epoch 96/100\n",
      "\u001b[1m36/36\u001b[0m \u001b[32m━━━━━━━━━━━━━━━━━━━━\u001b[0m\u001b[37m\u001b[0m \u001b[1m0s\u001b[0m 6ms/step - loss: 0.6714 - root_mean_squared_error: 0.3296 - val_loss: 0.7272 - val_root_mean_squared_error: 0.3672\n",
      "Epoch 97/100\n",
      "\u001b[1m36/36\u001b[0m \u001b[32m━━━━━━━━━━━━━━━━━━━━\u001b[0m\u001b[37m\u001b[0m \u001b[1m0s\u001b[0m 5ms/step - loss: 0.6598 - root_mean_squared_error: 0.3293 - val_loss: 0.7287 - val_root_mean_squared_error: 0.3682\n",
      "Epoch 98/100\n",
      "\u001b[1m36/36\u001b[0m \u001b[32m━━━━━━━━━━━━━━━━━━━━\u001b[0m\u001b[37m\u001b[0m \u001b[1m0s\u001b[0m 4ms/step - loss: 0.6643 - root_mean_squared_error: 0.3287 - val_loss: 0.7273 - val_root_mean_squared_error: 0.3673\n",
      "Epoch 99/100\n",
      "\u001b[1m36/36\u001b[0m \u001b[32m━━━━━━━━━━━━━━━━━━━━\u001b[0m\u001b[37m\u001b[0m \u001b[1m0s\u001b[0m 4ms/step - loss: 0.6711 - root_mean_squared_error: 0.3389 - val_loss: 0.7277 - val_root_mean_squared_error: 0.3675\n",
      "Epoch 100/100\n",
      "\u001b[1m36/36\u001b[0m \u001b[32m━━━━━━━━━━━━━━━━━━━━\u001b[0m\u001b[37m\u001b[0m \u001b[1m0s\u001b[0m 7ms/step - loss: 0.6571 - root_mean_squared_error: 0.3266 - val_loss: 0.7276 - val_root_mean_squared_error: 0.3674\n",
      "Training Model CF Selesai.\n"
     ]
    }
   ],
   "source": [
    "if MODEL_CF_PREPARED:\n",
    "    # Mendefinisikan arsitektur model (RecommenderNet)\n",
    "    # Fungsi dan kelas sudah didefinisikan di CELL 2\n",
    "    model_keras_cf = RecommenderNet(num_users_cf, num_places_cf_model, embedding_size=50)\n",
    "    \n",
    "    # Kompilasi model\n",
    "    model_keras_cf.compile(\n",
    "        loss=tf.keras.losses.BinaryCrossentropy(),\n",
    "        optimizer=keras.optimizers.Adam(learning_rate=0.001),\n",
    "        metrics=[tf.keras.metrics.RootMeanSquaredError()]\n",
    "    )\n",
    "    \n",
    "    # Melatih model\n",
    "    print(\"Melatih model Keras RecommenderNet...\")\n",
    "    history_cf = model_keras_cf.fit(\n",
    "        x=x_train_cf, \n",
    "        y=y_train_cf,\n",
    "        batch_size=64, \n",
    "        epochs=100,\n",
    "        validation_data=validation_data_keras,\n",
    "        verbose=1\n",
    "    )\n",
    "    \n",
    "    MODEL_CF_SUCCESS = True\n",
    "    results['CF_history'] = history_cf.history\n",
    "    print(\"Training Model CF Selesai.\")\n",
    "else:\n",
    "    print(\"Model CF tidak dilatih karena persiapan data gagal atau data tidak memadai.\")"
   ]
  },
  {
   "cell_type": "markdown",
   "id": "e7070266",
   "metadata": {},
   "source": [
    "### Uji Coba Model CF"
   ]
  },
  {
   "cell_type": "code",
   "execution_count": 25,
   "id": "ac8006ce",
   "metadata": {},
   "outputs": [
    {
     "name": "stdout",
     "output_type": "stream",
     "text": [
      "[CF Keras] Contoh Top-5 Rekomendasi untuk User ID: 1\n"
     ]
    },
    {
     "data": {
      "text/html": [
       "<style type=\"text/css\">\n",
       "</style>\n",
       "<table id=\"T_ca27e\">\n",
       "  <thead>\n",
       "    <tr>\n",
       "      <th id=\"T_ca27e_level0_col0\" class=\"col_heading level0 col0\" >Place_Id</th>\n",
       "      <th id=\"T_ca27e_level0_col1\" class=\"col_heading level0 col1\" >Place_Name</th>\n",
       "      <th id=\"T_ca27e_level0_col2\" class=\"col_heading level0 col2\" >Category</th>\n",
       "      <th id=\"T_ca27e_level0_col3\" class=\"col_heading level0 col3\" >Rating</th>\n",
       "      <th id=\"T_ca27e_level0_col4\" class=\"col_heading level0 col4\" >Predicted_Normalized_Rating</th>\n",
       "    </tr>\n",
       "  </thead>\n",
       "  <tbody>\n",
       "    <tr>\n",
       "      <td id=\"T_ca27e_row0_col0\" class=\"data row0 col0\" >139</td>\n",
       "      <td id=\"T_ca27e_row0_col1\" class=\"data row0 col1\" >Puncak Gunung Api Purba - Nglanggeran</td>\n",
       "      <td id=\"T_ca27e_row0_col2\" class=\"data row0 col2\" >Cagar Alam</td>\n",
       "      <td id=\"T_ca27e_row0_col3\" class=\"data row0 col3\" >4.700000</td>\n",
       "      <td id=\"T_ca27e_row0_col4\" class=\"data row0 col4\" >0.769608</td>\n",
       "    </tr>\n",
       "    <tr>\n",
       "      <td id=\"T_ca27e_row1_col0\" class=\"data row1 col0\" >138</td>\n",
       "      <td id=\"T_ca27e_row1_col1\" class=\"data row1 col1\" >Jogja Exotarium</td>\n",
       "      <td id=\"T_ca27e_row1_col2\" class=\"data row1 col2\" >Taman Hiburan</td>\n",
       "      <td id=\"T_ca27e_row1_col3\" class=\"data row1 col3\" >4.400000</td>\n",
       "      <td id=\"T_ca27e_row1_col4\" class=\"data row1 col4\" >0.730769</td>\n",
       "    </tr>\n",
       "    <tr>\n",
       "      <td id=\"T_ca27e_row2_col0\" class=\"data row2 col0\" >132</td>\n",
       "      <td id=\"T_ca27e_row2_col1\" class=\"data row2 col1\" >Air Terjun Kedung Pedut</td>\n",
       "      <td id=\"T_ca27e_row2_col2\" class=\"data row2 col2\" >Cagar Alam</td>\n",
       "      <td id=\"T_ca27e_row2_col3\" class=\"data row2 col3\" >4.500000</td>\n",
       "      <td id=\"T_ca27e_row2_col4\" class=\"data row2 col4\" >0.723506</td>\n",
       "    </tr>\n",
       "    <tr>\n",
       "      <td id=\"T_ca27e_row3_col0\" class=\"data row3 col0\" >134</td>\n",
       "      <td id=\"T_ca27e_row3_col1\" class=\"data row3 col1\" >Desa Wisata Gamplong</td>\n",
       "      <td id=\"T_ca27e_row3_col2\" class=\"data row3 col2\" >Taman Hiburan</td>\n",
       "      <td id=\"T_ca27e_row3_col3\" class=\"data row3 col3\" >4.400000</td>\n",
       "      <td id=\"T_ca27e_row3_col4\" class=\"data row3 col4\" >0.712936</td>\n",
       "    </tr>\n",
       "    <tr>\n",
       "      <td id=\"T_ca27e_row4_col0\" class=\"data row4 col0\" >136</td>\n",
       "      <td id=\"T_ca27e_row4_col1\" class=\"data row4 col1\" >Grojogan Watu Purbo Bangunrejo</td>\n",
       "      <td id=\"T_ca27e_row4_col2\" class=\"data row4 col2\" >Taman Hiburan</td>\n",
       "      <td id=\"T_ca27e_row4_col3\" class=\"data row4 col3\" >4.500000</td>\n",
       "      <td id=\"T_ca27e_row4_col4\" class=\"data row4 col4\" >0.710067</td>\n",
       "    </tr>\n",
       "  </tbody>\n",
       "</table>\n"
      ],
      "text/plain": [
       "<pandas.io.formats.style.Styler at 0x21fa7135cc0>"
      ]
     },
     "metadata": {},
     "output_type": "display_data"
    }
   ],
   "source": [
    "if MODEL_CF_SUCCESS:\n",
    "    # Menggabungkan semua mapping yang dibutuhkan oleh fungsi rekomendasi\n",
    "    cf_mappings = {\n",
    "        'user_to_user_encoded': user_to_user_encoded_cf,\n",
    "        'place_to_place_encoded': place_to_place_encoded_cf,\n",
    "        'place_encoded_to_place': place_encoded_to_place_cf\n",
    "    }\n",
    "    \n",
    "    # Mengambil sampel user untuk pengujian\n",
    "    sample_user_id_cf_keras = df_rating_yogya_cf['User_Id'].unique()[0]\n",
    "    results['CF_Keras_sample_user_id'] = sample_user_id_cf_keras\n",
    "    print(f\"[CF Keras] Contoh Top-5 Rekomendasi untuk User ID: {sample_user_id_cf_keras}\")\n",
    "    \n",
    "    # Memanggil fungsi untuk mendapatkan rekomendasi\n",
    "    top_5_recs_cf_keras = get_top_n_recommendations_keras_cf(\n",
    "        user_real_id=sample_user_id_cf_keras, \n",
    "        model=model_keras_cf, \n",
    "        tourism_df_all_yogya=df_tourism_yogya, \n",
    "        rating_df_yogya_cf=df_rating_yogya_cf, \n",
    "        mappings=cf_mappings\n",
    "    )\n",
    "    results['CF_Keras_example_recommendations'] = top_5_recs_cf_keras\n",
    "    \n",
    "    # Menampilkan hasil\n",
    "    if isinstance(top_5_recs_cf_keras, pd.DataFrame) and not top_5_recs_cf_keras.empty:\n",
    "        display(top_5_recs_cf_keras.style.hide(axis=\"index\"))\n",
    "    else:\n",
    "        print(f\"Tidak ada rekomendasi baru untuk User ID {sample_user_id_cf_keras}.\")\n",
    "else:\n",
    "    print(\"Uji Coba Model CF tidak dapat dilakukan karena model tidak berhasil dilatih.\")"
   ]
  },
  {
   "cell_type": "markdown",
   "id": "785d0c05",
   "metadata": {},
   "source": [
    "## **Evaluation**"
   ]
  },
  {
   "cell_type": "markdown",
   "id": "639aceb8",
   "metadata": {},
   "source": [
    "### Evaluasi Model Collaborative Filtering"
   ]
  },
  {
   "cell_type": "code",
   "execution_count": 26,
   "id": "e8a3776c",
   "metadata": {},
   "outputs": [
    {
     "data": {
      "image/png": "[encoded data removed]",
      "text/plain": [
       "<Figure size 1200x500 with 2 Axes>"
      ]
     },
     "metadata": {},
     "output_type": "display_data"
    },
    {
     "name": "stdout",
     "output_type": "stream",
     "text": [
      "  Metrik Evaluasi (Final Validation RMSE): 0.3674\n"
     ]
    }
   ],
   "source": [
    "if MODEL_CF_SUCCESS:\n",
    "    history_data = results.get('CF_history', {})\n",
    "    plt.figure(figsize=(12, 5))\n",
    "    plt.subplot(1, 2, 1)\n",
    "    plt.plot(history_data.get('root_mean_squared_error', []), label='Training RMSE')\n",
    "    plt.plot(history_data.get('val_root_mean_squared_error', []), label='Validation RMSE')\n",
    "    plt.title('Training and Validation RMSE'); plt.xlabel('Epoch'); plt.ylabel('RMSE'); plt.legend()\n",
    "    plt.subplot(1, 2, 2)\n",
    "    plt.plot(history_data.get('loss', []), label='Training Loss')\n",
    "    plt.plot(history_data.get('val_loss', []), label='Validation Loss')\n",
    "    plt.title('Training and Validation Loss'); plt.xlabel('Epoch'); plt.ylabel('Loss'); plt.legend()\n",
    "    plt.tight_layout()\n",
    "    plt.show()\n",
    "    final_val_rmse = history_data.get('val_root_mean_squared_error', [None])[-1]\n",
    "    results['CF_Keras_Val_RMSE'] = final_val_rmse\n",
    "    print(f\"  Metrik Evaluasi (Final Validation RMSE): {final_val_rmse:.4f}\" if final_val_rmse else \"N/A\")\n",
    "else:\n",
    "    print(\"  Model CF (Keras) tidak dievaluasi.\")"
   ]
  },
  {
   "cell_type": "markdown",
   "id": "b88b7d0f",
   "metadata": {},
   "source": [
    "### Evaluasi Model Content-Based Filtering"
   ]
  },
  {
   "cell_type": "code",
   "execution_count": 27,
   "id": "8ca1e462",
   "metadata": {},
   "outputs": [
    {
     "name": "stdout",
     "output_type": "stream",
     "text": [
      "  Evaluasi Kualitatif: Model ini dievaluasi secara kualitatif berdasarkan relevansi item yang direkomendasikan.\n",
      "  Dimensi Matriks TF-IDF: (126, 2151)\n",
      "\n",
      "  Visualisasi Similarity Score untuk rekomendasi 'Taman Pintar Yogyakarta':\n"
     ]
    },
    {
     "data": {
      "image/png": "[encoded data removed]",
      "text/plain": [
       "<Figure size 1000x500 with 1 Axes>"
      ]
     },
     "metadata": {},
     "output_type": "display_data"
    }
   ],
   "source": [
    "if MODEL_CBF_SUCCESS:\n",
    "    print(f\"  Evaluasi Kualitatif: Model ini dievaluasi secara kualitatif berdasarkan relevansi item yang direkomendasikan.\")\n",
    "    print(f\"  Dimensi Matriks TF-IDF: {results.get('CBF_tfidf_matrix_shape', 'N/A')}\")\n",
    "    recs_cbf_df = results.get('CBF_example_recommendations', pd.DataFrame())\n",
    "    if isinstance(recs_cbf_df, pd.DataFrame) and not recs_cbf_df.empty:\n",
    "        print(f\"\\n  Visualisasi Similarity Score untuk rekomendasi '{results.get('CBF_sample_place_name', 'N/A')}':\")\n",
    "        plt.figure(figsize=(10, 5))\n",
    "        sns.barplot(x='similarity_score', y='Place_Name', data=recs_cbf_df, palette='magma')\n",
    "        plt.title(f\"Visualisasi Similarity Score\"); plt.xlabel('Similarity Score'); plt.ylabel('Nama Tempat Wisata'); plt.xlim(0, 1)\n",
    "        plt.tight_layout()\n",
    "        plt.show()\n",
    "    else: \n",
    "        print(f\"  Contoh Rekomendasi CBF: Tidak ada atau gagal.\")\n",
    "else:\n",
    "    print(\"  Model CBF tidak berhasil dilatih atau dievaluasi.\")"
   ]
  },
  {
   "cell_type": "markdown",
   "id": "910c3f4f",
   "metadata": {},
   "source": [
    "## **Penyimpanan Model**"
   ]
  },
  {
   "cell_type": "markdown",
   "id": "47e89097",
   "metadata": {},
   "source": [
    "### Membuat folder `saved_model`"
   ]
  },
  {
   "cell_type": "code",
   "execution_count": 28,
   "id": "aa3124b7",
   "metadata": {},
   "outputs": [
    {
     "name": "stdout",
     "output_type": "stream",
     "text": [
      "Folder 'saved_model' berhasil dibuat.\n"
     ]
    }
   ],
   "source": [
    "save_dir = 'saved_model'\n",
    "if not os.path.exists(save_dir):\n",
    "    os.makedirs(save_dir)\n",
    "    print(f\"Folder '{save_dir}' berhasil dibuat.\")"
   ]
  },
  {
   "cell_type": "markdown",
   "id": "6f3d8c25",
   "metadata": {},
   "source": [
    "### Menyimpan Model Content-Based Filtering"
   ]
  },
  {
   "cell_type": "code",
   "execution_count": 29,
   "id": "115e5d7f",
   "metadata": {},
   "outputs": [
    {
     "name": "stdout",
     "output_type": "stream",
     "text": [
      "Menyimpan Model Content-Based Filtering ---\n",
      "Artefak CBF berhasil disimpan di folder 'saved_model'.\n"
     ]
    }
   ],
   "source": [
    "if MODEL_CBF_SUCCESS:\n",
    "    print(\"Menyimpan Model Content-Based Filtering ---\")\n",
    "    pickle.dump(tfidf_vectorizer, open(os.path.join(save_dir, 'cbf_tfidf_vectorizer.pkl'), 'wb'))\n",
    "    np.save(os.path.join(save_dir, 'cbf_cosine_similarity_matrix.npy'), cosine_sim_cbf)\n",
    "    df_tourism_yogya_cbf_display.to_csv(os.path.join(save_dir, 'cbf_tourism_data.csv'), index=False)\n",
    "    print(f\"Artefak CBF berhasil disimpan di folder '{save_dir}'.\")\n",
    "else:\n",
    "    print(\"Model CBF tidak berhasil, tidak ada yang disimpan.\")"
   ]
  },
  {
   "cell_type": "markdown",
   "id": "e11395d3",
   "metadata": {},
   "source": [
    "### Menyimpan Model Collaborative Filtering"
   ]
  },
  {
   "cell_type": "code",
   "execution_count": 30,
   "id": "8fe58cda",
   "metadata": {},
   "outputs": [
    {
     "name": "stdout",
     "output_type": "stream",
     "text": [
      "Menyimpan Model Collaborative Filtering ---\n",
      "Model CF (Keras) dan data mapping berhasil disimpan di folder 'saved_model'.\n"
     ]
    }
   ],
   "source": [
    "if MODEL_CF_SUCCESS:\n",
    "    print(\"Menyimpan Model Collaborative Filtering ---\")\n",
    "    # Menambahkan ekstensi .keras pada nama file sesuai rekomendasi TensorFlow\n",
    "    model_keras_cf.save(os.path.join(save_dir, 'cf_recommender_keras_model.keras'))\n",
    "    cf_mappings = {'user_to_user_encoded': user_to_user_encoded_cf, 'place_to_place_encoded': place_to_place_encoded_cf, 'place_encoded_to_place': place_encoded_to_place_cf}\n",
    "    with open(os.path.join(save_dir, 'cf_mappings.pkl'), 'wb') as f:\n",
    "        pickle.dump(cf_mappings, f)\n",
    "    print(f\"Model CF (Keras) dan data mapping berhasil disimpan di folder '{save_dir}'.\")\n",
    "else:\n",
    "    print(\"Model CF tidak berhasil, tidak ada yang disimpan.\")"
   ]
  }
 ],
 "metadata": {
  "kernelspec": {
   "display_name": "Python 3",
   "language": "python",
   "name": "python3"
  },
  "language_info": {
   "codemirror_mode": {
    "name": "ipython",
    "version": 3
   },
   "file_extension": ".py",
   "mimetype": "text/x-python",
   "name": "python",
   "nbconvert_exporter": "python",
   "pygments_lexer": "ipython3",
   "version": "3.10.9"
  }
 },
 "nbformat": 4,
 "nbformat_minor": 5
}
